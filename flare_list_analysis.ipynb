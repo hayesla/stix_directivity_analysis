{
 "cells": [
  {
   "cell_type": "code",
   "execution_count": 1,
   "id": "21dd72c0",
   "metadata": {},
   "outputs": [],
   "source": [
    "import pandas as pd \n",
    "import urllib\n",
    "import matplotlib.pyplot as plt\n",
    "from matplotlib import dates, colors\n",
    "import numpy as np \n",
    "from matplotlib import dates\n",
    "from scipy.io import readsav\n",
    "from sunpy.net import Fido, attrs as a\n",
    "from astropy.time import Time, TimeDelta\n",
    "import astrospice\n",
    "from astropy.coordinates import SkyCoord\n",
    "from sunpy.coordinates import frames\n",
    "from astropy import units as u"
   ]
  },
  {
   "cell_type": "markdown",
   "id": "9d3ef901",
   "metadata": {},
   "source": [
    "## Fermi/GBM flare list"
   ]
  },
  {
   "cell_type": "code",
   "execution_count": 2,
   "id": "eaf1f7ae",
   "metadata": {},
   "outputs": [],
   "source": [
    "def get_fermi_flare_list():\n",
    "    url = \"https://hesperia.gsfc.nasa.gov/fermi/gbm/qlook/fermi_gbm_flare_list.txt\"\n",
    "    urllib.request.urlretrieve(url, url.split(\"/\")[-1])"
   ]
  },
  {
   "cell_type": "code",
   "execution_count": 3,
   "id": "e22ddf82",
   "metadata": {},
   "outputs": [],
   "source": [
    "fermi_flares = pd.read_csv(\"fermi_gbm_flare_list.txt\", skiprows=8, skipfooter=35, \n",
    "                 encoding = \"ISO-8859-1\", delim_whitespace=True, engine=\"python\",\n",
    "                 usecols=[0,1,2,3,4,5,6, 7, 8, 9, 10, 11], \n",
    "                 names=[\"flare\", \"date\", \"ts\", \"tp\", \"te\", \"dur\", \"peak counts\", \n",
    "                        \"total_counts\", \"sun_det0\", \"sun_det1\", \"sun_det2\", \"sun_det3\"])"
   ]
  },
  {
   "cell_type": "code",
   "execution_count": 4,
   "id": "19f6ad28",
   "metadata": {},
   "outputs": [],
   "source": [
    "fermi_flares[\"t_start\"] = pd.to_datetime(fermi_flares[\"date\"] + fermi_flares[\"ts\"], format=\"%d-%b-%Y%H:%M:%S\")\n",
    "fermi_flares[\"t_peak\"] = pd.to_datetime(fermi_flares[\"date\"] + fermi_flares[\"tp\"], format=\"%d-%b-%Y%H:%M:%S\")\n",
    "fermi_flares[\"t_end\"] = pd.to_datetime(fermi_flares[\"date\"] + fermi_flares[\"te\"], format=\"%d-%b-%Y%H:%M:%S\")"
   ]
  },
  {
   "cell_type": "code",
   "execution_count": 5,
   "id": "6b215fe6",
   "metadata": {},
   "outputs": [],
   "source": [
    "fermi_flares.drop(columns=[\"ts\", \"tp\", \"te\"], inplace=True)"
   ]
  },
  {
   "cell_type": "code",
   "execution_count": 6,
   "id": "2d310512",
   "metadata": {},
   "outputs": [
    {
     "data": {
      "text/html": [
       "<div>\n",
       "<style scoped>\n",
       "    .dataframe tbody tr th:only-of-type {\n",
       "        vertical-align: middle;\n",
       "    }\n",
       "\n",
       "    .dataframe tbody tr th {\n",
       "        vertical-align: top;\n",
       "    }\n",
       "\n",
       "    .dataframe thead th {\n",
       "        text-align: right;\n",
       "    }\n",
       "</style>\n",
       "<table border=\"1\" class=\"dataframe\">\n",
       "  <thead>\n",
       "    <tr style=\"text-align: right;\">\n",
       "      <th></th>\n",
       "      <th>flare</th>\n",
       "      <th>date</th>\n",
       "      <th>dur</th>\n",
       "      <th>peak counts</th>\n",
       "      <th>total_counts</th>\n",
       "      <th>sun_det0</th>\n",
       "      <th>sun_det1</th>\n",
       "      <th>sun_det2</th>\n",
       "      <th>sun_det3</th>\n",
       "      <th>t_start</th>\n",
       "      <th>t_peak</th>\n",
       "      <th>t_end</th>\n",
       "    </tr>\n",
       "  </thead>\n",
       "  <tbody>\n",
       "    <tr>\n",
       "      <th>0</th>\n",
       "      <td>081211_1142</td>\n",
       "      <td>11-Dec-2008</td>\n",
       "      <td>197</td>\n",
       "      <td>2408</td>\n",
       "      <td>90103</td>\n",
       "      <td>n5</td>\n",
       "      <td>n1</td>\n",
       "      <td>n3</td>\n",
       "      <td>n4</td>\n",
       "      <td>2008-12-11 11:42:14</td>\n",
       "      <td>2008-12-11 11:42:51</td>\n",
       "      <td>2008-12-11 11:45:31</td>\n",
       "    </tr>\n",
       "    <tr>\n",
       "      <th>1</th>\n",
       "      <td>090706_1702</td>\n",
       "      <td>6-Jul-2009</td>\n",
       "      <td>139</td>\n",
       "      <td>2434</td>\n",
       "      <td>45224</td>\n",
       "      <td>n5</td>\n",
       "      <td>n1</td>\n",
       "      <td>n3</td>\n",
       "      <td>n4</td>\n",
       "      <td>2009-07-06 17:02:53</td>\n",
       "      <td>2009-07-06 17:03:10</td>\n",
       "      <td>2009-07-06 17:05:13</td>\n",
       "    </tr>\n",
       "    <tr>\n",
       "      <th>2</th>\n",
       "      <td>091025_0216</td>\n",
       "      <td>25-Oct-2009</td>\n",
       "      <td>1114</td>\n",
       "      <td>3859</td>\n",
       "      <td>553653</td>\n",
       "      <td>n5</td>\n",
       "      <td>n1</td>\n",
       "      <td>n3</td>\n",
       "      <td>n4</td>\n",
       "      <td>2009-10-25 02:16:59</td>\n",
       "      <td>2009-10-25 02:21:29</td>\n",
       "      <td>2009-10-25 02:35:33</td>\n",
       "    </tr>\n",
       "  </tbody>\n",
       "</table>\n",
       "</div>"
      ],
      "text/plain": [
       "         flare         date   dur  peak counts  total_counts sun_det0  \\\n",
       "0  081211_1142  11-Dec-2008   197         2408         90103       n5   \n",
       "1  090706_1702   6-Jul-2009   139         2434         45224       n5   \n",
       "2  091025_0216  25-Oct-2009  1114         3859        553653       n5   \n",
       "\n",
       "  sun_det1 sun_det2 sun_det3             t_start              t_peak  \\\n",
       "0       n1       n3       n4 2008-12-11 11:42:14 2008-12-11 11:42:51   \n",
       "1       n1       n3       n4 2009-07-06 17:02:53 2009-07-06 17:03:10   \n",
       "2       n1       n3       n4 2009-10-25 02:16:59 2009-10-25 02:21:29   \n",
       "\n",
       "                t_end  \n",
       "0 2008-12-11 11:45:31  \n",
       "1 2009-07-06 17:05:13  \n",
       "2 2009-10-25 02:35:33  "
      ]
     },
     "execution_count": 6,
     "metadata": {},
     "output_type": "execute_result"
    }
   ],
   "source": [
    "fermi_flares.head(3)"
   ]
  },
  {
   "cell_type": "code",
   "execution_count": 7,
   "id": "9a9e5e74",
   "metadata": {},
   "outputs": [],
   "source": [
    "new_fermi_flares = fermi_flares[fermi_flares[\"t_start\"] > \"2021-01-01\"]\n",
    "new_fermi_flares.reset_index(inplace=True, drop=True)"
   ]
  },
  {
   "cell_type": "code",
   "execution_count": 8,
   "id": "134aa630",
   "metadata": {},
   "outputs": [
    {
     "data": {
      "text/html": [
       "<div>\n",
       "<style scoped>\n",
       "    .dataframe tbody tr th:only-of-type {\n",
       "        vertical-align: middle;\n",
       "    }\n",
       "\n",
       "    .dataframe tbody tr th {\n",
       "        vertical-align: top;\n",
       "    }\n",
       "\n",
       "    .dataframe thead th {\n",
       "        text-align: right;\n",
       "    }\n",
       "</style>\n",
       "<table border=\"1\" class=\"dataframe\">\n",
       "  <thead>\n",
       "    <tr style=\"text-align: right;\">\n",
       "      <th></th>\n",
       "      <th>flare</th>\n",
       "      <th>date</th>\n",
       "      <th>dur</th>\n",
       "      <th>peak counts</th>\n",
       "      <th>total_counts</th>\n",
       "      <th>sun_det0</th>\n",
       "      <th>sun_det1</th>\n",
       "      <th>sun_det2</th>\n",
       "      <th>sun_det3</th>\n",
       "      <th>t_start</th>\n",
       "      <th>t_peak</th>\n",
       "      <th>t_end</th>\n",
       "    </tr>\n",
       "  </thead>\n",
       "  <tbody>\n",
       "    <tr>\n",
       "      <th>104</th>\n",
       "      <td>211101_0123</td>\n",
       "      <td>1-Nov-2021</td>\n",
       "      <td>1204</td>\n",
       "      <td>8195</td>\n",
       "      <td>3203613</td>\n",
       "      <td>n5</td>\n",
       "      <td>n1</td>\n",
       "      <td>n3</td>\n",
       "      <td>n4</td>\n",
       "      <td>2021-11-01 01:23:41</td>\n",
       "      <td>2021-11-01 01:29:46</td>\n",
       "      <td>2021-11-01 01:43:45</td>\n",
       "    </tr>\n",
       "    <tr>\n",
       "      <th>105</th>\n",
       "      <td>211101_2042</td>\n",
       "      <td>1-Nov-2021</td>\n",
       "      <td>131</td>\n",
       "      <td>3356</td>\n",
       "      <td>52127</td>\n",
       "      <td>n5</td>\n",
       "      <td>n4</td>\n",
       "      <td>n2</td>\n",
       "      <td>n1</td>\n",
       "      <td>2021-11-01 20:42:15</td>\n",
       "      <td>2021-11-01 20:43:12</td>\n",
       "      <td>2021-11-01 20:44:26</td>\n",
       "    </tr>\n",
       "    <tr>\n",
       "      <th>106</th>\n",
       "      <td>211101_2153</td>\n",
       "      <td>1-Nov-2021</td>\n",
       "      <td>373</td>\n",
       "      <td>1386</td>\n",
       "      <td>77564</td>\n",
       "      <td>n3</td>\n",
       "      <td>n1</td>\n",
       "      <td>n0</td>\n",
       "      <td>n5</td>\n",
       "      <td>2021-11-01 21:53:35</td>\n",
       "      <td>2021-11-01 21:54:08</td>\n",
       "      <td>2021-11-01 21:59:48</td>\n",
       "    </tr>\n",
       "    <tr>\n",
       "      <th>107</th>\n",
       "      <td>211101_2337</td>\n",
       "      <td>1-Nov-2021</td>\n",
       "      <td>267</td>\n",
       "      <td>14644</td>\n",
       "      <td>743262</td>\n",
       "      <td>n5</td>\n",
       "      <td>n1</td>\n",
       "      <td>n3</td>\n",
       "      <td>n0</td>\n",
       "      <td>2021-11-01 23:37:21</td>\n",
       "      <td>2021-11-01 23:39:18</td>\n",
       "      <td>2021-11-01 23:41:48</td>\n",
       "    </tr>\n",
       "    <tr>\n",
       "      <th>108</th>\n",
       "      <td>211102_0211</td>\n",
       "      <td>2-Nov-2021</td>\n",
       "      <td>3316</td>\n",
       "      <td>8568</td>\n",
       "      <td>2503123</td>\n",
       "      <td>n5</td>\n",
       "      <td>n4</td>\n",
       "      <td>n2</td>\n",
       "      <td>n1</td>\n",
       "      <td>2021-11-02 02:11:31</td>\n",
       "      <td>2021-11-02 02:59:46</td>\n",
       "      <td>2021-11-02 03:06:47</td>\n",
       "    </tr>\n",
       "    <tr>\n",
       "      <th>...</th>\n",
       "      <td>...</td>\n",
       "      <td>...</td>\n",
       "      <td>...</td>\n",
       "      <td>...</td>\n",
       "      <td>...</td>\n",
       "      <td>...</td>\n",
       "      <td>...</td>\n",
       "      <td>...</td>\n",
       "      <td>...</td>\n",
       "      <td>...</td>\n",
       "      <td>...</td>\n",
       "      <td>...</td>\n",
       "    </tr>\n",
       "    <tr>\n",
       "      <th>553</th>\n",
       "      <td>220712_0323</td>\n",
       "      <td>12-Jul-2022</td>\n",
       "      <td>495</td>\n",
       "      <td>51376</td>\n",
       "      <td>3479191</td>\n",
       "      <td>n5</td>\n",
       "      <td>n1</td>\n",
       "      <td>n3</td>\n",
       "      <td>n0</td>\n",
       "      <td>2022-07-12 03:23:57</td>\n",
       "      <td>2022-07-12 03:25:24</td>\n",
       "      <td>2022-07-12 03:32:12</td>\n",
       "    </tr>\n",
       "    <tr>\n",
       "      <th>554</th>\n",
       "      <td>220712_0940</td>\n",
       "      <td>12-Jul-2022</td>\n",
       "      <td>123</td>\n",
       "      <td>4639</td>\n",
       "      <td>192209</td>\n",
       "      <td>n1</td>\n",
       "      <td>n5</td>\n",
       "      <td>n3</td>\n",
       "      <td>n0</td>\n",
       "      <td>2022-07-12 09:40:43</td>\n",
       "      <td>2022-07-12 09:41:16</td>\n",
       "      <td>2022-07-12 09:42:47</td>\n",
       "    </tr>\n",
       "    <tr>\n",
       "      <th>555</th>\n",
       "      <td>220712_1224</td>\n",
       "      <td>12-Jul-2022</td>\n",
       "      <td>557</td>\n",
       "      <td>699</td>\n",
       "      <td>79192</td>\n",
       "      <td>n5</td>\n",
       "      <td>n1</td>\n",
       "      <td>n3</td>\n",
       "      <td>n0</td>\n",
       "      <td>2022-07-12 12:24:43</td>\n",
       "      <td>2022-07-12 12:27:27</td>\n",
       "      <td>2022-07-12 12:34:00</td>\n",
       "    </tr>\n",
       "    <tr>\n",
       "      <th>556</th>\n",
       "      <td>220712_1352</td>\n",
       "      <td>12-Jul-2022</td>\n",
       "      <td>273</td>\n",
       "      <td>10753</td>\n",
       "      <td>808531</td>\n",
       "      <td>n5</td>\n",
       "      <td>n4</td>\n",
       "      <td>n2</td>\n",
       "      <td>n1</td>\n",
       "      <td>2022-07-12 13:52:27</td>\n",
       "      <td>2022-07-12 13:53:45</td>\n",
       "      <td>2022-07-12 13:57:00</td>\n",
       "    </tr>\n",
       "    <tr>\n",
       "      <th>557</th>\n",
       "      <td>220712_2331</td>\n",
       "      <td>12-Jul-2022</td>\n",
       "      <td>168</td>\n",
       "      <td>1277</td>\n",
       "      <td>34551</td>\n",
       "      <td>n5</td>\n",
       "      <td>n3</td>\n",
       "      <td>n1</td>\n",
       "      <td>n4</td>\n",
       "      <td>2022-07-12 23:31:05</td>\n",
       "      <td>2022-07-12 23:31:17</td>\n",
       "      <td>2022-07-12 23:33:53</td>\n",
       "    </tr>\n",
       "  </tbody>\n",
       "</table>\n",
       "<p>454 rows × 12 columns</p>\n",
       "</div>"
      ],
      "text/plain": [
       "           flare         date   dur  peak counts  total_counts sun_det0  \\\n",
       "104  211101_0123   1-Nov-2021  1204         8195       3203613       n5   \n",
       "105  211101_2042   1-Nov-2021   131         3356         52127       n5   \n",
       "106  211101_2153   1-Nov-2021   373         1386         77564       n3   \n",
       "107  211101_2337   1-Nov-2021   267        14644        743262       n5   \n",
       "108  211102_0211   2-Nov-2021  3316         8568       2503123       n5   \n",
       "..           ...          ...   ...          ...           ...      ...   \n",
       "553  220712_0323  12-Jul-2022   495        51376       3479191       n5   \n",
       "554  220712_0940  12-Jul-2022   123         4639        192209       n1   \n",
       "555  220712_1224  12-Jul-2022   557          699         79192       n5   \n",
       "556  220712_1352  12-Jul-2022   273        10753        808531       n5   \n",
       "557  220712_2331  12-Jul-2022   168         1277         34551       n5   \n",
       "\n",
       "    sun_det1 sun_det2 sun_det3             t_start              t_peak  \\\n",
       "104       n1       n3       n4 2021-11-01 01:23:41 2021-11-01 01:29:46   \n",
       "105       n4       n2       n1 2021-11-01 20:42:15 2021-11-01 20:43:12   \n",
       "106       n1       n0       n5 2021-11-01 21:53:35 2021-11-01 21:54:08   \n",
       "107       n1       n3       n0 2021-11-01 23:37:21 2021-11-01 23:39:18   \n",
       "108       n4       n2       n1 2021-11-02 02:11:31 2021-11-02 02:59:46   \n",
       "..       ...      ...      ...                 ...                 ...   \n",
       "553       n1       n3       n0 2022-07-12 03:23:57 2022-07-12 03:25:24   \n",
       "554       n5       n3       n0 2022-07-12 09:40:43 2022-07-12 09:41:16   \n",
       "555       n1       n3       n0 2022-07-12 12:24:43 2022-07-12 12:27:27   \n",
       "556       n4       n2       n1 2022-07-12 13:52:27 2022-07-12 13:53:45   \n",
       "557       n3       n1       n4 2022-07-12 23:31:05 2022-07-12 23:31:17   \n",
       "\n",
       "                  t_end  \n",
       "104 2021-11-01 01:43:45  \n",
       "105 2021-11-01 20:44:26  \n",
       "106 2021-11-01 21:59:48  \n",
       "107 2021-11-01 23:41:48  \n",
       "108 2021-11-02 03:06:47  \n",
       "..                  ...  \n",
       "553 2022-07-12 03:32:12  \n",
       "554 2022-07-12 09:42:47  \n",
       "555 2022-07-12 12:34:00  \n",
       "556 2022-07-12 13:57:00  \n",
       "557 2022-07-12 23:33:53  \n",
       "\n",
       "[454 rows x 12 columns]"
      ]
     },
     "execution_count": 8,
     "metadata": {},
     "output_type": "execute_result"
    }
   ],
   "source": [
    "new_fermi_flares[new_fermi_flares[\"t_start\"]>=\"2021-11-01\"]"
   ]
  },
  {
   "cell_type": "code",
   "execution_count": 9,
   "id": "ee43b44f",
   "metadata": {},
   "outputs": [
    {
     "data": {
      "image/png": "[encoded data removed]",
      "text/plain": [
       "<Figure size 432x288 with 1 Axes>"
      ]
     },
     "metadata": {
      "needs_background": "light"
     },
     "output_type": "display_data"
    }
   ],
   "source": [
    "_ = plt.hist(np.log10(new_fermi_flares[\"total_counts\"].values), bins=60, density=True)"
   ]
  },
  {
   "cell_type": "code",
   "execution_count": 10,
   "id": "925806d1",
   "metadata": {},
   "outputs": [
    {
     "data": {
      "image/png": "[encoded data removed]",
      "text/plain": [
       "<Figure size 432x288 with 1 Axes>"
      ]
     },
     "metadata": {
      "needs_background": "light"
     },
     "output_type": "display_data"
    }
   ],
   "source": [
    "plt.scatter(fermi_flares[\"t_peak\"], fermi_flares[\"total_counts\"], c=fermi_flares[\"total_counts\"], \n",
    "            norm=colors.LogNorm())\n",
    "plt.yscale(\"log\")"
   ]
  },
  {
   "cell_type": "code",
   "execution_count": 11,
   "id": "41b7f733",
   "metadata": {},
   "outputs": [],
   "source": [
    "fermi_flares[\"unique_month\"] = fermi_flares[\"t_peak\"].dt.strftime(\"%Y-%m\")"
   ]
  },
  {
   "cell_type": "code",
   "execution_count": 12,
   "id": "fc67dc56",
   "metadata": {},
   "outputs": [
    {
     "data": {
      "text/plain": [
       "Text(0.5, 0, 'Time')"
      ]
     },
     "execution_count": 12,
     "metadata": {},
     "output_type": "execute_result"
    },
    {
     "data": {
      "image/png": "[encoded data removed]",
      "text/plain": [
       "<Figure size 432x288 with 1 Axes>"
      ]
     },
     "metadata": {
      "needs_background": "light"
     },
     "output_type": "display_data"
    }
   ],
   "source": [
    "fig, ax = plt.subplots()\n",
    "fermi_flares.groupby(\"unique_month\").count()[\"flare\"].plot(drawstyle=\"steps-mid\")\n",
    "ax.set_ylabel(\"Number of flares\")\n",
    "ax.set_xlabel(\"Time\")"
   ]
  },
  {
   "cell_type": "markdown",
   "id": "b1f4f6ff",
   "metadata": {},
   "source": [
    "## GOES flare list"
   ]
  },
  {
   "cell_type": "code",
   "execution_count": 13,
   "id": "9d6184d0",
   "metadata": {},
   "outputs": [],
   "source": [
    "# res = Fido.search(a.Time(\"2021-01-01\", \"2022-07-18\"), \n",
    "#                   a.hek.EventType(\"FL\"),\n",
    "#                   a.hek.FL.GOESCls >= \"C1.0\")"
   ]
  },
  {
   "cell_type": "code",
   "execution_count": 14,
   "id": "3f7f7be9",
   "metadata": {},
   "outputs": [],
   "source": [
    "# new_table = res[\"hek\"][\"event_starttime\", \"event_peaktime\",\n",
    "#                         \"event_endtime\", \"fl_goescls\", \"ar_noaanum\", 'hpc_x', 'hpc_y', \"frm_name\"]\n",
    "# new_table2 = new_table[new_table[\"frm_name\"]==\"SWPC\"]\n",
    "# new_table2.to_pandas().to_csv(\"goes_flares_20210101_20220718.csv\", index_label=False)"
   ]
  },
  {
   "cell_type": "code",
   "execution_count": 15,
   "id": "c2424b76",
   "metadata": {},
   "outputs": [],
   "source": [
    "hek_flares = pd.read_csv(\"goes_flares_20210101_20220718.csv\")\n",
    "swpc_flares = pd.read_csv(\"swpc_flarelist_20100101-20220717_concat.csv\")"
   ]
  },
  {
   "cell_type": "code",
   "execution_count": 16,
   "id": "1fbbece1",
   "metadata": {},
   "outputs": [],
   "source": [
    "hek_flares[\"tstart_dt\"] = pd.to_datetime(hek_flares[\"event_starttime\"])"
   ]
  },
  {
   "cell_type": "code",
   "execution_count": 17,
   "id": "b2120f7e",
   "metadata": {},
   "outputs": [],
   "source": [
    "def get_goes_class(x):\n",
    "    if x[0]==\"C\":\n",
    "        return float(x[1:])*1e-6\n",
    "    elif x[0] == \"M\":\n",
    "        return float(x[1:])*(1e-5)\n",
    "    elif x[0] == \"X\":\n",
    "        return float(x[1:])*(1e-4)\n",
    "    elif x[0] == \"B\":\n",
    "        return float(x[1:])*(1e-7)\n",
    "    elif x[0] == \"A\":\n",
    "        return float(x[1:])*(1e-8)\n",
    "    else:\n",
    "        return\n",
    "\n"
   ]
  },
  {
   "cell_type": "code",
   "execution_count": 18,
   "id": "416545e3",
   "metadata": {},
   "outputs": [],
   "source": [
    "hek_flares[\"goes_flux\"] = hek_flares[\"fl_goescls\"].map(get_goes_class)"
   ]
  },
  {
   "cell_type": "code",
   "execution_count": 19,
   "id": "0e3edeed",
   "metadata": {},
   "outputs": [
    {
     "data": {
      "text/plain": [
       "array(['C', 'M', 'X'], dtype=object)"
      ]
     },
     "execution_count": 19,
     "metadata": {},
     "output_type": "execute_result"
    }
   ],
   "source": [
    "swpc_flares[\"goes_class_ind\"].unique()"
   ]
  },
  {
   "cell_type": "code",
   "execution_count": 20,
   "id": "966e459e",
   "metadata": {},
   "outputs": [],
   "source": [
    "swpc_flares[\"tstart_dt\"] = pd.to_datetime(swpc_flares[\"ts\"], format=\"%Y%m%d%H%M%S\")\n",
    "swpc_flares[\"unique_month\"] = swpc_flares.tstart_dt.dt.strftime(\"%Y-%m\")\n",
    "# swpc_flares_new = swp"
   ]
  },
  {
   "cell_type": "code",
   "execution_count": 21,
   "id": "d4aa3e23",
   "metadata": {},
   "outputs": [
    {
     "data": {
      "text/plain": [
       "unique_month\n",
       "2010-01     34\n",
       "2010-02     53\n",
       "2010-03      9\n",
       "2010-04      1\n",
       "2010-05      9\n",
       "          ... \n",
       "2022-03    150\n",
       "2022-04    224\n",
       "2022-05    256\n",
       "2022-06    107\n",
       "2022-07    119\n",
       "Name: goes_class_ind, Length: 127, dtype: int64"
      ]
     },
     "execution_count": 21,
     "metadata": {},
     "output_type": "execute_result"
    }
   ],
   "source": [
    "swpc_flares.groupby(\"unique_month\").count()[\"goes_class_ind\"]"
   ]
  },
  {
   "cell_type": "code",
   "execution_count": 23,
   "id": "def78ea7",
   "metadata": {},
   "outputs": [
    {
     "data": {
      "image/png": "[encoded data removed]",
      "text/plain": [
       "<Figure size 432x288 with 2 Axes>"
      ]
     },
     "metadata": {
      "needs_background": "light"
     },
     "output_type": "display_data"
    }
   ],
   "source": [
    "fig, ax = plt.subplots()\n",
    "plt.plot(pd.to_datetime(swpc_flares.groupby(\"unique_month\").count().index), \n",
    "         swpc_flares.groupby(\"unique_month\").count()[\"goes_class_ind\"],\n",
    "         drawstyle=\"steps-mid\", label=\"GOES flares > C1\")\n",
    "plt.plot(np.nan, color='r', label=\"Fermi/GBM flares\")\n",
    "ax2 = ax.twinx()\n",
    "ax2.plot(pd.to_datetime(fermi_flares.groupby(\"unique_month\").count().index), \n",
    "         fermi_flares.groupby(\"unique_month\").count()[\"flare\"],\n",
    "         drawstyle=\"steps-mid\", color='r')\n",
    "ax.set_ylabel(\"Number of flares\")\n",
    "ax.set_xlabel(\"Time\")\n",
    "ax.legend()\n",
    "\n",
    "plt.savefig(\"fermi_flare_rate.png\")"
   ]
  },
  {
   "cell_type": "markdown",
   "id": "7bfaaf61",
   "metadata": {},
   "source": [
    "## STIX flares"
   ]
  },
  {
   "cell_type": "code",
   "execution_count": 24,
   "id": "36883c57",
   "metadata": {},
   "outputs": [],
   "source": [
    "from stixdcpy.net import JSONRequest as jreq"
   ]
  },
  {
   "cell_type": "code",
   "execution_count": 25,
   "id": "01604985",
   "metadata": {},
   "outputs": [],
   "source": [
    "flares=jreq.fetch_flare_list('2021-01-01T00:00:00', '2021-12-31T00:00:00', sort='goes')\n",
    "flares2=jreq.fetch_flare_list('2022-01-01T00:00:00', '2022-06-01T00:00:00', sort='goes')"
   ]
  },
  {
   "cell_type": "code",
   "execution_count": 26,
   "id": "c19a0383",
   "metadata": {},
   "outputs": [],
   "source": [
    "df1 = pd.DataFrame(flares)\n",
    "df2 = pd.DataFrame(flares2)"
   ]
  },
  {
   "cell_type": "code",
   "execution_count": 27,
   "id": "c1bd3999",
   "metadata": {},
   "outputs": [],
   "source": [
    "stix_flares = pd.concat([df1, df2])"
   ]
  },
  {
   "cell_type": "code",
   "execution_count": 28,
   "id": "16642090",
   "metadata": {},
   "outputs": [],
   "source": [
    "#stix_flares.to_csv(\"stix_flares_20210101_20220601.csv\", index_label=False)"
   ]
  },
  {
   "cell_type": "code",
   "execution_count": 29,
   "id": "8c27b56b",
   "metadata": {},
   "outputs": [],
   "source": [
    "stix_flares[\"start_UTC\"] = pd.to_datetime(stix_flares[\"start_UTC\"])"
   ]
  },
  {
   "cell_type": "code",
   "execution_count": 30,
   "id": "f87a00d4",
   "metadata": {},
   "outputs": [],
   "source": [
    "stix_flares.sort_values(by=\"start_UTC\", inplace=True)"
   ]
  },
  {
   "cell_type": "code",
   "execution_count": 31,
   "id": "a0eda4e9",
   "metadata": {},
   "outputs": [],
   "source": [
    "stix_flares.reset_index(drop=True, inplace=True)"
   ]
  },
  {
   "cell_type": "code",
   "execution_count": 32,
   "id": "ba8c9bbf",
   "metadata": {},
   "outputs": [
    {
     "data": {
      "text/plain": [
       "flare_id                                2111010120\n",
       "duration                                       116\n",
       "peak_UTC                   2021-11-01T01:20:20.048\n",
       "LC0_BKG                                      271.0\n",
       "_id                                           2694\n",
       "GOES_class                                    C2.1\n",
       "GOES_flux                                 0.000002\n",
       "CFL_X_arcsec                                   NaN\n",
       "CFL_Y_arcsec                                   NaN\n",
       "start_UTC               2021-11-01 01:19:20.048000\n",
       "end_UTC                    2021-11-01T01:21:16.048\n",
       "LC0_peak_counts_4sec                          1855\n",
       "Name: 2329, dtype: object"
      ]
     },
     "execution_count": 32,
     "metadata": {},
     "output_type": "execute_result"
    }
   ],
   "source": [
    "stix_flares[stix_flares[\"start_UTC\"]>=\"2021-11-01\"].iloc[1]"
   ]
  },
  {
   "cell_type": "code",
   "execution_count": 33,
   "id": "08ca8e61",
   "metadata": {},
   "outputs": [
    {
     "data": {
      "text/plain": [
       "flare                   211101_0123\n",
       "date                     1-Nov-2021\n",
       "dur                            1204\n",
       "peak counts                    8195\n",
       "total_counts                3203613\n",
       "sun_det0                         n5\n",
       "sun_det1                         n1\n",
       "sun_det2                         n3\n",
       "sun_det3                         n4\n",
       "t_start         2021-11-01 01:23:41\n",
       "t_peak          2021-11-01 01:29:46\n",
       "t_end           2021-11-01 01:43:45\n",
       "Name: 104, dtype: object"
      ]
     },
     "execution_count": 33,
     "metadata": {},
     "output_type": "execute_result"
    }
   ],
   "source": [
    "new_fermi_flares[new_fermi_flares[\"t_start\"]>=\"2021-11-01\"].iloc[0]"
   ]
  },
  {
   "cell_type": "code",
   "execution_count": 34,
   "id": "19539bea",
   "metadata": {},
   "outputs": [],
   "source": [
    "stix_flares[\"goes_class_ind\"] = [x[0] for x in stix_flares[\"GOES_class\"]]\n",
    "stix_flares_c = stix_flares[stix_flares[\"goes_class_ind\"].isin([\"X\", \"M\", \"C\"])]"
   ]
  },
  {
   "cell_type": "code",
   "execution_count": 35,
   "id": "6c624bd1",
   "metadata": {},
   "outputs": [
    {
     "data": {
      "image/png": "[encoded data removed]",
      "text/plain": [
       "<Figure size 432x288 with 1 Axes>"
      ]
     },
     "metadata": {
      "needs_background": "light"
     },
     "output_type": "display_data"
    }
   ],
   "source": [
    "fig, ax = plt.subplots()\n",
    "plt.plot(stix_flares_c.start_UTC, stix_flares_c.GOES_flux, marker='.', ls='')#=\"steps-mid\")\n",
    "#plt.plot(hek_flares[\"tstart_dt\"], hek_flares[\"goes_flux\"], marker='.', ls='')\n",
    "plt.yscale(\"log\")"
   ]
  },
  {
   "cell_type": "code",
   "execution_count": 36,
   "id": "7c0e9789",
   "metadata": {},
   "outputs": [],
   "source": [
    "stix_flares_c.reset_index(drop=True, inplace=True)"
   ]
  },
  {
   "cell_type": "code",
   "execution_count": 37,
   "id": "62b62b09",
   "metadata": {},
   "outputs": [
    {
     "data": {
      "text/html": [
       "<div>\n",
       "<style scoped>\n",
       "    .dataframe tbody tr th:only-of-type {\n",
       "        vertical-align: middle;\n",
       "    }\n",
       "\n",
       "    .dataframe tbody tr th {\n",
       "        vertical-align: top;\n",
       "    }\n",
       "\n",
       "    .dataframe thead th {\n",
       "        text-align: right;\n",
       "    }\n",
       "</style>\n",
       "<table border=\"1\" class=\"dataframe\">\n",
       "  <thead>\n",
       "    <tr style=\"text-align: right;\">\n",
       "      <th></th>\n",
       "      <th>flare_id</th>\n",
       "      <th>duration</th>\n",
       "      <th>peak_UTC</th>\n",
       "      <th>LC0_BKG</th>\n",
       "      <th>_id</th>\n",
       "      <th>GOES_class</th>\n",
       "      <th>GOES_flux</th>\n",
       "      <th>CFL_X_arcsec</th>\n",
       "      <th>CFL_Y_arcsec</th>\n",
       "      <th>start_UTC</th>\n",
       "      <th>end_UTC</th>\n",
       "      <th>LC0_peak_counts_4sec</th>\n",
       "      <th>goes_class_ind</th>\n",
       "    </tr>\n",
       "  </thead>\n",
       "  <tbody>\n",
       "    <tr>\n",
       "      <th>0</th>\n",
       "      <td>2103022359</td>\n",
       "      <td>200</td>\n",
       "      <td>2021-03-02T23:59:23.152</td>\n",
       "      <td>271.0</td>\n",
       "      <td>353</td>\n",
       "      <td>C1.3</td>\n",
       "      <td>0.000001</td>\n",
       "      <td>-2000.0</td>\n",
       "      <td>-2000.0</td>\n",
       "      <td>2021-03-02 23:58:03.152</td>\n",
       "      <td>2021-03-03T00:01:23.152</td>\n",
       "      <td>12799</td>\n",
       "      <td>C</td>\n",
       "    </tr>\n",
       "    <tr>\n",
       "      <th>1</th>\n",
       "      <td>2103091231</td>\n",
       "      <td>844</td>\n",
       "      <td>2021-03-09T12:31:35.314</td>\n",
       "      <td>271.0</td>\n",
       "      <td>457</td>\n",
       "      <td>C1.7</td>\n",
       "      <td>0.000002</td>\n",
       "      <td>-2000.0</td>\n",
       "      <td>-2000.0</td>\n",
       "      <td>2021-03-09 12:22:03.313</td>\n",
       "      <td>2021-03-09T12:36:07.315</td>\n",
       "      <td>4351</td>\n",
       "      <td>C</td>\n",
       "    </tr>\n",
       "    <tr>\n",
       "      <th>2</th>\n",
       "      <td>2104220449</td>\n",
       "      <td>4556</td>\n",
       "      <td>2021-04-22T04:49:28.943</td>\n",
       "      <td>247.0</td>\n",
       "      <td>586</td>\n",
       "      <td>C3.9</td>\n",
       "      <td>0.000004</td>\n",
       "      <td>0.0</td>\n",
       "      <td>0.0</td>\n",
       "      <td>2021-04-22 04:17:05.039</td>\n",
       "      <td>2021-04-22T05:33:00.947</td>\n",
       "      <td>2687</td>\n",
       "      <td>C</td>\n",
       "    </tr>\n",
       "    <tr>\n",
       "      <th>3</th>\n",
       "      <td>2104232311</td>\n",
       "      <td>532</td>\n",
       "      <td>2021-04-23T23:11:23.798</td>\n",
       "      <td>247.0</td>\n",
       "      <td>587</td>\n",
       "      <td>C2.5</td>\n",
       "      <td>0.000002</td>\n",
       "      <td>1060.0</td>\n",
       "      <td>-520.0</td>\n",
       "      <td>2021-04-23 23:09:07.798</td>\n",
       "      <td>2021-04-23T23:17:59.799</td>\n",
       "      <td>799</td>\n",
       "      <td>C</td>\n",
       "    </tr>\n",
       "    <tr>\n",
       "      <th>4</th>\n",
       "      <td>2105071900</td>\n",
       "      <td>1668</td>\n",
       "      <td>2021-05-07T19:00:15.200</td>\n",
       "      <td>247.0</td>\n",
       "      <td>706</td>\n",
       "      <td>M3.9</td>\n",
       "      <td>0.000039</td>\n",
       "      <td>540.0</td>\n",
       "      <td>270.0</td>\n",
       "      <td>2021-05-07 18:51:07.200</td>\n",
       "      <td>2021-05-07T19:18:55.202</td>\n",
       "      <td>311295</td>\n",
       "      <td>M</td>\n",
       "    </tr>\n",
       "    <tr>\n",
       "      <th>...</th>\n",
       "      <td>...</td>\n",
       "      <td>...</td>\n",
       "      <td>...</td>\n",
       "      <td>...</td>\n",
       "      <td>...</td>\n",
       "      <td>...</td>\n",
       "      <td>...</td>\n",
       "      <td>...</td>\n",
       "      <td>...</td>\n",
       "      <td>...</td>\n",
       "      <td>...</td>\n",
       "      <td>...</td>\n",
       "      <td>...</td>\n",
       "    </tr>\n",
       "    <tr>\n",
       "      <th>2050</th>\n",
       "      <td>2205271156</td>\n",
       "      <td>1080</td>\n",
       "      <td>2022-05-27T11:56:44.300</td>\n",
       "      <td>271.0</td>\n",
       "      <td>7520</td>\n",
       "      <td>C1.7</td>\n",
       "      <td>0.000002</td>\n",
       "      <td>None</td>\n",
       "      <td>None</td>\n",
       "      <td>2022-05-27 11:51:28.300</td>\n",
       "      <td>2022-05-27T12:09:28.302</td>\n",
       "      <td>1471</td>\n",
       "      <td>C</td>\n",
       "    </tr>\n",
       "    <tr>\n",
       "      <th>2051</th>\n",
       "      <td>2205271540</td>\n",
       "      <td>136</td>\n",
       "      <td>2022-05-27T15:40:56.323</td>\n",
       "      <td>247.0</td>\n",
       "      <td>7525</td>\n",
       "      <td>C1.4</td>\n",
       "      <td>0.000001</td>\n",
       "      <td>None</td>\n",
       "      <td>None</td>\n",
       "      <td>2022-05-27 15:40:16.323</td>\n",
       "      <td>2022-05-27T15:42:32.323</td>\n",
       "      <td>335</td>\n",
       "      <td>C</td>\n",
       "    </tr>\n",
       "    <tr>\n",
       "      <th>2052</th>\n",
       "      <td>2205271629</td>\n",
       "      <td>80</td>\n",
       "      <td>2022-05-27T16:29:52.328</td>\n",
       "      <td>247.0</td>\n",
       "      <td>7526</td>\n",
       "      <td>C1.0</td>\n",
       "      <td>0.000001</td>\n",
       "      <td>None</td>\n",
       "      <td>None</td>\n",
       "      <td>2022-05-27 16:29:12.328</td>\n",
       "      <td>2022-05-27T16:30:32.328</td>\n",
       "      <td>399</td>\n",
       "      <td>C</td>\n",
       "    </tr>\n",
       "    <tr>\n",
       "      <th>2053</th>\n",
       "      <td>2205271922</td>\n",
       "      <td>900</td>\n",
       "      <td>2022-05-27T19:22:56.346</td>\n",
       "      <td>247.0</td>\n",
       "      <td>7551</td>\n",
       "      <td>C1.5</td>\n",
       "      <td>0.000001</td>\n",
       "      <td>None</td>\n",
       "      <td>None</td>\n",
       "      <td>2022-05-27 19:16:48.346</td>\n",
       "      <td>2022-05-27T19:31:48.347</td>\n",
       "      <td>543</td>\n",
       "      <td>C</td>\n",
       "    </tr>\n",
       "    <tr>\n",
       "      <th>2054</th>\n",
       "      <td>2205280643</td>\n",
       "      <td>27028</td>\n",
       "      <td>2022-05-28T06:43:08.419</td>\n",
       "      <td>247.0</td>\n",
       "      <td>7558</td>\n",
       "      <td>C1.3</td>\n",
       "      <td>0.000001</td>\n",
       "      <td>None</td>\n",
       "      <td>None</td>\n",
       "      <td>2022-05-28 01:27:16.383</td>\n",
       "      <td>2022-05-28T08:57:44.430</td>\n",
       "      <td>15871</td>\n",
       "      <td>C</td>\n",
       "    </tr>\n",
       "  </tbody>\n",
       "</table>\n",
       "<p>2055 rows × 13 columns</p>\n",
       "</div>"
      ],
      "text/plain": [
       "        flare_id  duration                 peak_UTC  LC0_BKG   _id GOES_class  \\\n",
       "0     2103022359       200  2021-03-02T23:59:23.152    271.0   353       C1.3   \n",
       "1     2103091231       844  2021-03-09T12:31:35.314    271.0   457       C1.7   \n",
       "2     2104220449      4556  2021-04-22T04:49:28.943    247.0   586       C3.9   \n",
       "3     2104232311       532  2021-04-23T23:11:23.798    247.0   587       C2.5   \n",
       "4     2105071900      1668  2021-05-07T19:00:15.200    247.0   706       M3.9   \n",
       "...          ...       ...                      ...      ...   ...        ...   \n",
       "2050  2205271156      1080  2022-05-27T11:56:44.300    271.0  7520       C1.7   \n",
       "2051  2205271540       136  2022-05-27T15:40:56.323    247.0  7525       C1.4   \n",
       "2052  2205271629        80  2022-05-27T16:29:52.328    247.0  7526       C1.0   \n",
       "2053  2205271922       900  2022-05-27T19:22:56.346    247.0  7551       C1.5   \n",
       "2054  2205280643     27028  2022-05-28T06:43:08.419    247.0  7558       C1.3   \n",
       "\n",
       "      GOES_flux CFL_X_arcsec CFL_Y_arcsec               start_UTC  \\\n",
       "0      0.000001      -2000.0      -2000.0 2021-03-02 23:58:03.152   \n",
       "1      0.000002      -2000.0      -2000.0 2021-03-09 12:22:03.313   \n",
       "2      0.000004          0.0          0.0 2021-04-22 04:17:05.039   \n",
       "3      0.000002       1060.0       -520.0 2021-04-23 23:09:07.798   \n",
       "4      0.000039        540.0        270.0 2021-05-07 18:51:07.200   \n",
       "...         ...          ...          ...                     ...   \n",
       "2050   0.000002         None         None 2022-05-27 11:51:28.300   \n",
       "2051   0.000001         None         None 2022-05-27 15:40:16.323   \n",
       "2052   0.000001         None         None 2022-05-27 16:29:12.328   \n",
       "2053   0.000001         None         None 2022-05-27 19:16:48.346   \n",
       "2054   0.000001         None         None 2022-05-28 01:27:16.383   \n",
       "\n",
       "                      end_UTC  LC0_peak_counts_4sec goes_class_ind  \n",
       "0     2021-03-03T00:01:23.152                 12799              C  \n",
       "1     2021-03-09T12:36:07.315                  4351              C  \n",
       "2     2021-04-22T05:33:00.947                  2687              C  \n",
       "3     2021-04-23T23:17:59.799                   799              C  \n",
       "4     2021-05-07T19:18:55.202                311295              M  \n",
       "...                       ...                   ...            ...  \n",
       "2050  2022-05-27T12:09:28.302                  1471              C  \n",
       "2051  2022-05-27T15:42:32.323                   335              C  \n",
       "2052  2022-05-27T16:30:32.328                   399              C  \n",
       "2053  2022-05-27T19:31:48.347                   543              C  \n",
       "2054  2022-05-28T08:57:44.430                 15871              C  \n",
       "\n",
       "[2055 rows x 13 columns]"
      ]
     },
     "execution_count": 37,
     "metadata": {},
     "output_type": "execute_result"
    }
   ],
   "source": [
    "stix_flares_c"
   ]
  },
  {
   "cell_type": "code",
   "execution_count": 56,
   "id": "16491336",
   "metadata": {},
   "outputs": [
    {
     "data": {
      "image/png": "[encoded data removed]",
      "text/plain": [
       "<Figure size 432x288 with 1 Axes>"
      ]
     },
     "metadata": {
      "needs_background": "light"
     },
     "output_type": "display_data"
    }
   ],
   "source": [
    "fig, ax = plt.subplots()\n",
    "ax.hist(np.log10(stix_flares[\"LC0_peak_counts_4sec\"]), bins=85, edgecolor='k', alpha=0.5)\n",
    "# ax2 = ax.twinx()\n",
    "# ax2.hist(np.log10(new_fermi_flares[\"peak counts\"]), bins=100, edgecolor='k', alpha=0.5, color='r')\n",
    "ax.set_yscale(\"log\")\n",
    "\n",
    "ax2.set_yscale(\"log\")\n",
    "ax.set_xlabel(\"Log(peak counts)\")\n",
    "ax.set_ylabel(\"No. of events\")\n",
    "ax.set_title(\"STIX flares (2021-01-01 - 2022-06-01)\")\n",
    "plt.savefig(\"stix_flare_dist.png\")"
   ]
  },
  {
   "cell_type": "code",
   "execution_count": 59,
   "id": "ca1b64ce",
   "metadata": {},
   "outputs": [],
   "source": [
    "stix_flares[\"unique_month\"] = stix_flares[\"start_UTC\"].dt.strftime(\"%Y-%m\")"
   ]
  },
  {
   "cell_type": "code",
   "execution_count": 60,
   "id": "976c4fda",
   "metadata": {},
   "outputs": [
    {
     "data": {
      "text/plain": [
       "Text(0.5, 0, 'Time')"
      ]
     },
     "execution_count": 60,
     "metadata": {},
     "output_type": "execute_result"
    },
    {
     "data": {
      "image/png": "[encoded data removed]",
      "text/plain": [
       "<Figure size 432x288 with 1 Axes>"
      ]
     },
     "metadata": {
      "needs_background": "light"
     },
     "output_type": "display_data"
    }
   ],
   "source": [
    "fig, ax = plt.subplots()\n",
    "stix_flares.groupby(\"unique_month\").count()[\"flare_id\"].plot(drawstyle=\"steps-mid\")\n",
    "ax.set_ylabel(\"Number of flares\")\n",
    "ax.set_xlabel(\"Time\")"
   ]
  },
  {
   "cell_type": "code",
   "execution_count": 63,
   "id": "ce751709",
   "metadata": {},
   "outputs": [
    {
     "data": {
      "image/png": "[encoded data removed]",
      "text/plain": [
       "<Figure size 432x288 with 2 Axes>"
      ]
     },
     "metadata": {
      "needs_background": "light"
     },
     "output_type": "display_data"
    }
   ],
   "source": [
    "fig, ax = plt.subplots()\n",
    "plt.plot(pd.to_datetime(swpc_flares.groupby(\"unique_month\").count().index), \n",
    "         swpc_flares.groupby(\"unique_month\").count()[\"goes_class_ind\"],\n",
    "         drawstyle=\"steps-mid\", label=\"GOES flares > C1\")\n",
    "plt.plot(np.nan, color='r', label=\"STIX flares\")\n",
    "ax2 = ax.twinx()\n",
    "\n",
    "\n",
    "ax2.plot(pd.to_datetime(stix_flares.groupby(\"unique_month\").count().index), \n",
    "         stix_flares.groupby(\"unique_month\").count()[\"flare_id\"],\n",
    "         drawstyle=\"steps-mid\", color='r')\n",
    "ax.set_ylabel(\"Number of flares\")\n",
    "ax.set_xlabel(\"Time\")\n",
    "ax.legend(loc=\"upper left\")\n",
    "\n",
    "plt.savefig(\"stix_goes_flare_rate.png\")"
   ]
  },
  {
   "cell_type": "code",
   "execution_count": 78,
   "id": "743aac70",
   "metadata": {},
   "outputs": [
    {
     "data": {
      "text/plain": [
       "6654"
      ]
     },
     "execution_count": 78,
     "metadata": {},
     "output_type": "execute_result"
    }
   ],
   "source": [
    "len(stix_flares)"
   ]
  },
  {
   "cell_type": "code",
   "execution_count": 51,
   "id": "d5eaf93f",
   "metadata": {},
   "outputs": [
    {
     "data": {
      "text/plain": [
       "Index(['flare', 'date', 'dur', 'peak counts', 'total_counts', 'sun_det0',\n",
       "       'sun_det1', 'sun_det2', 'sun_det3', 't_start', 't_peak', 't_end',\n",
       "       'unique_month'],\n",
       "      dtype='object')"
      ]
     },
     "execution_count": 51,
     "metadata": {},
     "output_type": "execute_result"
    }
   ],
   "source": [
    "fermi_flares.keys()"
   ]
  },
  {
   "cell_type": "code",
   "execution_count": 66,
   "id": "e9e663eb",
   "metadata": {},
   "outputs": [
    {
     "name": "stderr",
     "output_type": "stream",
     "text": [
      "/var/folders/wm/gysdzbp10qv1kcm4zxb5q95xkjzv5q/T/ipykernel_92662/3285926970.py:1: SettingWithCopyWarning: \n",
      "A value is trying to be set on a copy of a slice from a DataFrame.\n",
      "Try using .loc[row_indexer,col_indexer] = value instead\n",
      "\n",
      "See the caveats in the documentation: https://pandas.pydata.org/pandas-docs/stable/user_guide/indexing.html#returning-a-view-versus-a-copy\n",
      "  new_fermi_flares[\"unique_month\"] = new_fermi_flares[\"t_peak\"].dt.strftime(\"%Y-%m\")\n"
     ]
    }
   ],
   "source": [
    "new_fermi_flares[\"unique_month\"] = new_fermi_flares[\"t_peak\"].dt.strftime(\"%Y-%m\")"
   ]
  },
  {
   "cell_type": "code",
   "execution_count": 77,
   "id": "ea5d6d2f",
   "metadata": {},
   "outputs": [
    {
     "data": {
      "image/png": "[encoded data removed]",
      "text/plain": [
       "<Figure size 576x432 with 1 Axes>"
      ]
     },
     "metadata": {
      "needs_background": "light"
     },
     "output_type": "display_data"
    }
   ],
   "source": [
    "fig, ax = plt.subplots(figsize=(8, 6))\n",
    "plt.plot(pd.to_datetime(new_fermi_flares.groupby(\"unique_month\").count().index), \n",
    "         new_fermi_flares.groupby(\"unique_month\").count()[\"flare\"],\n",
    "         drawstyle=\"steps-mid\", label=\"Fermi/GBM\", color='k')\n",
    "plt.plot(np.nan, color='r', label=\"STIX flares\")\n",
    "#ax2 = ax.twinx()\n",
    "\n",
    "\n",
    "ax.plot(pd.to_datetime(stix_flares.groupby(\"unique_month\").count().index), \n",
    "         stix_flares.groupby(\"unique_month\").count()[\"flare_id\"],\n",
    "         drawstyle=\"steps-mid\", color='r')\n",
    "ax.set_ylabel(\"Number of GBM flares\")\n",
    "ax2.set_ylabel(\"Number of STIX flares\", color='r')\n",
    "ax.set_xlabel(\"Time\")\n",
    "ax.legend(loc=\"upper left\")\n",
    "# ax.xaxis.set_major_formatter(dates.DateFormatter(\"%Y-%m\"))\n",
    "plt.savefig(\"stix_fermi_flares_same_axis.png\")"
   ]
  },
  {
   "cell_type": "code",
   "execution_count": null,
   "id": "89c799f2",
   "metadata": {},
   "outputs": [],
   "source": []
  },
  {
   "cell_type": "code",
   "execution_count": 54,
   "id": "c0a78048",
   "metadata": {},
   "outputs": [
    {
     "data": {
      "image/png": "[encoded data removed]",
      "text/plain": [
       "<Figure size 432x288 with 1 Axes>"
      ]
     },
     "metadata": {
      "needs_background": "light"
     },
     "output_type": "display_data"
    }
   ],
   "source": [
    "fig, ax = plt.subplots()\n",
    "ax.hist(np.log10(new_fermi_flares[\"peak counts\"]), bins=85, edgecolor='k', alpha=0.5)\n",
    "# ax2 = ax.twinx()\n",
    "# ax2.hist(np.log10(new_fermi_flares[\"peak counts\"]), bins=100, edgecolor='k', alpha=0.5, color='r')\n",
    "ax.set_yscale(\"log\")\n",
    "plt.xlim(2, 6.5)\n",
    "ax2.set_yscale(\"log\")\n",
    "ax.set_xlabel(\"Log(peak counts)\")\n",
    "ax.set_ylabel(\"No. of events\")\n",
    "ax.set_title(\"FERMI flares (2021-01-01 - 2022-06-01)\")\n",
    "plt.savefig(\"new_fermi_flare_dist.png\")"
   ]
  },
  {
   "cell_type": "code",
   "execution_count": null,
   "id": "bbfd8e0d",
   "metadata": {},
   "outputs": [],
   "source": []
  },
  {
   "cell_type": "code",
   "execution_count": null,
   "id": "6a1ba590",
   "metadata": {},
   "outputs": [],
   "source": []
  },
  {
   "cell_type": "code",
   "execution_count": null,
   "id": "5bc880bf",
   "metadata": {},
   "outputs": [],
   "source": []
  },
  {
   "cell_type": "code",
   "execution_count": 40,
   "id": "182d35da",
   "metadata": {},
   "outputs": [
    {
     "data": {
      "text/html": [
       "<div>\n",
       "<style scoped>\n",
       "    .dataframe tbody tr th:only-of-type {\n",
       "        vertical-align: middle;\n",
       "    }\n",
       "\n",
       "    .dataframe tbody tr th {\n",
       "        vertical-align: top;\n",
       "    }\n",
       "\n",
       "    .dataframe thead th {\n",
       "        text-align: right;\n",
       "    }\n",
       "</style>\n",
       "<table border=\"1\" class=\"dataframe\">\n",
       "  <thead>\n",
       "    <tr style=\"text-align: right;\">\n",
       "      <th></th>\n",
       "      <th>flare_id</th>\n",
       "      <th>duration</th>\n",
       "      <th>peak_UTC</th>\n",
       "      <th>LC0_BKG</th>\n",
       "      <th>_id</th>\n",
       "      <th>GOES_class</th>\n",
       "      <th>GOES_flux</th>\n",
       "      <th>CFL_X_arcsec</th>\n",
       "      <th>CFL_Y_arcsec</th>\n",
       "      <th>start_UTC</th>\n",
       "      <th>end_UTC</th>\n",
       "      <th>LC0_peak_counts_4sec</th>\n",
       "      <th>goes_class_ind</th>\n",
       "    </tr>\n",
       "  </thead>\n",
       "  <tbody>\n",
       "    <tr>\n",
       "      <th>0</th>\n",
       "      <td>2101010439</td>\n",
       "      <td>380</td>\n",
       "      <td>2021-01-01T04:39:50.116</td>\n",
       "      <td>247.0</td>\n",
       "      <td>284</td>\n",
       "      <td>B2.1</td>\n",
       "      <td>2.118954e-07</td>\n",
       "      <td>0.0</td>\n",
       "      <td>0.0</td>\n",
       "      <td>2021-01-01 04:38:38.116</td>\n",
       "      <td>2021-01-01T04:44:58.116</td>\n",
       "      <td>463</td>\n",
       "      <td>B</td>\n",
       "    </tr>\n",
       "    <tr>\n",
       "      <th>1</th>\n",
       "      <td>2101011501</td>\n",
       "      <td>344</td>\n",
       "      <td>2021-01-01T15:01:26.174</td>\n",
       "      <td>247.0</td>\n",
       "      <td>285</td>\n",
       "      <td>B1.9</td>\n",
       "      <td>1.905123e-07</td>\n",
       "      <td>NaN</td>\n",
       "      <td>NaN</td>\n",
       "      <td>2021-01-01 14:58:34.174</td>\n",
       "      <td>2021-01-01T15:04:18.174</td>\n",
       "      <td>431</td>\n",
       "      <td>B</td>\n",
       "    </tr>\n",
       "  </tbody>\n",
       "</table>\n",
       "</div>"
      ],
      "text/plain": [
       "     flare_id  duration                 peak_UTC  LC0_BKG  _id GOES_class  \\\n",
       "0  2101010439       380  2021-01-01T04:39:50.116    247.0  284       B2.1   \n",
       "1  2101011501       344  2021-01-01T15:01:26.174    247.0  285       B1.9   \n",
       "\n",
       "      GOES_flux CFL_X_arcsec CFL_Y_arcsec               start_UTC  \\\n",
       "0  2.118954e-07          0.0          0.0 2021-01-01 04:38:38.116   \n",
       "1  1.905123e-07          NaN          NaN 2021-01-01 14:58:34.174   \n",
       "\n",
       "                   end_UTC  LC0_peak_counts_4sec goes_class_ind  \n",
       "0  2021-01-01T04:44:58.116                   463              B  \n",
       "1  2021-01-01T15:04:18.174                   431              B  "
      ]
     },
     "execution_count": 40,
     "metadata": {},
     "output_type": "execute_result"
    }
   ],
   "source": [
    "stix_flares.head(2)"
   ]
  },
  {
   "cell_type": "code",
   "execution_count": 137,
   "id": "cd65869b",
   "metadata": {},
   "outputs": [
    {
     "data": {
      "text/html": [
       "<div>\n",
       "<style scoped>\n",
       "    .dataframe tbody tr th:only-of-type {\n",
       "        vertical-align: middle;\n",
       "    }\n",
       "\n",
       "    .dataframe tbody tr th {\n",
       "        vertical-align: top;\n",
       "    }\n",
       "\n",
       "    .dataframe thead th {\n",
       "        text-align: right;\n",
       "    }\n",
       "</style>\n",
       "<table border=\"1\" class=\"dataframe\">\n",
       "  <thead>\n",
       "    <tr style=\"text-align: right;\">\n",
       "      <th></th>\n",
       "      <th>flare</th>\n",
       "      <th>date</th>\n",
       "      <th>dur</th>\n",
       "      <th>peak counts</th>\n",
       "      <th>total_counts</th>\n",
       "      <th>sun_det0</th>\n",
       "      <th>sun_det1</th>\n",
       "      <th>sun_det2</th>\n",
       "      <th>sun_det3</th>\n",
       "      <th>t_start</th>\n",
       "      <th>t_peak</th>\n",
       "      <th>t_end</th>\n",
       "    </tr>\n",
       "  </thead>\n",
       "  <tbody>\n",
       "    <tr>\n",
       "      <th>0</th>\n",
       "      <td>210115_2358</td>\n",
       "      <td>15-Jan-2021</td>\n",
       "      <td>106</td>\n",
       "      <td>555</td>\n",
       "      <td>12977</td>\n",
       "      <td>n5</td>\n",
       "      <td>n3</td>\n",
       "      <td>n1</td>\n",
       "      <td>n4</td>\n",
       "      <td>2021-01-15 23:58:34</td>\n",
       "      <td>2021-01-15 00:00:12</td>\n",
       "      <td>2021-01-15 00:00:21</td>\n",
       "    </tr>\n",
       "    <tr>\n",
       "      <th>1</th>\n",
       "      <td>210116_2358</td>\n",
       "      <td>16-Jan-2021</td>\n",
       "      <td>106</td>\n",
       "      <td>543</td>\n",
       "      <td>13410</td>\n",
       "      <td>n1</td>\n",
       "      <td>n3</td>\n",
       "      <td>n0</td>\n",
       "      <td>n5</td>\n",
       "      <td>2021-01-16 23:58:32</td>\n",
       "      <td>2021-01-16 23:59:50</td>\n",
       "      <td>2021-01-16 00:00:18</td>\n",
       "    </tr>\n",
       "    <tr>\n",
       "      <th>2</th>\n",
       "      <td>210117_2358</td>\n",
       "      <td>17-Jan-2021</td>\n",
       "      <td>106</td>\n",
       "      <td>811</td>\n",
       "      <td>20519</td>\n",
       "      <td>n5</td>\n",
       "      <td>n3</td>\n",
       "      <td>n1</td>\n",
       "      <td>n0</td>\n",
       "      <td>2021-01-17 23:58:34</td>\n",
       "      <td>2021-01-17 23:58:38</td>\n",
       "      <td>2021-01-17 00:00:20</td>\n",
       "    </tr>\n",
       "  </tbody>\n",
       "</table>\n",
       "</div>"
      ],
      "text/plain": [
       "         flare         date  dur  peak counts  total_counts sun_det0 sun_det1  \\\n",
       "0  210115_2358  15-Jan-2021  106          555         12977       n5       n3   \n",
       "1  210116_2358  16-Jan-2021  106          543         13410       n1       n3   \n",
       "2  210117_2358  17-Jan-2021  106          811         20519       n5       n3   \n",
       "\n",
       "  sun_det2 sun_det3             t_start              t_peak  \\\n",
       "0       n1       n4 2021-01-15 23:58:34 2021-01-15 00:00:12   \n",
       "1       n0       n5 2021-01-16 23:58:32 2021-01-16 23:59:50   \n",
       "2       n1       n0 2021-01-17 23:58:34 2021-01-17 23:58:38   \n",
       "\n",
       "                t_end  \n",
       "0 2021-01-15 00:00:21  \n",
       "1 2021-01-16 00:00:18  \n",
       "2 2021-01-17 00:00:20  "
      ]
     },
     "execution_count": 137,
     "metadata": {},
     "output_type": "execute_result"
    }
   ],
   "source": [
    "new_fermi_flares.head(3)"
   ]
  },
  {
   "cell_type": "code",
   "execution_count": 138,
   "id": "1c5c7a2a",
   "metadata": {},
   "outputs": [],
   "source": [
    "from sunpy.time import TimeRange"
   ]
  },
  {
   "cell_type": "code",
   "execution_count": 139,
   "id": "ca8896a2",
   "metadata": {},
   "outputs": [],
   "source": [
    "timerange = TimeRange(\"2020-01-01\", \"2022-01-01\")"
   ]
  },
  {
   "cell_type": "code",
   "execution_count": 140,
   "id": "91ff11f6",
   "metadata": {},
   "outputs": [
    {
     "data": {
      "text/plain": [
       "True"
      ]
     },
     "execution_count": 140,
     "metadata": {},
     "output_type": "execute_result"
    }
   ],
   "source": [
    "\"2021-01-01\" in timerange"
   ]
  },
  {
   "cell_type": "markdown",
   "id": "5c43e541",
   "metadata": {},
   "source": [
    "## Match flarelists"
   ]
  },
  {
   "cell_type": "code",
   "execution_count": 141,
   "id": "c0fe646b",
   "metadata": {},
   "outputs": [],
   "source": [
    "fermi_flares_int = fermi_flares[(fermi_flares[\"t_start\"]>=\"2021-01-01\")&(fermi_flares[\"t_start\"]<=\"2022-06-01\")]\n",
    "fermi_flares_int.reset_index(inplace=True, drop=True)\n",
    "#fermi_flares_int.to_csv(\"fermi_flares_20210101_20220601.csv\", index_label=False)\n",
    "\n",
    "hek_flares_int= hek_flares[(hek_flares[\"tstart_dt\"]>=\"2021-01-01\")&(hek_flares[\"tstart_dt\"]<=\"2022-06-01\")]\n",
    "hek_flares_int.reset_index(inplace=True, drop=True)\n",
    "#hek_flares.to_csv(\"goes_hek_flares_20210101_20220601.csv\", index_label=False)\n",
    "\n",
    "stix_flares_int = stix_flares_c[(stix_flares_c[\"start_UTC\"]>=\"2021-01-01\")&(stix_flares_c[\"start_UTC\"]<=\"2022-06-01\")]\n",
    "stix_flares_int.reset_index(inplace=True, drop=True)"
   ]
  },
  {
   "cell_type": "markdown",
   "id": "d59df3f4",
   "metadata": {},
   "source": [
    "## STIX flares as a function of position"
   ]
  },
  {
   "cell_type": "code",
   "execution_count": 142,
   "id": "25af04ae",
   "metadata": {},
   "outputs": [
    {
     "name": "stderr",
     "output_type": "stream",
     "text": [
      "/Users/laura.hayes/opt/miniconda3/envs/stix_directivity/lib/python3.10/site-packages/erfa/core.py:154: ErfaWarning: ERFA function \"dtf2d\" yielded 1 of \"dubious year (Note 6)\"\n",
      "  warnings.warn('ERFA function \"{}\" yielded {}'.format(func_name, wmsg),\n"
     ]
    },
    {
     "data": {
      "application/vnd.jupyter.widget-view+json": {
       "model_id": "6b4807920d38429e805c20f32d1553a4",
       "version_major": 2,
       "version_minor": 0
      },
      "text/plain": [
       "Files Downloaded:   0%|          | 0/1 [00:00<?, ?file/s]"
      ]
     },
     "metadata": {},
     "output_type": "display_data"
    }
   ],
   "source": [
    "kernals = astrospice.registry.get_kernels(\"solar orbiter\", \"predict\")"
   ]
  },
  {
   "cell_type": "code",
   "execution_count": 143,
   "id": "4799dfc6",
   "metadata": {},
   "outputs": [
    {
     "name": "stderr",
     "output_type": "stream",
     "text": [
      "WARNING: TimeDeltaMissingUnitWarning: Numerical value without unit or explicit format passed to TimeDelta, assuming days [astropy.time.core]\n"
     ]
    }
   ],
   "source": [
    "tstart = Time(\"2021-01-01T00:00:00.000\")\n",
    "tend = Time(\"2022-06-01T00:00:00.000\")\n",
    "times = Time(np.arange(tstart, tend, TimeDelta(1*u.day)))"
   ]
  },
  {
   "cell_type": "code",
   "execution_count": 144,
   "id": "2e9e4645",
   "metadata": {},
   "outputs": [],
   "source": [
    "solo_coords = astrospice.generate_coords(\"SOLAR ORBITER\", times)\n",
    "earth_coords = astrospice.generate_coords(\"earth\", times)\n",
    "sun_coords = astrospice.generate_coords(\"sun\", times)\n",
    "\n",
    "solo_coords_hgs = solo_coords.transform_to(frames.HeliographicStonyhurst)\n",
    "earth_coords_hgs = earth_coords.transform_to(frames.HeliographicStonyhurst)\n",
    "sun_coords_hgs = sun_coords.transform_to(frames.HeliographicStonyhurst)"
   ]
  },
  {
   "cell_type": "code",
   "execution_count": 145,
   "id": "bf0c590c",
   "metadata": {},
   "outputs": [],
   "source": [
    "solo_flare_coords = astrospice.generate_coords(\"SOLAR ORBITER\", Time(stix_flares_int[\"start_UTC\"]))\n",
    "solo_flare_coords_hgs = solo_flare_coords.transform_to(frames.HeliographicStonyhurst)"
   ]
  },
  {
   "cell_type": "code",
   "execution_count": 146,
   "id": "68500b83",
   "metadata": {},
   "outputs": [
    {
     "data": {
      "text/plain": [
       "<SkyCoord (HeliographicStonyhurst: obstime=['2021-03-02T23:58:03.152000000' '2021-03-09T12:22:03.313000000'\n",
       " '2021-04-22T04:17:05.039000000' ... '2022-05-27T16:29:12.328000000'\n",
       " '2022-05-27T19:16:48.346000000' '2022-05-28T01:27:16.383000000'], rsun=695700.0 km): (lon, lat, radius) in (deg, deg, km)\n",
       "    [(-127.9807996 , 2.00419873, 8.44448701e+07),\n",
       "     (-119.36748409, 1.88521104, 9.05619094e+07),\n",
       "     ( -97.89092262, 0.16413925, 1.29168720e+08), ...,\n",
       "     ( 164.83857054, 2.32185905, 1.35749270e+08),\n",
       "     ( 164.82494553, 2.31563693, 1.35850375e+08),\n",
       "     ( 164.79433192, 2.30189259, 1.36072670e+08)]>"
      ]
     },
     "execution_count": 146,
     "metadata": {},
     "output_type": "execute_result"
    }
   ],
   "source": [
    "solo_flare_coords_hgs"
   ]
  },
  {
   "cell_type": "code",
   "execution_count": 147,
   "id": "ac802633",
   "metadata": {},
   "outputs": [],
   "source": [
    "ticks = dates.date2num(times.datetime)"
   ]
  },
  {
   "cell_type": "code",
   "execution_count": 148,
   "id": "b96bb05e",
   "metadata": {},
   "outputs": [],
   "source": [
    "%matplotlib inline"
   ]
  },
  {
   "cell_type": "code",
   "execution_count": 149,
   "id": "fe67275f",
   "metadata": {},
   "outputs": [
    {
     "data": {
      "image/png": "[encoded data removed]",
      "text/plain": [
       "<Figure size 432x432 with 2 Axes>"
      ]
     },
     "metadata": {
      "needs_background": "light"
     },
     "output_type": "display_data"
    }
   ],
   "source": [
    "fig = plt.figure(figsize=(6, 6))\n",
    "ax = fig.add_subplot(projection='polar')\n",
    "\n",
    "im = ax.scatter(solo_coords_hgs.lon.to(u.rad), \n",
    "           solo_coords_hgs.radius.to(u.au), c=ticks, s=20)\n",
    "\n",
    "ax.plot(earth_coords_hgs[0].lon.to(u.rad), \n",
    "           earth_coords_hgs[0].radius.to(u.au), ms=12, marker='.', color=\"blue\", label=\"Earth\")\n",
    "\n",
    "ax.plot(sun_coords_hgs[0].lon.to(u.rad), \n",
    "        sun_coords_hgs[0].radius.to(u.AU), marker='o', color='y', label=\"Sun\",  ms=14)\n",
    "\n",
    "\n",
    "ax.scatter(solo_flare_coords_hgs.lon.to(u.rad), \n",
    "           solo_flare_coords_hgs.radius.to(u.au), s=20, marker='x', color='r', label=\"Flares\")\n",
    "\n",
    "ax.plot([0*u.deg.to(u.rad), 5*u.deg.to(u.rad)], [0, 1.3], color='k', ls=\"dashed\")\n",
    "ax.plot([0*u.deg.to(u.rad), -5*u.deg.to(u.rad)], [0, 1.3], color='k', ls=\"dashed\")\n",
    "\n",
    "ax.set_theta_zero_location(\"S\")\n",
    "_ = ax.set_yticklabels([])\n",
    "\n",
    "ax.set_rlim(0, 1.3)\n",
    "ax.set_title(\"Positions in Heliographic StonyHurst\")\n",
    "\n",
    "cbar = fig.colorbar(im, ticks=[ticks[0],ticks[int(len(ticks)/2)], ticks[-1]], pad=0.1, shrink=0.6)\n",
    "cbar.ax.set_yticklabels([dates.num2date(ticks[0]).strftime(\"%Y-%m-%d\"), \n",
    "                         dates.num2date(ticks[int(len(ticks)/2)]).strftime(\"%Y-%m-%d\"),\n",
    "                         dates.num2date(ticks[-1]).strftime(\"%Y-%m-%d\")])  # vertically oriented colorbar\n",
    "#ax.legend()\n",
    "plt.tight_layout()\n",
    "plt.savefig(\"orbit_from_earth.png\", dpi=300, facecolor='w', bbox_inches=\"tight\")"
   ]
  },
  {
   "cell_type": "code",
   "execution_count": null,
   "id": "d4772e7f",
   "metadata": {},
   "outputs": [],
   "source": []
  },
  {
   "cell_type": "code",
   "execution_count": 150,
   "id": "92b96a27",
   "metadata": {},
   "outputs": [
    {
     "name": "stderr",
     "output_type": "stream",
     "text": [
      "/var/folders/wm/gysdzbp10qv1kcm4zxb5q95xkjzv5q/T/ipykernel_82768/676685316.py:1: SettingWithCopyWarning: \n",
      "A value is trying to be set on a copy of a slice from a DataFrame.\n",
      "Try using .loc[row_indexer,col_indexer] = value instead\n",
      "\n",
      "See the caveats in the documentation: https://pandas.pydata.org/pandas-docs/stable/user_guide/indexing.html#returning-a-view-versus-a-copy\n",
      "  stix_flares_c[\"loc\"] = solo_flare_coords_hgs\n"
     ]
    }
   ],
   "source": [
    "stix_flares_c[\"loc\"] = solo_flare_coords_hgs"
   ]
  },
  {
   "cell_type": "code",
   "execution_count": 151,
   "id": "b2f85ddd",
   "metadata": {},
   "outputs": [
    {
     "data": {
      "text/plain": [
       "array([-127.9807996 , -119.36748409,  -97.89092262, ...,  164.83857054,\n",
       "        164.82494553,  164.79433192])"
      ]
     },
     "execution_count": 151,
     "metadata": {},
     "output_type": "execute_result"
    }
   ],
   "source": [
    "solo_flare_coords_hgs.lon.value"
   ]
  },
  {
   "cell_type": "code",
   "execution_count": 152,
   "id": "2e8b06a8",
   "metadata": {},
   "outputs": [
    {
     "name": "stderr",
     "output_type": "stream",
     "text": [
      "/var/folders/wm/gysdzbp10qv1kcm4zxb5q95xkjzv5q/T/ipykernel_82768/777418820.py:1: SettingWithCopyWarning: \n",
      "A value is trying to be set on a copy of a slice from a DataFrame.\n",
      "Try using .loc[row_indexer,col_indexer] = value instead\n",
      "\n",
      "See the caveats in the documentation: https://pandas.pydata.org/pandas-docs/stable/user_guide/indexing.html#returning-a-view-versus-a-copy\n",
      "  stix_flares_c[\"lon\"] = solo_flare_coords_hgs.lon.value\n",
      "/var/folders/wm/gysdzbp10qv1kcm4zxb5q95xkjzv5q/T/ipykernel_82768/777418820.py:2: SettingWithCopyWarning: \n",
      "A value is trying to be set on a copy of a slice from a DataFrame.\n",
      "Try using .loc[row_indexer,col_indexer] = value instead\n",
      "\n",
      "See the caveats in the documentation: https://pandas.pydata.org/pandas-docs/stable/user_guide/indexing.html#returning-a-view-versus-a-copy\n",
      "  stix_flares_c[\"rad\"] = solo_flare_coords_hgs.radius.value\n"
     ]
    }
   ],
   "source": [
    "stix_flares_c[\"lon\"] = solo_flare_coords_hgs.lon.value\n",
    "stix_flares_c[\"rad\"] = solo_flare_coords_hgs.radius.value"
   ]
  },
  {
   "cell_type": "code",
   "execution_count": 153,
   "id": "0e21a859",
   "metadata": {},
   "outputs": [
    {
     "data": {
      "text/html": [
       "<div>\n",
       "<style scoped>\n",
       "    .dataframe tbody tr th:only-of-type {\n",
       "        vertical-align: middle;\n",
       "    }\n",
       "\n",
       "    .dataframe tbody tr th {\n",
       "        vertical-align: top;\n",
       "    }\n",
       "\n",
       "    .dataframe thead th {\n",
       "        text-align: right;\n",
       "    }\n",
       "</style>\n",
       "<table border=\"1\" class=\"dataframe\">\n",
       "  <thead>\n",
       "    <tr style=\"text-align: right;\">\n",
       "      <th></th>\n",
       "      <th>flare_id</th>\n",
       "      <th>duration</th>\n",
       "      <th>peak_UTC</th>\n",
       "      <th>LC0_BKG</th>\n",
       "      <th>_id</th>\n",
       "      <th>GOES_class</th>\n",
       "      <th>GOES_flux</th>\n",
       "      <th>CFL_X_arcsec</th>\n",
       "      <th>CFL_Y_arcsec</th>\n",
       "      <th>start_UTC</th>\n",
       "      <th>end_UTC</th>\n",
       "      <th>LC0_peak_counts_4sec</th>\n",
       "      <th>goes_class_ind</th>\n",
       "      <th>loc</th>\n",
       "      <th>lon</th>\n",
       "      <th>rad</th>\n",
       "    </tr>\n",
       "  </thead>\n",
       "  <tbody>\n",
       "    <tr>\n",
       "      <th>0</th>\n",
       "      <td>2103022359</td>\n",
       "      <td>200</td>\n",
       "      <td>2021-03-02T23:59:23.152</td>\n",
       "      <td>271.0</td>\n",
       "      <td>353</td>\n",
       "      <td>C1.3</td>\n",
       "      <td>0.000001</td>\n",
       "      <td>-2000.0</td>\n",
       "      <td>-2000.0</td>\n",
       "      <td>2021-03-02 23:58:03.152</td>\n",
       "      <td>2021-03-03T00:01:23.152</td>\n",
       "      <td>12799</td>\n",
       "      <td>C</td>\n",
       "      <td>&lt;SkyCoord (HeliographicStonyhurst: obstime=202...</td>\n",
       "      <td>-127.980800</td>\n",
       "      <td>8.444487e+07</td>\n",
       "    </tr>\n",
       "    <tr>\n",
       "      <th>1</th>\n",
       "      <td>2103091231</td>\n",
       "      <td>844</td>\n",
       "      <td>2021-03-09T12:31:35.314</td>\n",
       "      <td>271.0</td>\n",
       "      <td>457</td>\n",
       "      <td>C1.7</td>\n",
       "      <td>0.000002</td>\n",
       "      <td>-2000.0</td>\n",
       "      <td>-2000.0</td>\n",
       "      <td>2021-03-09 12:22:03.313</td>\n",
       "      <td>2021-03-09T12:36:07.315</td>\n",
       "      <td>4351</td>\n",
       "      <td>C</td>\n",
       "      <td>&lt;SkyCoord (HeliographicStonyhurst: obstime=202...</td>\n",
       "      <td>-119.367484</td>\n",
       "      <td>9.056191e+07</td>\n",
       "    </tr>\n",
       "    <tr>\n",
       "      <th>2</th>\n",
       "      <td>2104220449</td>\n",
       "      <td>4556</td>\n",
       "      <td>2021-04-22T04:49:28.943</td>\n",
       "      <td>247.0</td>\n",
       "      <td>586</td>\n",
       "      <td>C3.9</td>\n",
       "      <td>0.000004</td>\n",
       "      <td>0.0</td>\n",
       "      <td>0.0</td>\n",
       "      <td>2021-04-22 04:17:05.039</td>\n",
       "      <td>2021-04-22T05:33:00.947</td>\n",
       "      <td>2687</td>\n",
       "      <td>C</td>\n",
       "      <td>&lt;SkyCoord (HeliographicStonyhurst: obstime=202...</td>\n",
       "      <td>-97.890923</td>\n",
       "      <td>1.291687e+08</td>\n",
       "    </tr>\n",
       "  </tbody>\n",
       "</table>\n",
       "</div>"
      ],
      "text/plain": [
       "     flare_id  duration                 peak_UTC  LC0_BKG  _id GOES_class  \\\n",
       "0  2103022359       200  2021-03-02T23:59:23.152    271.0  353       C1.3   \n",
       "1  2103091231       844  2021-03-09T12:31:35.314    271.0  457       C1.7   \n",
       "2  2104220449      4556  2021-04-22T04:49:28.943    247.0  586       C3.9   \n",
       "\n",
       "   GOES_flux CFL_X_arcsec CFL_Y_arcsec               start_UTC  \\\n",
       "0   0.000001      -2000.0      -2000.0 2021-03-02 23:58:03.152   \n",
       "1   0.000002      -2000.0      -2000.0 2021-03-09 12:22:03.313   \n",
       "2   0.000004          0.0          0.0 2021-04-22 04:17:05.039   \n",
       "\n",
       "                   end_UTC  LC0_peak_counts_4sec goes_class_ind  \\\n",
       "0  2021-03-03T00:01:23.152                 12799              C   \n",
       "1  2021-03-09T12:36:07.315                  4351              C   \n",
       "2  2021-04-22T05:33:00.947                  2687              C   \n",
       "\n",
       "                                                 loc         lon           rad  \n",
       "0  <SkyCoord (HeliographicStonyhurst: obstime=202... -127.980800  8.444487e+07  \n",
       "1  <SkyCoord (HeliographicStonyhurst: obstime=202... -119.367484  9.056191e+07  \n",
       "2  <SkyCoord (HeliographicStonyhurst: obstime=202...  -97.890923  1.291687e+08  "
      ]
     },
     "execution_count": 153,
     "metadata": {},
     "output_type": "execute_result"
    }
   ],
   "source": [
    "stix_flares_c.head(3)"
   ]
  },
  {
   "cell_type": "code",
   "execution_count": 154,
   "id": "6209c232",
   "metadata": {},
   "outputs": [
    {
     "data": {
      "text/plain": [
       "Index(['flare_id', 'duration', 'peak_UTC', 'LC0_BKG', '_id', 'GOES_class',\n",
       "       'GOES_flux', 'CFL_X_arcsec', 'CFL_Y_arcsec', 'start_UTC', 'end_UTC',\n",
       "       'LC0_peak_counts_4sec', 'goes_class_ind', 'loc', 'lon', 'rad'],\n",
       "      dtype='object')"
      ]
     },
     "execution_count": 154,
     "metadata": {},
     "output_type": "execute_result"
    }
   ],
   "source": [
    "stix_flares_c.keys()"
   ]
  },
  {
   "cell_type": "code",
   "execution_count": 155,
   "id": "1e2d264c",
   "metadata": {},
   "outputs": [],
   "source": [
    "columns_of_interest = [\"start_UTC\", \"peak_UTC\", \"end_UTC\", \"duration\", \"GOES_flux\", \n",
    "                       'CFL_X_arcsec', 'CFL_Y_arcsec',\n",
    "                       \"GOES_class\", \"LC0_peak_counts_4sec\", \"lon\", \"rad\"]"
   ]
  },
  {
   "cell_type": "code",
   "execution_count": 156,
   "id": "30090d8e",
   "metadata": {},
   "outputs": [],
   "source": [
    "stix_save_flares = stix_flares_c[columns_of_interest]"
   ]
  },
  {
   "cell_type": "code",
   "execution_count": 157,
   "id": "da188669",
   "metadata": {},
   "outputs": [
    {
     "data": {
      "text/html": [
       "<div>\n",
       "<style scoped>\n",
       "    .dataframe tbody tr th:only-of-type {\n",
       "        vertical-align: middle;\n",
       "    }\n",
       "\n",
       "    .dataframe tbody tr th {\n",
       "        vertical-align: top;\n",
       "    }\n",
       "\n",
       "    .dataframe thead th {\n",
       "        text-align: right;\n",
       "    }\n",
       "</style>\n",
       "<table border=\"1\" class=\"dataframe\">\n",
       "  <thead>\n",
       "    <tr style=\"text-align: right;\">\n",
       "      <th></th>\n",
       "      <th>start_UTC</th>\n",
       "      <th>peak_UTC</th>\n",
       "      <th>end_UTC</th>\n",
       "      <th>duration</th>\n",
       "      <th>GOES_flux</th>\n",
       "      <th>CFL_X_arcsec</th>\n",
       "      <th>CFL_Y_arcsec</th>\n",
       "      <th>GOES_class</th>\n",
       "      <th>LC0_peak_counts_4sec</th>\n",
       "      <th>lon</th>\n",
       "      <th>rad</th>\n",
       "    </tr>\n",
       "  </thead>\n",
       "  <tbody>\n",
       "    <tr>\n",
       "      <th>0</th>\n",
       "      <td>2021-03-02 23:58:03.152</td>\n",
       "      <td>2021-03-02T23:59:23.152</td>\n",
       "      <td>2021-03-03T00:01:23.152</td>\n",
       "      <td>200</td>\n",
       "      <td>0.000001</td>\n",
       "      <td>-2000.0</td>\n",
       "      <td>-2000.0</td>\n",
       "      <td>C1.3</td>\n",
       "      <td>12799</td>\n",
       "      <td>-127.980800</td>\n",
       "      <td>8.444487e+07</td>\n",
       "    </tr>\n",
       "    <tr>\n",
       "      <th>1</th>\n",
       "      <td>2021-03-09 12:22:03.313</td>\n",
       "      <td>2021-03-09T12:31:35.314</td>\n",
       "      <td>2021-03-09T12:36:07.315</td>\n",
       "      <td>844</td>\n",
       "      <td>0.000002</td>\n",
       "      <td>-2000.0</td>\n",
       "      <td>-2000.0</td>\n",
       "      <td>C1.7</td>\n",
       "      <td>4351</td>\n",
       "      <td>-119.367484</td>\n",
       "      <td>9.056191e+07</td>\n",
       "    </tr>\n",
       "    <tr>\n",
       "      <th>2</th>\n",
       "      <td>2021-04-22 04:17:05.039</td>\n",
       "      <td>2021-04-22T04:49:28.943</td>\n",
       "      <td>2021-04-22T05:33:00.947</td>\n",
       "      <td>4556</td>\n",
       "      <td>0.000004</td>\n",
       "      <td>0.0</td>\n",
       "      <td>0.0</td>\n",
       "      <td>C3.9</td>\n",
       "      <td>2687</td>\n",
       "      <td>-97.890923</td>\n",
       "      <td>1.291687e+08</td>\n",
       "    </tr>\n",
       "  </tbody>\n",
       "</table>\n",
       "</div>"
      ],
      "text/plain": [
       "                start_UTC                 peak_UTC                  end_UTC  \\\n",
       "0 2021-03-02 23:58:03.152  2021-03-02T23:59:23.152  2021-03-03T00:01:23.152   \n",
       "1 2021-03-09 12:22:03.313  2021-03-09T12:31:35.314  2021-03-09T12:36:07.315   \n",
       "2 2021-04-22 04:17:05.039  2021-04-22T04:49:28.943  2021-04-22T05:33:00.947   \n",
       "\n",
       "   duration  GOES_flux CFL_X_arcsec CFL_Y_arcsec GOES_class  \\\n",
       "0       200   0.000001      -2000.0      -2000.0       C1.3   \n",
       "1       844   0.000002      -2000.0      -2000.0       C1.7   \n",
       "2      4556   0.000004          0.0          0.0       C3.9   \n",
       "\n",
       "   LC0_peak_counts_4sec         lon           rad  \n",
       "0                 12799 -127.980800  8.444487e+07  \n",
       "1                  4351 -119.367484  9.056191e+07  \n",
       "2                  2687  -97.890923  1.291687e+08  "
      ]
     },
     "execution_count": 157,
     "metadata": {},
     "output_type": "execute_result"
    }
   ],
   "source": [
    "stix_save_flares.head(3)"
   ]
  },
  {
   "cell_type": "code",
   "execution_count": 159,
   "id": "e4bccd90",
   "metadata": {},
   "outputs": [],
   "source": [
    "stix_save_flares.to_csv(\"stix_flares_c_with_loc.csv\", index_label=False)"
   ]
  },
  {
   "cell_type": "code",
   "execution_count": 160,
   "id": "641653c6",
   "metadata": {},
   "outputs": [],
   "source": [
    "stix_5deg = stix_flares_c[(stix_flares_c[\"lon\"]<=5)&(stix_flares_c[\"lon\"]>=-5)]"
   ]
  },
  {
   "cell_type": "code",
   "execution_count": 161,
   "id": "8dd17072",
   "metadata": {},
   "outputs": [
    {
     "data": {
      "text/html": [
       "<div>\n",
       "<style scoped>\n",
       "    .dataframe tbody tr th:only-of-type {\n",
       "        vertical-align: middle;\n",
       "    }\n",
       "\n",
       "    .dataframe tbody tr th {\n",
       "        vertical-align: top;\n",
       "    }\n",
       "\n",
       "    .dataframe thead th {\n",
       "        text-align: right;\n",
       "    }\n",
       "</style>\n",
       "<table border=\"1\" class=\"dataframe\">\n",
       "  <thead>\n",
       "    <tr style=\"text-align: right;\">\n",
       "      <th></th>\n",
       "      <th>flare_id</th>\n",
       "      <th>duration</th>\n",
       "      <th>peak_UTC</th>\n",
       "      <th>LC0_BKG</th>\n",
       "      <th>_id</th>\n",
       "      <th>GOES_class</th>\n",
       "      <th>GOES_flux</th>\n",
       "      <th>CFL_X_arcsec</th>\n",
       "      <th>CFL_Y_arcsec</th>\n",
       "      <th>start_UTC</th>\n",
       "      <th>end_UTC</th>\n",
       "      <th>LC0_peak_counts_4sec</th>\n",
       "      <th>goes_class_ind</th>\n",
       "      <th>loc</th>\n",
       "      <th>lon</th>\n",
       "      <th>rad</th>\n",
       "    </tr>\n",
       "  </thead>\n",
       "  <tbody>\n",
       "    <tr>\n",
       "      <th>233</th>\n",
       "      <td>2111010110</td>\n",
       "      <td>484</td>\n",
       "      <td>2021-11-01T01:10:04.047</td>\n",
       "      <td>271.0</td>\n",
       "      <td>2693</td>\n",
       "      <td>C1.9</td>\n",
       "      <td>0.000002</td>\n",
       "      <td>NaN</td>\n",
       "      <td>NaN</td>\n",
       "      <td>2021-11-01 01:08:08.047</td>\n",
       "      <td>2021-11-01T01:16:12.048</td>\n",
       "      <td>2175</td>\n",
       "      <td>C</td>\n",
       "      <td>&lt;SkyCoord (HeliographicStonyhurst: obstime=202...</td>\n",
       "      <td>-1.726097</td>\n",
       "      <td>1.236525e+08</td>\n",
       "    </tr>\n",
       "    <tr>\n",
       "      <th>234</th>\n",
       "      <td>2111010120</td>\n",
       "      <td>116</td>\n",
       "      <td>2021-11-01T01:20:20.048</td>\n",
       "      <td>271.0</td>\n",
       "      <td>2694</td>\n",
       "      <td>C2.1</td>\n",
       "      <td>0.000002</td>\n",
       "      <td>NaN</td>\n",
       "      <td>NaN</td>\n",
       "      <td>2021-11-01 01:19:20.048</td>\n",
       "      <td>2021-11-01T01:21:16.048</td>\n",
       "      <td>1855</td>\n",
       "      <td>C</td>\n",
       "      <td>&lt;SkyCoord (HeliographicStonyhurst: obstime=202...</td>\n",
       "      <td>-1.723890</td>\n",
       "      <td>1.236602e+08</td>\n",
       "    </tr>\n",
       "    <tr>\n",
       "      <th>235</th>\n",
       "      <td>2111010137</td>\n",
       "      <td>2236</td>\n",
       "      <td>2021-11-01T01:37:12.050</td>\n",
       "      <td>271.0</td>\n",
       "      <td>2695</td>\n",
       "      <td>M1.6</td>\n",
       "      <td>0.000016</td>\n",
       "      <td>0.0</td>\n",
       "      <td>0.0</td>\n",
       "      <td>2021-11-01 01:26:04.049</td>\n",
       "      <td>2021-11-01T02:03:20.053</td>\n",
       "      <td>63487</td>\n",
       "      <td>M</td>\n",
       "      <td>&lt;SkyCoord (HeliographicStonyhurst: obstime=202...</td>\n",
       "      <td>-1.722564</td>\n",
       "      <td>1.236649e+08</td>\n",
       "    </tr>\n",
       "    <tr>\n",
       "      <th>236</th>\n",
       "      <td>2111010328</td>\n",
       "      <td>256</td>\n",
       "      <td>2021-11-01T03:28:08.066</td>\n",
       "      <td>271.0</td>\n",
       "      <td>2696</td>\n",
       "      <td>C1.3</td>\n",
       "      <td>0.000001</td>\n",
       "      <td>170.0</td>\n",
       "      <td>0.0</td>\n",
       "      <td>2021-11-01 03:26:20.065</td>\n",
       "      <td>2021-11-01T03:30:36.066</td>\n",
       "      <td>991</td>\n",
       "      <td>C</td>\n",
       "      <td>&lt;SkyCoord (HeliographicStonyhurst: obstime=202...</td>\n",
       "      <td>-1.698954</td>\n",
       "      <td>1.237477e+08</td>\n",
       "    </tr>\n",
       "    <tr>\n",
       "      <th>237</th>\n",
       "      <td>2111011750</td>\n",
       "      <td>3988</td>\n",
       "      <td>2021-11-01T17:50:26.749</td>\n",
       "      <td>271.0</td>\n",
       "      <td>2703</td>\n",
       "      <td>C1.3</td>\n",
       "      <td>0.000001</td>\n",
       "      <td>1080.0</td>\n",
       "      <td>-350.0</td>\n",
       "      <td>2021-11-01 17:33:10.747</td>\n",
       "      <td>2021-11-01T18:39:38.754</td>\n",
       "      <td>991</td>\n",
       "      <td>C</td>\n",
       "      <td>&lt;SkyCoord (HeliographicStonyhurst: obstime=202...</td>\n",
       "      <td>-1.536810</td>\n",
       "      <td>1.243301e+08</td>\n",
       "    </tr>\n",
       "    <tr>\n",
       "      <th>...</th>\n",
       "      <td>...</td>\n",
       "      <td>...</td>\n",
       "      <td>...</td>\n",
       "      <td>...</td>\n",
       "      <td>...</td>\n",
       "      <td>...</td>\n",
       "      <td>...</td>\n",
       "      <td>...</td>\n",
       "      <td>...</td>\n",
       "      <td>...</td>\n",
       "      <td>...</td>\n",
       "      <td>...</td>\n",
       "      <td>...</td>\n",
       "      <td>...</td>\n",
       "      <td>...</td>\n",
       "      <td>...</td>\n",
       "    </tr>\n",
       "    <tr>\n",
       "      <th>948</th>\n",
       "      <td>2203072336</td>\n",
       "      <td>1776</td>\n",
       "      <td>2022-03-07T23:36:45.840</td>\n",
       "      <td>303.0</td>\n",
       "      <td>4782</td>\n",
       "      <td>C1.1</td>\n",
       "      <td>0.000001</td>\n",
       "      <td>None</td>\n",
       "      <td>None</td>\n",
       "      <td>2022-03-07 23:24:25.839</td>\n",
       "      <td>2022-03-07T23:54:01.841</td>\n",
       "      <td>1727</td>\n",
       "      <td>C</td>\n",
       "      <td>&lt;SkyCoord (HeliographicStonyhurst: obstime=202...</td>\n",
       "      <td>1.141636</td>\n",
       "      <td>7.316038e+07</td>\n",
       "    </tr>\n",
       "    <tr>\n",
       "      <th>949</th>\n",
       "      <td>2203080307</td>\n",
       "      <td>2604</td>\n",
       "      <td>2022-03-08T03:07:38.761</td>\n",
       "      <td>303.0</td>\n",
       "      <td>4795</td>\n",
       "      <td>C2.1</td>\n",
       "      <td>0.000002</td>\n",
       "      <td>None</td>\n",
       "      <td>None</td>\n",
       "      <td>2022-03-08 02:48:54.759</td>\n",
       "      <td>2022-03-08T03:33:07.864</td>\n",
       "      <td>17407</td>\n",
       "      <td>C</td>\n",
       "      <td>&lt;SkyCoord (HeliographicStonyhurst: obstime=202...</td>\n",
       "      <td>1.410536</td>\n",
       "      <td>7.289003e+07</td>\n",
       "    </tr>\n",
       "    <tr>\n",
       "      <th>950</th>\n",
       "      <td>2203082222</td>\n",
       "      <td>716</td>\n",
       "      <td>2022-03-08T22:22:39.982</td>\n",
       "      <td>271.0</td>\n",
       "      <td>4828</td>\n",
       "      <td>C1.1</td>\n",
       "      <td>0.000001</td>\n",
       "      <td>None</td>\n",
       "      <td>None</td>\n",
       "      <td>2022-03-08 22:18:51.981</td>\n",
       "      <td>2022-03-08T22:30:47.883</td>\n",
       "      <td>7935</td>\n",
       "      <td>C</td>\n",
       "      <td>&lt;SkyCoord (HeliographicStonyhurst: obstime=202...</td>\n",
       "      <td>3.009396</td>\n",
       "      <td>7.134404e+07</td>\n",
       "    </tr>\n",
       "    <tr>\n",
       "      <th>951</th>\n",
       "      <td>2203090751</td>\n",
       "      <td>1088</td>\n",
       "      <td>2022-03-09T07:51:31.941</td>\n",
       "      <td>247.0</td>\n",
       "      <td>4837</td>\n",
       "      <td>C1.0</td>\n",
       "      <td>0.000001</td>\n",
       "      <td>None</td>\n",
       "      <td>None</td>\n",
       "      <td>2022-03-09 07:45:59.941</td>\n",
       "      <td>2022-03-09T08:04:07.942</td>\n",
       "      <td>5887</td>\n",
       "      <td>C</td>\n",
       "      <td>&lt;SkyCoord (HeliographicStonyhurst: obstime=202...</td>\n",
       "      <td>3.822703</td>\n",
       "      <td>7.059567e+07</td>\n",
       "    </tr>\n",
       "    <tr>\n",
       "      <th>952</th>\n",
       "      <td>2203091244</td>\n",
       "      <td>692</td>\n",
       "      <td>2022-03-09T12:44:15.972</td>\n",
       "      <td>247.0</td>\n",
       "      <td>4852</td>\n",
       "      <td>C1.0</td>\n",
       "      <td>0.000001</td>\n",
       "      <td>None</td>\n",
       "      <td>None</td>\n",
       "      <td>2022-03-09 12:40:39.971</td>\n",
       "      <td>2022-03-09T12:52:11.973</td>\n",
       "      <td>3967</td>\n",
       "      <td>C</td>\n",
       "      <td>&lt;SkyCoord (HeliographicStonyhurst: obstime=202...</td>\n",
       "      <td>4.255498</td>\n",
       "      <td>7.020727e+07</td>\n",
       "    </tr>\n",
       "  </tbody>\n",
       "</table>\n",
       "<p>74 rows × 16 columns</p>\n",
       "</div>"
      ],
      "text/plain": [
       "       flare_id  duration                 peak_UTC  LC0_BKG   _id GOES_class  \\\n",
       "233  2111010110       484  2021-11-01T01:10:04.047    271.0  2693       C1.9   \n",
       "234  2111010120       116  2021-11-01T01:20:20.048    271.0  2694       C2.1   \n",
       "235  2111010137      2236  2021-11-01T01:37:12.050    271.0  2695       M1.6   \n",
       "236  2111010328       256  2021-11-01T03:28:08.066    271.0  2696       C1.3   \n",
       "237  2111011750      3988  2021-11-01T17:50:26.749    271.0  2703       C1.3   \n",
       "..          ...       ...                      ...      ...   ...        ...   \n",
       "948  2203072336      1776  2022-03-07T23:36:45.840    303.0  4782       C1.1   \n",
       "949  2203080307      2604  2022-03-08T03:07:38.761    303.0  4795       C2.1   \n",
       "950  2203082222       716  2022-03-08T22:22:39.982    271.0  4828       C1.1   \n",
       "951  2203090751      1088  2022-03-09T07:51:31.941    247.0  4837       C1.0   \n",
       "952  2203091244       692  2022-03-09T12:44:15.972    247.0  4852       C1.0   \n",
       "\n",
       "     GOES_flux CFL_X_arcsec CFL_Y_arcsec               start_UTC  \\\n",
       "233   0.000002          NaN          NaN 2021-11-01 01:08:08.047   \n",
       "234   0.000002          NaN          NaN 2021-11-01 01:19:20.048   \n",
       "235   0.000016          0.0          0.0 2021-11-01 01:26:04.049   \n",
       "236   0.000001        170.0          0.0 2021-11-01 03:26:20.065   \n",
       "237   0.000001       1080.0       -350.0 2021-11-01 17:33:10.747   \n",
       "..         ...          ...          ...                     ...   \n",
       "948   0.000001         None         None 2022-03-07 23:24:25.839   \n",
       "949   0.000002         None         None 2022-03-08 02:48:54.759   \n",
       "950   0.000001         None         None 2022-03-08 22:18:51.981   \n",
       "951   0.000001         None         None 2022-03-09 07:45:59.941   \n",
       "952   0.000001         None         None 2022-03-09 12:40:39.971   \n",
       "\n",
       "                     end_UTC  LC0_peak_counts_4sec goes_class_ind  \\\n",
       "233  2021-11-01T01:16:12.048                  2175              C   \n",
       "234  2021-11-01T01:21:16.048                  1855              C   \n",
       "235  2021-11-01T02:03:20.053                 63487              M   \n",
       "236  2021-11-01T03:30:36.066                   991              C   \n",
       "237  2021-11-01T18:39:38.754                   991              C   \n",
       "..                       ...                   ...            ...   \n",
       "948  2022-03-07T23:54:01.841                  1727              C   \n",
       "949  2022-03-08T03:33:07.864                 17407              C   \n",
       "950  2022-03-08T22:30:47.883                  7935              C   \n",
       "951  2022-03-09T08:04:07.942                  5887              C   \n",
       "952  2022-03-09T12:52:11.973                  3967              C   \n",
       "\n",
       "                                                   loc       lon           rad  \n",
       "233  <SkyCoord (HeliographicStonyhurst: obstime=202... -1.726097  1.236525e+08  \n",
       "234  <SkyCoord (HeliographicStonyhurst: obstime=202... -1.723890  1.236602e+08  \n",
       "235  <SkyCoord (HeliographicStonyhurst: obstime=202... -1.722564  1.236649e+08  \n",
       "236  <SkyCoord (HeliographicStonyhurst: obstime=202... -1.698954  1.237477e+08  \n",
       "237  <SkyCoord (HeliographicStonyhurst: obstime=202... -1.536810  1.243301e+08  \n",
       "..                                                 ...       ...           ...  \n",
       "948  <SkyCoord (HeliographicStonyhurst: obstime=202...  1.141636  7.316038e+07  \n",
       "949  <SkyCoord (HeliographicStonyhurst: obstime=202...  1.410536  7.289003e+07  \n",
       "950  <SkyCoord (HeliographicStonyhurst: obstime=202...  3.009396  7.134404e+07  \n",
       "951  <SkyCoord (HeliographicStonyhurst: obstime=202...  3.822703  7.059567e+07  \n",
       "952  <SkyCoord (HeliographicStonyhurst: obstime=202...  4.255498  7.020727e+07  \n",
       "\n",
       "[74 rows x 16 columns]"
      ]
     },
     "execution_count": 161,
     "metadata": {},
     "output_type": "execute_result"
    }
   ],
   "source": [
    "stix_5deg[stix_5deg[\"start_UTC\"]>=\"2021-11-01\"]"
   ]
  },
  {
   "cell_type": "code",
   "execution_count": 162,
   "id": "f9d7566c",
   "metadata": {},
   "outputs": [],
   "source": [
    "coords_5deg = solo_flare_coords_hgs[(stix_flares_c[\"lon\"]<=5)&(stix_flares_c[\"lon\"]>=-5)]"
   ]
  },
  {
   "cell_type": "code",
   "execution_count": 163,
   "id": "4a2c085f",
   "metadata": {},
   "outputs": [
    {
     "data": {
      "image/png": "[encoded data removed]",
      "text/plain": [
       "<Figure size 432x432 with 2 Axes>"
      ]
     },
     "metadata": {
      "needs_background": "light"
     },
     "output_type": "display_data"
    }
   ],
   "source": [
    "fig = plt.figure(figsize=(6, 6))\n",
    "ax = fig.add_subplot(projection='polar')\n",
    "\n",
    "im = ax.scatter(solo_coords_hgs.lon.to(u.rad), \n",
    "           solo_coords_hgs.radius.to(u.au), c=ticks, s=20)\n",
    "\n",
    "ax.plot(earth_coords_hgs[0].lon.to(u.rad), \n",
    "           earth_coords_hgs[0].radius.to(u.au), ms=12, marker='.', color=\"blue\", label=\"Earth\")\n",
    "\n",
    "ax.plot(sun_coords_hgs[0].lon.to(u.rad), \n",
    "        sun_coords_hgs[0].radius.to(u.AU), marker='o', color='y', label=\"Sun\",  ms=14)\n",
    "\n",
    "\n",
    "\n",
    "ax.scatter(stix_5deg[\"lon\"]*u.deg.to(u.rad), \n",
    "           stix_5deg[\"rad\"]*u.km.to(u.au), s=20, marker='x', color='r', label=\"Flares\")\n",
    "\n",
    "\n",
    "ax.plot([0*u.deg.to(u.rad), 5*u.deg.to(u.rad)], [0, 1.3], color='k', ls=\"dashed\")\n",
    "ax.plot([0*u.deg.to(u.rad), -5*u.deg.to(u.rad)], [0, 1.3], color='k', ls=\"dashed\")\n",
    "\n",
    "ax.set_theta_zero_location(\"S\")\n",
    "_ = ax.set_yticklabels([])\n",
    "\n",
    "ax.set_rlim(0, 1.3)\n",
    "ax.set_title(\"Positions in Heliographic StonyHurst\")\n",
    "\n",
    "cbar = fig.colorbar(im, ticks=[ticks[0],ticks[int(len(ticks)/2)], ticks[-1]], pad=0.1, shrink=0.6)\n",
    "cbar.ax.set_yticklabels([dates.num2date(ticks[0]).strftime(\"%Y-%m-%d\"), \n",
    "                         dates.num2date(ticks[int(len(ticks)/2)]).strftime(\"%Y-%m-%d\"),\n",
    "                         dates.num2date(ticks[-1]).strftime(\"%Y-%m-%d\")])  # vertically oriented colorbar\n",
    "#ax.legend()\n",
    "plt.tight_layout()\n",
    "plt.savefig(\"orbit_from_earth_within5.png\", dpi=300, facecolor='w', bbox_inches=\"tight\")"
   ]
  },
  {
   "cell_type": "code",
   "execution_count": 164,
   "id": "6f7bc368",
   "metadata": {},
   "outputs": [],
   "source": [
    "stix_5deg_m = stix_5deg[stix_5deg[\"goes_class_ind\"].isin([\"M\"])]"
   ]
  },
  {
   "cell_type": "code",
   "execution_count": 165,
   "id": "8e3287bf",
   "metadata": {},
   "outputs": [
    {
     "data": {
      "text/html": [
       "<div>\n",
       "<style scoped>\n",
       "    .dataframe tbody tr th:only-of-type {\n",
       "        vertical-align: middle;\n",
       "    }\n",
       "\n",
       "    .dataframe tbody tr th {\n",
       "        vertical-align: top;\n",
       "    }\n",
       "\n",
       "    .dataframe thead th {\n",
       "        text-align: right;\n",
       "    }\n",
       "</style>\n",
       "<table border=\"1\" class=\"dataframe\">\n",
       "  <thead>\n",
       "    <tr style=\"text-align: right;\">\n",
       "      <th></th>\n",
       "      <th>flare_id</th>\n",
       "      <th>duration</th>\n",
       "      <th>peak_UTC</th>\n",
       "      <th>LC0_BKG</th>\n",
       "      <th>_id</th>\n",
       "      <th>GOES_class</th>\n",
       "      <th>GOES_flux</th>\n",
       "      <th>CFL_X_arcsec</th>\n",
       "      <th>CFL_Y_arcsec</th>\n",
       "      <th>start_UTC</th>\n",
       "      <th>end_UTC</th>\n",
       "      <th>LC0_peak_counts_4sec</th>\n",
       "      <th>goes_class_ind</th>\n",
       "      <th>loc</th>\n",
       "      <th>lon</th>\n",
       "      <th>rad</th>\n",
       "    </tr>\n",
       "  </thead>\n",
       "  <tbody>\n",
       "    <tr>\n",
       "      <th>160</th>\n",
       "      <td>2110260246</td>\n",
       "      <td>376</td>\n",
       "      <td>2021-10-26T02:46:35.577</td>\n",
       "      <td>247.0</td>\n",
       "      <td>2537</td>\n",
       "      <td>M1.3</td>\n",
       "      <td>0.000013</td>\n",
       "      <td>0.0</td>\n",
       "      <td>0.0</td>\n",
       "      <td>2021-10-26 02:44:51.577</td>\n",
       "      <td>2021-10-26T02:51:07.578</td>\n",
       "      <td>172031</td>\n",
       "      <td>M</td>\n",
       "      <td>&lt;SkyCoord (HeliographicStonyhurst: obstime=202...</td>\n",
       "      <td>-3.798244</td>\n",
       "      <td>1.177350e+08</td>\n",
       "    </tr>\n",
       "    <tr>\n",
       "      <th>182</th>\n",
       "      <td>2110261554</td>\n",
       "      <td>376</td>\n",
       "      <td>2021-10-26T15:54:47.660</td>\n",
       "      <td>271.0</td>\n",
       "      <td>2614</td>\n",
       "      <td>M1.0</td>\n",
       "      <td>0.000010</td>\n",
       "      <td>0.0</td>\n",
       "      <td>0.0</td>\n",
       "      <td>2021-10-26 15:51:43.660</td>\n",
       "      <td>2021-10-26T15:57:59.661</td>\n",
       "      <td>86015</td>\n",
       "      <td>M</td>\n",
       "      <td>&lt;SkyCoord (HeliographicStonyhurst: obstime=202...</td>\n",
       "      <td>-3.573378</td>\n",
       "      <td>1.182816e+08</td>\n",
       "    </tr>\n",
       "    <tr>\n",
       "      <th>211</th>\n",
       "      <td>2110280739</td>\n",
       "      <td>508</td>\n",
       "      <td>2021-10-28T07:39:39.400</td>\n",
       "      <td>271.0</td>\n",
       "      <td>2601</td>\n",
       "      <td>M1.3</td>\n",
       "      <td>0.000013</td>\n",
       "      <td>290.0</td>\n",
       "      <td>-670.0</td>\n",
       "      <td>2021-10-28 07:38:39.400</td>\n",
       "      <td>2021-10-28T07:47:07.401</td>\n",
       "      <td>155647</td>\n",
       "      <td>M</td>\n",
       "      <td>&lt;SkyCoord (HeliographicStonyhurst: obstime=202...</td>\n",
       "      <td>-2.934817</td>\n",
       "      <td>1.199389e+08</td>\n",
       "    </tr>\n",
       "    <tr>\n",
       "      <th>214</th>\n",
       "      <td>2110281030</td>\n",
       "      <td>536</td>\n",
       "      <td>2021-10-28T10:30:15.418</td>\n",
       "      <td>735.0</td>\n",
       "      <td>2650</td>\n",
       "      <td>M2.1</td>\n",
       "      <td>0.000021</td>\n",
       "      <td>330.0</td>\n",
       "      <td>-640.0</td>\n",
       "      <td>2021-10-28 10:27:27.418</td>\n",
       "      <td>2021-10-28T10:36:23.419</td>\n",
       "      <td>221183</td>\n",
       "      <td>M</td>\n",
       "      <td>&lt;SkyCoord (HeliographicStonyhurst: obstime=202...</td>\n",
       "      <td>-2.892091</td>\n",
       "      <td>1.200560e+08</td>\n",
       "    </tr>\n",
       "    <tr>\n",
       "      <th>224</th>\n",
       "      <td>2110281526</td>\n",
       "      <td>144</td>\n",
       "      <td>2021-10-28T15:26:15.448</td>\n",
       "      <td>735.0</td>\n",
       "      <td>2656</td>\n",
       "      <td>M2.0</td>\n",
       "      <td>0.000020</td>\n",
       "      <td>320.0</td>\n",
       "      <td>-570.0</td>\n",
       "      <td>2021-10-28 15:24:47.448</td>\n",
       "      <td>2021-10-28T15:27:11.448</td>\n",
       "      <td>155647</td>\n",
       "      <td>M</td>\n",
       "      <td>&lt;SkyCoord (HeliographicStonyhurst: obstime=202...</td>\n",
       "      <td>-2.817601</td>\n",
       "      <td>1.202622e+08</td>\n",
       "    </tr>\n",
       "    <tr>\n",
       "      <th>225</th>\n",
       "      <td>2110281540</td>\n",
       "      <td>220</td>\n",
       "      <td>2021-10-28T15:40:07.449</td>\n",
       "      <td>735.0</td>\n",
       "      <td>2657</td>\n",
       "      <td>M7.9</td>\n",
       "      <td>0.000079</td>\n",
       "      <td>320.0</td>\n",
       "      <td>-550.0</td>\n",
       "      <td>2021-10-28 15:37:27.449</td>\n",
       "      <td>2021-10-28T15:41:07.450</td>\n",
       "      <td>344063</td>\n",
       "      <td>M</td>\n",
       "      <td>&lt;SkyCoord (HeliographicStonyhurst: obstime=202...</td>\n",
       "      <td>-2.814449</td>\n",
       "      <td>1.202710e+08</td>\n",
       "    </tr>\n",
       "    <tr>\n",
       "      <th>226</th>\n",
       "      <td>2110281736</td>\n",
       "      <td>35680</td>\n",
       "      <td>2021-10-28T17:36:11.461</td>\n",
       "      <td>735.0</td>\n",
       "      <td>2658</td>\n",
       "      <td>M1.4</td>\n",
       "      <td>0.000014</td>\n",
       "      <td>20.0</td>\n",
       "      <td>0.0</td>\n",
       "      <td>2021-10-28 16:12:07.453</td>\n",
       "      <td>2021-10-29T02:06:47.513</td>\n",
       "      <td>1855</td>\n",
       "      <td>M</td>\n",
       "      <td>&lt;SkyCoord (HeliographicStonyhurst: obstime=202...</td>\n",
       "      <td>-2.805832</td>\n",
       "      <td>1.202951e+08</td>\n",
       "    </tr>\n",
       "    <tr>\n",
       "      <th>235</th>\n",
       "      <td>2111010137</td>\n",
       "      <td>2236</td>\n",
       "      <td>2021-11-01T01:37:12.050</td>\n",
       "      <td>271.0</td>\n",
       "      <td>2695</td>\n",
       "      <td>M1.6</td>\n",
       "      <td>0.000016</td>\n",
       "      <td>0.0</td>\n",
       "      <td>0.0</td>\n",
       "      <td>2021-11-01 01:26:04.049</td>\n",
       "      <td>2021-11-01T02:03:20.053</td>\n",
       "      <td>63487</td>\n",
       "      <td>M</td>\n",
       "      <td>&lt;SkyCoord (HeliographicStonyhurst: obstime=202...</td>\n",
       "      <td>-1.722564</td>\n",
       "      <td>1.236649e+08</td>\n",
       "    </tr>\n",
       "    <tr>\n",
       "      <th>242</th>\n",
       "      <td>2111020242</td>\n",
       "      <td>6240</td>\n",
       "      <td>2021-11-02T02:42:22.803</td>\n",
       "      <td>271.0</td>\n",
       "      <td>2708</td>\n",
       "      <td>M1.7</td>\n",
       "      <td>0.000017</td>\n",
       "      <td>0.0</td>\n",
       "      <td>0.0</td>\n",
       "      <td>2021-11-02 02:12:58.800</td>\n",
       "      <td>2021-11-02T03:56:58.811</td>\n",
       "      <td>47103</td>\n",
       "      <td>M</td>\n",
       "      <td>&lt;SkyCoord (HeliographicStonyhurst: obstime=202...</td>\n",
       "      <td>-1.440809</td>\n",
       "      <td>1.246871e+08</td>\n",
       "    </tr>\n",
       "    <tr>\n",
       "      <th>260</th>\n",
       "      <td>2111091653</td>\n",
       "      <td>3160</td>\n",
       "      <td>2021-11-09T16:53:03.716</td>\n",
       "      <td>247.0</td>\n",
       "      <td>2795</td>\n",
       "      <td>M2.0</td>\n",
       "      <td>0.000020</td>\n",
       "      <td>0.0</td>\n",
       "      <td>0.0</td>\n",
       "      <td>2021-11-09 16:37:31.714</td>\n",
       "      <td>2021-11-09T17:30:11.720</td>\n",
       "      <td>55295</td>\n",
       "      <td>M</td>\n",
       "      <td>&lt;SkyCoord (HeliographicStonyhurst: obstime=202...</td>\n",
       "      <td>0.004987</td>\n",
       "      <td>1.320723e+08</td>\n",
       "    </tr>\n",
       "    <tr>\n",
       "      <th>286</th>\n",
       "      <td>2112050714</td>\n",
       "      <td>2136</td>\n",
       "      <td>2021-12-05T07:14:31.976</td>\n",
       "      <td>271.0</td>\n",
       "      <td>2894</td>\n",
       "      <td>M1.4</td>\n",
       "      <td>0.000014</td>\n",
       "      <td>1040.0</td>\n",
       "      <td>-410.0</td>\n",
       "      <td>2021-12-05 07:07:43.975</td>\n",
       "      <td>2021-12-05T07:43:19.979</td>\n",
       "      <td>43007</td>\n",
       "      <td>M</td>\n",
       "      <td>&lt;SkyCoord (HeliographicStonyhurst: obstime=202...</td>\n",
       "      <td>-2.549653</td>\n",
       "      <td>1.504285e+08</td>\n",
       "    </tr>\n",
       "  </tbody>\n",
       "</table>\n",
       "</div>"
      ],
      "text/plain": [
       "       flare_id  duration                 peak_UTC  LC0_BKG   _id GOES_class  \\\n",
       "160  2110260246       376  2021-10-26T02:46:35.577    247.0  2537       M1.3   \n",
       "182  2110261554       376  2021-10-26T15:54:47.660    271.0  2614       M1.0   \n",
       "211  2110280739       508  2021-10-28T07:39:39.400    271.0  2601       M1.3   \n",
       "214  2110281030       536  2021-10-28T10:30:15.418    735.0  2650       M2.1   \n",
       "224  2110281526       144  2021-10-28T15:26:15.448    735.0  2656       M2.0   \n",
       "225  2110281540       220  2021-10-28T15:40:07.449    735.0  2657       M7.9   \n",
       "226  2110281736     35680  2021-10-28T17:36:11.461    735.0  2658       M1.4   \n",
       "235  2111010137      2236  2021-11-01T01:37:12.050    271.0  2695       M1.6   \n",
       "242  2111020242      6240  2021-11-02T02:42:22.803    271.0  2708       M1.7   \n",
       "260  2111091653      3160  2021-11-09T16:53:03.716    247.0  2795       M2.0   \n",
       "286  2112050714      2136  2021-12-05T07:14:31.976    271.0  2894       M1.4   \n",
       "\n",
       "     GOES_flux CFL_X_arcsec CFL_Y_arcsec               start_UTC  \\\n",
       "160   0.000013          0.0          0.0 2021-10-26 02:44:51.577   \n",
       "182   0.000010          0.0          0.0 2021-10-26 15:51:43.660   \n",
       "211   0.000013        290.0       -670.0 2021-10-28 07:38:39.400   \n",
       "214   0.000021        330.0       -640.0 2021-10-28 10:27:27.418   \n",
       "224   0.000020        320.0       -570.0 2021-10-28 15:24:47.448   \n",
       "225   0.000079        320.0       -550.0 2021-10-28 15:37:27.449   \n",
       "226   0.000014         20.0          0.0 2021-10-28 16:12:07.453   \n",
       "235   0.000016          0.0          0.0 2021-11-01 01:26:04.049   \n",
       "242   0.000017          0.0          0.0 2021-11-02 02:12:58.800   \n",
       "260   0.000020          0.0          0.0 2021-11-09 16:37:31.714   \n",
       "286   0.000014       1040.0       -410.0 2021-12-05 07:07:43.975   \n",
       "\n",
       "                     end_UTC  LC0_peak_counts_4sec goes_class_ind  \\\n",
       "160  2021-10-26T02:51:07.578                172031              M   \n",
       "182  2021-10-26T15:57:59.661                 86015              M   \n",
       "211  2021-10-28T07:47:07.401                155647              M   \n",
       "214  2021-10-28T10:36:23.419                221183              M   \n",
       "224  2021-10-28T15:27:11.448                155647              M   \n",
       "225  2021-10-28T15:41:07.450                344063              M   \n",
       "226  2021-10-29T02:06:47.513                  1855              M   \n",
       "235  2021-11-01T02:03:20.053                 63487              M   \n",
       "242  2021-11-02T03:56:58.811                 47103              M   \n",
       "260  2021-11-09T17:30:11.720                 55295              M   \n",
       "286  2021-12-05T07:43:19.979                 43007              M   \n",
       "\n",
       "                                                   loc       lon           rad  \n",
       "160  <SkyCoord (HeliographicStonyhurst: obstime=202... -3.798244  1.177350e+08  \n",
       "182  <SkyCoord (HeliographicStonyhurst: obstime=202... -3.573378  1.182816e+08  \n",
       "211  <SkyCoord (HeliographicStonyhurst: obstime=202... -2.934817  1.199389e+08  \n",
       "214  <SkyCoord (HeliographicStonyhurst: obstime=202... -2.892091  1.200560e+08  \n",
       "224  <SkyCoord (HeliographicStonyhurst: obstime=202... -2.817601  1.202622e+08  \n",
       "225  <SkyCoord (HeliographicStonyhurst: obstime=202... -2.814449  1.202710e+08  \n",
       "226  <SkyCoord (HeliographicStonyhurst: obstime=202... -2.805832  1.202951e+08  \n",
       "235  <SkyCoord (HeliographicStonyhurst: obstime=202... -1.722564  1.236649e+08  \n",
       "242  <SkyCoord (HeliographicStonyhurst: obstime=202... -1.440809  1.246871e+08  \n",
       "260  <SkyCoord (HeliographicStonyhurst: obstime=202...  0.004987  1.320723e+08  \n",
       "286  <SkyCoord (HeliographicStonyhurst: obstime=202... -2.549653  1.504285e+08  "
      ]
     },
     "execution_count": 165,
     "metadata": {},
     "output_type": "execute_result"
    }
   ],
   "source": [
    "stix_5deg_m"
   ]
  },
  {
   "cell_type": "code",
   "execution_count": 97,
   "id": "4540dd03",
   "metadata": {},
   "outputs": [],
   "source": [
    "stix_90deg = stix_flares_c[((stix_flares_c[\"lon\"]<=90)&(stix_flares_c[\"lon\"]>=20))|\n",
    "                           ((stix_flares_c[\"lon\"]>=-90)&(stix_flares_c[\"lon\"]<=-20))]"
   ]
  },
  {
   "cell_type": "code",
   "execution_count": 98,
   "id": "71cbf6ba",
   "metadata": {},
   "outputs": [
    {
     "data": {
      "image/png": "[encoded data removed]",
      "text/plain": [
       "<Figure size 432x432 with 2 Axes>"
      ]
     },
     "metadata": {
      "needs_background": "light"
     },
     "output_type": "display_data"
    }
   ],
   "source": [
    "fig = plt.figure(figsize=(6, 6))\n",
    "ax = fig.add_subplot(projection='polar')\n",
    "\n",
    "im = ax.scatter(solo_coords_hgs.lon.to(u.rad), \n",
    "           solo_coords_hgs.radius.to(u.au), c=ticks, s=20)\n",
    "\n",
    "ax.plot(earth_coords_hgs[0].lon.to(u.rad), \n",
    "           earth_coords_hgs[0].radius.to(u.au), ms=12, marker='.', color=\"blue\", label=\"Earth\")\n",
    "\n",
    "ax.plot(sun_coords_hgs[0].lon.to(u.rad), \n",
    "        sun_coords_hgs[0].radius.to(u.AU), marker='o', color='y', label=\"Sun\",  ms=14)\n",
    "\n",
    "\n",
    "\n",
    "ax.scatter(stix_90deg[\"lon\"]*u.deg.to(u.rad), \n",
    "           stix_90deg[\"rad\"]*u.km.to(u.au), s=20, marker='x', color='r', label=\"Flares\")\n",
    "\n",
    "\n",
    "ax.plot([0*u.deg.to(u.rad), 5*u.deg.to(u.rad)], [0, 1.3], color='k', ls=\"dashed\")\n",
    "ax.plot([0*u.deg.to(u.rad), -5*u.deg.to(u.rad)], [0, 1.3], color='k', ls=\"dashed\")\n",
    "\n",
    "ax.set_theta_zero_location(\"S\")\n",
    "_ = ax.set_yticklabels([])\n",
    "\n",
    "ax.set_rlim(0, 1.3)\n",
    "ax.set_title(\"Positions in Heliographic StonyHurst\")\n",
    "\n",
    "cbar = fig.colorbar(im, ticks=[ticks[0],ticks[int(len(ticks)/2)], ticks[-1]], pad=0.1, shrink=0.6)\n",
    "cbar.ax.set_yticklabels([dates.num2date(ticks[0]).strftime(\"%Y-%m-%d\"), \n",
    "                         dates.num2date(ticks[int(len(ticks)/2)]).strftime(\"%Y-%m-%d\"),\n",
    "                         dates.num2date(ticks[-1]).strftime(\"%Y-%m-%d\")])  # vertically oriented colorbar\n",
    "#ax.legend()\n",
    "plt.tight_layout()\n",
    "plt.savefig(\"orbit_from_earth_within90.png\", dpi=300, facecolor='w', bbox_inches=\"tight\")"
   ]
  },
  {
   "cell_type": "code",
   "execution_count": null,
   "id": "0435ef77",
   "metadata": {},
   "outputs": [],
   "source": []
  }
 ],
 "metadata": {
  "kernelspec": {
   "display_name": "Python 3 (ipykernel)",
   "language": "python",
   "name": "python3"
  },
  "language_info": {
   "codemirror_mode": {
    "name": "ipython",
    "version": 3
   },
   "file_extension": ".py",
   "mimetype": "text/x-python",
   "name": "python",
   "nbconvert_exporter": "python",
   "pygments_lexer": "ipython3",
   "version": "3.10.5"
  }
 },
 "nbformat": 4,
 "nbformat_minor": 5
}
