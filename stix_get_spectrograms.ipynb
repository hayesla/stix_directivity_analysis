{
 "cells": [
  {
   "cell_type": "code",
   "execution_count": 29,
   "id": "ed75e620",
   "metadata": {},
   "outputs": [],
   "source": [
    "import pandas as pd\n",
    "import matplotlib.pyplot as plt\n",
    "from matplotlib import dates, colors\n",
    "from astropy import units as u\n",
    "from astropy.coordinates import SkyCoord\n",
    "from astropy.time import Time\n",
    "from sunpy.coordinates import frames, get_horizons_coord\n",
    "import numpy as np\n",
    "from sunpy.net import Fido, attrs as a\n",
    "from stixpy.net.client import STIXClient"
   ]
  },
  {
   "cell_type": "code",
   "execution_count": 30,
   "id": "803f535e",
   "metadata": {},
   "outputs": [],
   "source": [
    "stix_flares = pd.read_csv(\"flare_ana_18_flares.csv\")"
   ]
  },
  {
   "cell_type": "code",
   "execution_count": 40,
   "id": "929add81",
   "metadata": {},
   "outputs": [
    {
     "name": "stderr",
     "output_type": "stream",
     "text": [
      "/Users/laura.hayes/opt/miniconda3/envs/stix_directivity/lib/python3.10/site-packages/stixpy/net/client.py:91: SunpyDeprecationWarning: The Scraper class is deprecated and may be removed in version 4.1.\n",
      "        Use sunpy.net.Scraper instead.\n",
      "  scraper = Scraper(url, regex=True)\n"
     ]
    }
   ],
   "source": [
    "tstart = stix_flares[\"start_UTC\"].iloc[1]\n",
    "tend = stix_flares[\"end_UTC\"].iloc[1]\n",
    "\n",
    "tstart_s = (Time(tstart)-15*u.min).strftime(\"%Y-%m-%d %H:%M:%S\")\n",
    "tend_s = (Time(tend)+15*u.min).strftime(\"%Y-%m-%d %H:%M:%S\")\n",
    "res = Fido.search(a.Time(tstart_s, tend_s), \n",
    "                  a.Instrument.stix,)"
   ]
  },
  {
   "cell_type": "code",
   "execution_count": 41,
   "id": "566f549c",
   "metadata": {},
   "outputs": [
    {
     "data": {
      "text/html": [
       "Results from 1 Provider:</br></br>11 Results from the STIXClient:</br><div><i>QueryResponse length=11</i>\n",
       "<table id=\"table5038261344\" class=\"table-striped table-bordered table-condensed\">\n",
       "<thead><tr><th>DataProduct</th><th>DataType</th><th>End Time</th><th>Instrument</th><th>Level</th><th>Request ID</th><th>Start Time</th><th>Ver</th><th>time</th><th>ver</th></tr></thead>\n",
       "<thead><tr><th>str13</th><th>str3</th><th>object</th><th>str4</th><th>str2</th><th>str21</th><th>object</th><th>str3</th><th>str8</th><th>str3</th></tr></thead>\n",
       "<tr><td>ql-lightcurve</td><td>QL</td><td>2021-08-28 23:59:59.999</td><td>STIX</td><td>L1</td><td>-</td><td>2021-08-28 00:00:00.000</td><td>--</td><td>--</td><td>--</td></tr>\n",
       "<tr><td>ql-background</td><td>QL</td><td>2021-08-28 23:59:59.999</td><td>STIX</td><td>L1</td><td>-</td><td>2021-08-28 00:00:00.000</td><td>--</td><td>--</td><td>--</td></tr>\n",
       "<tr><td>ql-variance</td><td>QL</td><td>2021-08-28 23:59:59.999</td><td>STIX</td><td>L1</td><td>-</td><td>2021-08-28 00:00:00.000</td><td>--</td><td>--</td><td>--</td></tr>\n",
       "<tr><td>ql-spectra</td><td>QL</td><td>2021-08-28 23:59:59.999</td><td>STIX</td><td>L1</td><td>-</td><td>2021-08-28 00:00:00.000</td><td>--</td><td>--</td><td>--</td></tr>\n",
       "<tr><td>ql-flareflag</td><td>QL</td><td>2021-08-28 23:59:59.999</td><td>STIX</td><td>L1</td><td>-</td><td>2021-08-28 00:00:00.000</td><td>--</td><td>--</td><td>--</td></tr>\n",
       "<tr><td>ci-xray-cpd</td><td>SCI</td><td>2021-08-28 05:13:08.000</td><td>STIX</td><td>L1</td><td>2108280281</td><td>2021-08-28 04:58:23.000</td><td>V01</td><td>--</td><td>--</td></tr>\n",
       "<tr><td>ci-xray-cpd</td><td>SCI</td><td>2021-08-28 05:02:39.000</td><td>STIX</td><td>L1</td><td>2108280287</td><td>2021-08-28 05:00:14.000</td><td>V01</td><td>--</td><td>--</td></tr>\n",
       "<tr><td>ci-xray-spec</td><td>SCI</td><td>2021-08-28 05:15:25.000</td><td>STIX</td><td>L1</td><td>2108290171</td><td>2021-08-28 04:55:24.000</td><td>V01</td><td>--</td><td>--</td></tr>\n",
       "<tr><td>ci-xray-spec</td><td>SCI</td><td>2021-08-28 05:14:46.000</td><td>STIX</td><td>L1</td><td>2108280268</td><td>2021-08-28 04:55:46.000</td><td>V01</td><td>--</td><td>--</td></tr>\n",
       "<tr><td>CAL_ENERGY</td><td>CAL</td><td>2021-08-28 23:59:59.999</td><td>STIX</td><td>L1</td><td>--</td><td>2021-08-28 00:00:00.000</td><td>--</td><td>20210828</td><td>V01</td></tr>\n",
       "<tr><td>CAL_ENERGY</td><td>AUX</td><td>2021-08-28 23:59:59.999</td><td>STIX</td><td>L2</td><td>--</td><td>2021-08-28 00:00:00.000</td><td>--</td><td>20210828</td><td>V01</td></tr>\n",
       "</table></div></br>"
      ],
      "text/plain": [
       "<sunpy.net.fido_factory.UnifiedResponse object at 0x12c4dda80>\n",
       "Results from 1 Provider:\n",
       "\n",
       "11 Results from the STIXClient:\n",
       "\n",
       " DataProduct  DataType         End Time        Instrument Level Request ID        Start Time       Ver   time   ver\n",
       "------------- -------- ----------------------- ---------- ----- ---------- ----------------------- --- -------- ---\n",
       "ql-lightcurve       QL 2021-08-28 23:59:59.999       STIX    L1          - 2021-08-28 00:00:00.000  --       --  --\n",
       "ql-background       QL 2021-08-28 23:59:59.999       STIX    L1          - 2021-08-28 00:00:00.000  --       --  --\n",
       "  ql-variance       QL 2021-08-28 23:59:59.999       STIX    L1          - 2021-08-28 00:00:00.000  --       --  --\n",
       "   ql-spectra       QL 2021-08-28 23:59:59.999       STIX    L1          - 2021-08-28 00:00:00.000  --       --  --\n",
       " ql-flareflag       QL 2021-08-28 23:59:59.999       STIX    L1          - 2021-08-28 00:00:00.000  --       --  --\n",
       "  ci-xray-cpd      SCI 2021-08-28 05:13:08.000       STIX    L1 2108280281 2021-08-28 04:58:23.000 V01       --  --\n",
       "  ci-xray-cpd      SCI 2021-08-28 05:02:39.000       STIX    L1 2108280287 2021-08-28 05:00:14.000 V01       --  --\n",
       " ci-xray-spec      SCI 2021-08-28 05:15:25.000       STIX    L1 2108290171 2021-08-28 04:55:24.000 V01       --  --\n",
       " ci-xray-spec      SCI 2021-08-28 05:14:46.000       STIX    L1 2108280268 2021-08-28 04:55:46.000 V01       --  --\n",
       "   CAL_ENERGY      CAL 2021-08-28 23:59:59.999       STIX    L1         -- 2021-08-28 00:00:00.000  -- 20210828 V01\n",
       "   CAL_ENERGY      AUX 2021-08-28 23:59:59.999       STIX    L2         -- 2021-08-28 00:00:00.000  -- 20210828 V01\n"
      ]
     },
     "execution_count": 41,
     "metadata": {},
     "output_type": "execute_result"
    }
   ],
   "source": [
    "res"
   ]
  },
  {
   "cell_type": "code",
   "execution_count": 37,
   "id": "4bac404e",
   "metadata": {},
   "outputs": [
    {
     "data": {
      "text/plain": [
       "0     2021-08-22 10:14:42.130\n",
       "1     2021-08-28 05:00:36.576\n",
       "2     2021-08-28 05:53:24.582\n",
       "3     2021-09-22 20:08:40.073\n",
       "4     2021-10-26 02:44:51.577\n",
       "5     2021-10-26 05:59:23.597\n",
       "6     2021-10-28 10:27:27.418\n",
       "7     2021-11-01 01:26:04.049\n",
       "8     2022-02-03 20:39:24.549\n",
       "9     2022-03-02 17:28:48.149\n",
       "10    2022-03-11 22:09:44.131\n",
       "11    2022-03-13 03:05:07.912\n",
       "12    2022-03-28 10:31:44.251\n",
       "13    2022-04-02 13:01:04.427\n",
       "14    2022-04-02 15:32:48.443\n",
       "15    2022-04-03 12:36:12.477\n",
       "16    2022-04-19 20:28:32.133\n",
       "17    2022-04-30 18:52:07.633\n",
       "Name: start_UTC, dtype: object"
      ]
     },
     "execution_count": 37,
     "metadata": {},
     "output_type": "execute_result"
    }
   ],
   "source": [
    "stix_flares[\"start_UTC\"]"
   ]
  },
  {
   "cell_type": "code",
   "execution_count": 36,
   "id": "f1b80c66",
   "metadata": {},
   "outputs": [
    {
     "data": {
      "text/html": [
       "Results from 1 Provider:</br></br>8 Results from the STIXClient:</br><div><i>QueryResponse length=8</i>\n",
       "<table id=\"table5033538944\" class=\"table-striped table-bordered table-condensed\">\n",
       "<thead><tr><th>DataProduct</th><th>DataType</th><th>End Time</th><th>Instrument</th><th>Level</th><th>Request ID</th><th>Start Time</th><th>Ver</th><th>time</th><th>ver</th></tr></thead>\n",
       "<thead><tr><th>str13</th><th>str3</th><th>object</th><th>str4</th><th>str2</th><th>str21</th><th>object</th><th>str3</th><th>str8</th><th>str3</th></tr></thead>\n",
       "<tr><td>ql-lightcurve</td><td>QL</td><td>2021-08-22 23:59:59.999</td><td>STIX</td><td>L1</td><td>-</td><td>2021-08-22 00:00:00.000</td><td>--</td><td>--</td><td>--</td></tr>\n",
       "<tr><td>ql-background</td><td>QL</td><td>2021-08-22 23:59:59.999</td><td>STIX</td><td>L1</td><td>-</td><td>2021-08-22 00:00:00.000</td><td>--</td><td>--</td><td>--</td></tr>\n",
       "<tr><td>ql-variance</td><td>QL</td><td>2021-08-22 23:59:59.999</td><td>STIX</td><td>L1</td><td>-</td><td>2021-08-22 00:00:00.000</td><td>--</td><td>--</td><td>--</td></tr>\n",
       "<tr><td>ql-spectra</td><td>QL</td><td>2021-08-22 23:59:59.999</td><td>STIX</td><td>L1</td><td>-</td><td>2021-08-22 00:00:00.000</td><td>--</td><td>--</td><td>--</td></tr>\n",
       "<tr><td>ql-flareflag</td><td>QL</td><td>2021-08-22 23:59:59.999</td><td>STIX</td><td>L1</td><td>-</td><td>2021-08-22 00:00:00.000</td><td>--</td><td>--</td><td>--</td></tr>\n",
       "<tr><td>ci-xray-cpd</td><td>SCI</td><td>2021-08-22 10:18:00.000</td><td>STIX</td><td>L1</td><td>2108220509</td><td>2021-08-22 10:14:10.000</td><td>V01</td><td>--</td><td>--</td></tr>\n",
       "<tr><td>CAL_ENERGY</td><td>CAL</td><td>2021-08-22 23:59:59.999</td><td>STIX</td><td>L1</td><td>--</td><td>2021-08-22 00:00:00.000</td><td>--</td><td>20210822</td><td>V01</td></tr>\n",
       "<tr><td>CAL_ENERGY</td><td>AUX</td><td>2021-08-22 23:59:59.999</td><td>STIX</td><td>L2</td><td>--</td><td>2021-08-22 00:00:00.000</td><td>--</td><td>20210822</td><td>V01</td></tr>\n",
       "</table></div></br>"
      ],
      "text/plain": [
       "<sunpy.net.fido_factory.UnifiedResponse object at 0x12bcb2e60>\n",
       "Results from 1 Provider:\n",
       "\n",
       "8 Results from the STIXClient:\n",
       "\n",
       " DataProduct  DataType         End Time        Instrument Level Request ID        Start Time       Ver   time   ver\n",
       "------------- -------- ----------------------- ---------- ----- ---------- ----------------------- --- -------- ---\n",
       "ql-lightcurve       QL 2021-08-22 23:59:59.999       STIX    L1          - 2021-08-22 00:00:00.000  --       --  --\n",
       "ql-background       QL 2021-08-22 23:59:59.999       STIX    L1          - 2021-08-22 00:00:00.000  --       --  --\n",
       "  ql-variance       QL 2021-08-22 23:59:59.999       STIX    L1          - 2021-08-22 00:00:00.000  --       --  --\n",
       "   ql-spectra       QL 2021-08-22 23:59:59.999       STIX    L1          - 2021-08-22 00:00:00.000  --       --  --\n",
       " ql-flareflag       QL 2021-08-22 23:59:59.999       STIX    L1          - 2021-08-22 00:00:00.000  --       --  --\n",
       "  ci-xray-cpd      SCI 2021-08-22 10:18:00.000       STIX    L1 2108220509 2021-08-22 10:14:10.000 V01       --  --\n",
       "   CAL_ENERGY      CAL 2021-08-22 23:59:59.999       STIX    L1         -- 2021-08-22 00:00:00.000  -- 20210822 V01\n",
       "   CAL_ENERGY      AUX 2021-08-22 23:59:59.999       STIX    L2         -- 2021-08-22 00:00:00.000  -- 20210822 V01\n"
      ]
     },
     "execution_count": 36,
     "metadata": {},
     "output_type": "execute_result"
    }
   ],
   "source": [
    "res"
   ]
  },
  {
   "cell_type": "code",
   "execution_count": null,
   "id": "ac864a62",
   "metadata": {},
   "outputs": [],
   "source": []
  }
 ],
 "metadata": {
  "kernelspec": {
   "display_name": "Python 3 (ipykernel)",
   "language": "python",
   "name": "python3"
  },
  "language_info": {
   "codemirror_mode": {
    "name": "ipython",
    "version": 3
   },
   "file_extension": ".py",
   "mimetype": "text/x-python",
   "name": "python",
   "nbconvert_exporter": "python",
   "pygments_lexer": "ipython3",
   "version": "3.10.5"
  }
 },
 "nbformat": 4,
 "nbformat_minor": 5
}
