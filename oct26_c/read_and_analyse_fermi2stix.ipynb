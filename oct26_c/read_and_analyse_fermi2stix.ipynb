{
 "cells": [
  {
   "cell_type": "code",
   "execution_count": 1,
   "id": "084b48df",
   "metadata": {},
   "outputs": [],
   "source": [
    "from scipy.io import readsav\n",
    "import matplotlib.pyplot as plt \n",
    "from matplotlib import dates, colors\n",
    "import numpy as np \n",
    "import pandas as pd \n",
    "from sunpy.time import parse_time"
   ]
  },
  {
   "cell_type": "markdown",
   "id": "47e28f8f",
   "metadata": {},
   "source": [
    "## Read in sav files with results"
   ]
  },
  {
   "cell_type": "code",
   "execution_count": 2,
   "id": "db67209a",
   "metadata": {},
   "outputs": [],
   "source": [
    "data_file = \"stix_spec_fermi_firsttest.sav\""
   ]
  },
  {
   "cell_type": "code",
   "execution_count": 3,
   "id": "e8e646cd",
   "metadata": {},
   "outputs": [],
   "source": [
    "data = readsav(data_file)[\"out\"]"
   ]
  },
  {
   "cell_type": "code",
   "execution_count": 4,
   "id": "31c326e5",
   "metadata": {},
   "outputs": [
    {
     "data": {
      "text/plain": [
       "('STIX_DATA',\n",
       " 'STIX_TIME_EDGES',\n",
       " 'STIX_TIME_ARR',\n",
       " 'STIX_ENERGY_EDGES',\n",
       " 'FIT_PARAMS',\n",
       " 'FIT_PARAM_SIGMAS',\n",
       " 'FIT_NAME',\n",
       " 'FERMI_FIT_TIMES_EDGES',\n",
       " 'FERMI_FIT_FLUX',\n",
       " 'FERMI_FIT_FLUX_ERR',\n",
       " 'FERMI_TIME_ARR',\n",
       " 'FERMI_EEDGES',\n",
       " 'C_RATE_PRED',\n",
       " 'C_RATE_NT_PRED')"
      ]
     },
     "execution_count": 4,
     "metadata": {},
     "output_type": "execute_result"
    }
   ],
   "source": [
    "data.dtype.names"
   ]
  },
  {
   "cell_type": "code",
   "execution_count": 5,
   "id": "42e9c8b9",
   "metadata": {},
   "outputs": [],
   "source": [
    "stix_data_struct = data[\"STIX_DATA\"][0]\n",
    "stix_data = stix_data_struct[\"DATA\"][0]\n",
    "stix_data_err = stix_data_struct[\"EDATA\"][0]\n",
    "stix_time_arr = data[\"STIX_TIME_ARR\"][0]\n",
    "stix_tedges = data[\"STIX_TIME_EDGES\"][0]\n",
    "stix_eedges = data[\"STIX_ENERGY_EDGES\"][0]\n",
    "fermi_fit_params = data[\"FIT_PARAMS\"][0]\n",
    "fermi_fit_params_err = data[\"FIT_PARAM_SIGMAS\"][0]\n",
    "fermi_fit_name = data[\"FIT_NAME\"].astype(str)[0]\n",
    "fermi_fit_tedges = data[\"FERMI_FIT_TIMES_EDGES\"][0]\n",
    "fermi_ct_flux = data[\"FERMI_FIT_FLUX\"][0]\n",
    "fermi_ct_flux_err = data[\"FERMI_FIT_FLUX_ERR\"][0]\n",
    "\n",
    "fermi_mid_times = data[\"FERMI_TIME_ARR\"][0]\n",
    "fermi_eedges = data[\"FERMI_EEDGES\"][0]\n",
    "\n",
    "\n",
    "stix_pred = data[\"C_RATE_PRED\"][0]\n",
    "stix_nt_pred = data[\"C_RATE_NT_PRED\"][0]"
   ]
  },
  {
   "cell_type": "markdown",
   "id": "a7514186",
   "metadata": {},
   "source": [
    "### Plot fit data"
   ]
  },
  {
   "cell_type": "code",
   "execution_count": 6,
   "id": "777af204",
   "metadata": {},
   "outputs": [],
   "source": [
    "fermi_mid_times_dt = parse_time(fermi_mid_times, format=\"utime\").datetime\n",
    "fermi_mid_ens = np.average(fermi_eedges, axis=1)\n",
    "fermi_en_inds = np.where(fermi_mid_ens<100)[0]"
   ]
  },
  {
   "cell_type": "code",
   "execution_count": 7,
   "id": "a624688f",
   "metadata": {},
   "outputs": [
    {
     "data": {
      "text/plain": [
       "Text(0.5, 1.0, 'FEERMI counts used for fit')"
      ]
     },
     "execution_count": 7,
     "metadata": {},
     "output_type": "execute_result"
    },
    {
     "data": {
      "image/png": "[encoded data removed]",
      "text/plain": [
       "<Figure size 576x288 with 2 Axes>"
      ]
     },
     "metadata": {
      "needs_background": "light"
     },
     "output_type": "display_data"
    }
   ],
   "source": [
    "fig, ax = plt.subplots(figsize=(8, 4))\n",
    "im = plt.pcolormesh(fermi_mid_times_dt, \n",
    "                    fermi_mid_ens[fermi_en_inds], \n",
    "                    fermi_ct_flux[:, fermi_en_inds].T, \n",
    "                    norm=colors.LogNorm(vmin=1e-5, vmax=1e3), \n",
    "                    cmap=\"Spectral_r\")\n",
    "ax.xaxis.set_major_formatter(dates.DateFormatter(\"%H:%M\"))\n",
    "#ax.set_yscale(\"log\")\n",
    "#ax.set_ylim(0, 100)\n",
    "ax.set_ylabel(\"Energy\")\n",
    "ax.set_xlabel(\"Time {:s} UT\".format(fermi_mid_times_dt[0].strftime(\"%Y-%m-%d\")))\n",
    "fig.colorbar(im, label=\"Counts/s/kev/cm$^{-2}$\")\n",
    "ax.set_title(\"FEERMI counts used for fit\")"
   ]
  },
  {
   "cell_type": "code",
   "execution_count": 8,
   "id": "504e54ec",
   "metadata": {},
   "outputs": [],
   "source": [
    "fermi_inds_615 = np.where((fermi_eedges[:, 0]>=6)&(fermi_eedges[:, 1]<=15))[0]\n",
    "fermi_inds_1525 = np.where((fermi_eedges[:, 0]>=15)&(fermi_eedges[:, 1]<=25))[0]\n",
    "fermi_inds_2545 = np.where((fermi_eedges[:, 0]>=25)&(fermi_eedges[:, 1]<=45))[0]"
   ]
  },
  {
   "cell_type": "code",
   "execution_count": 9,
   "id": "6667214e",
   "metadata": {},
   "outputs": [
    {
     "data": {
      "text/plain": [
       "Text(0.5, 0, 'Time')"
      ]
     },
     "execution_count": 9,
     "metadata": {},
     "output_type": "execute_result"
    },
    {
     "data": {
      "image/png": "[encoded data removed]",
      "text/plain": [
       "<Figure size 432x288 with 1 Axes>"
      ]
     },
     "metadata": {
      "needs_background": "light"
     },
     "output_type": "display_data"
    }
   ],
   "source": [
    "fig, ax = plt.subplots()\n",
    "plt.plot(fermi_mid_times_dt, \n",
    "         np.sum(fermi_ct_flux[:, fermi_inds_615], axis=1), \n",
    "         drawstyle=\"steps-mid\")\n",
    "plt.plot(fermi_mid_times_dt, \n",
    "         np.sum(fermi_ct_flux[:, fermi_inds_1525], axis=1), \n",
    "         drawstyle=\"steps-mid\")\n",
    "plt.plot(fermi_mid_times_dt, \n",
    "         np.sum(fermi_ct_flux[:, fermi_inds_2545], axis=1), \n",
    "         drawstyle=\"steps-mid\")\n",
    "ax.set_yscale(\"log\")\n",
    "ax.xaxis.set_major_formatter(dates.DateFormatter(\"%H:%M\"))\n",
    "ax.set_ylabel(\"Counts/s/kev/cm$^{-2}$\")\n",
    "ax.set_xlabel(\"Time\")"
   ]
  },
  {
   "cell_type": "code",
   "execution_count": 10,
   "id": "43b8d081",
   "metadata": {},
   "outputs": [
    {
     "data": {
      "text/plain": [
       "Text(0, 0.5, 'Count flux (20-45 keV)')"
      ]
     },
     "execution_count": 10,
     "metadata": {},
     "output_type": "execute_result"
    },
    {
     "data": {
      "image/png": "[encoded data removed]",
      "text/plain": [
       "<Figure size 432x288 with 2 Axes>"
      ]
     },
     "metadata": {
      "needs_background": "light"
     },
     "output_type": "display_data"
    }
   ],
   "source": [
    "fermi_inds_2045 = np.where((fermi_eedges[:, 0]>=20)&(fermi_eedges[:, 1]<=45))[0]\n",
    "\n",
    "fig, ax = plt.subplots()\n",
    "if fermi_fit_name == \"vth+thick2\":\n",
    "    ax.errorbar(fermi_mid_times_dt, fermi_fit_params[:, 4], fermi_fit_params_err[:, 4],\n",
    "                drawstyle=\"steps-mid\")\n",
    "elif fermi_fit_name == \"1pow\":\n",
    "    ax.errorbar(fermi_mid_times_dt, fermi_fit_params[:, 1], fermi_fit_params_err[:, 1],\n",
    "                drawstyle=\"steps-mid\")\n",
    "ax.xaxis.set_major_formatter(dates.DateFormatter(\"%H:%M\"))\n",
    "ax.set_xlim(fermi_mid_times_dt[0], fermi_mid_times_dt[-1])\n",
    "ax.set_ylim(2, 10)\n",
    "\n",
    "ax2 = ax.twinx()\n",
    "errors = fermi_ct_flux_err[:, fermi_inds_2045]\n",
    "err = np.sqrt(np.sum(errors**2, axis=1))\n",
    "ax2.errorbar(fermi_mid_times_dt, np.sum(fermi_ct_flux[:, fermi_inds_2045], axis=1),\n",
    "          err,\n",
    "          drawstyle=\"steps-mid\", color='k')\n",
    "\n",
    "ax.set_ylabel(\"Power law index (thick2)\")\n",
    "ax.set_xlabel(\"Time {:s}\".format(fermi_mid_times_dt[0].strftime(\"%Y-%m-%d\")))\n",
    "ax2.set_ylabel(\"Count flux (20-45 keV)\")"
   ]
  },
  {
   "cell_type": "markdown",
   "id": "da6c64fe",
   "metadata": {},
   "source": [
    "## Plot the resulting data"
   ]
  },
  {
   "cell_type": "code",
   "execution_count": 11,
   "id": "19c92a40",
   "metadata": {},
   "outputs": [],
   "source": [
    "stix_mid_energies = np.average(stix_eedges, axis=1)\n",
    "stix_en_inds = np.where(stix_mid_energies<50)[0]"
   ]
  },
  {
   "cell_type": "code",
   "execution_count": 12,
   "id": "289b4860",
   "metadata": {},
   "outputs": [
    {
     "data": {
      "text/plain": [
       "<matplotlib.colorbar.Colorbar at 0x11d1f19c0>"
      ]
     },
     "execution_count": 12,
     "metadata": {},
     "output_type": "execute_result"
    },
    {
     "data": {
      "image/png": "[encoded data removed]",
      "text/plain": [
       "<Figure size 576x288 with 2 Axes>"
      ]
     },
     "metadata": {
      "needs_background": "light"
     },
     "output_type": "display_data"
    }
   ],
   "source": [
    "fig, ax = plt.subplots(figsize=(8, 4))\n",
    "im = ax.pcolormesh(fermi_mid_times_dt, stix_mid_energies[stix_en_inds], \n",
    "              stix_pred[:, stix_en_inds].T,\n",
    "              norm=colors.LogNorm(vmin=1e-5, vmax=1e3), \n",
    "              cmap=\"Spectral_r\")\n",
    "\n",
    "ax.set_ylabel(\"Energy\")\n",
    "ax.set_xlabel(\"Time {:s} UT\".format(fermi_mid_times_dt[0].strftime(\"%Y-%m-%d\")))\n",
    "fig.colorbar(im, label=\"Counts/s/kev/cm$^{-2}$\")"
   ]
  },
  {
   "cell_type": "markdown",
   "id": "84f8316c",
   "metadata": {},
   "source": [
    "## Lets look at the predicted 20-28 keV"
   ]
  },
  {
   "cell_type": "code",
   "execution_count": 13,
   "id": "5b65f93e",
   "metadata": {},
   "outputs": [],
   "source": [
    "t_inds = np.where((stix_tedges[:, 0]>=fermi_fit_tedges[0, 0])&(stix_tedges[:, 1]<=fermi_fit_tedges[-1, 1]))[0]"
   ]
  },
  {
   "cell_type": "code",
   "execution_count": 14,
   "id": "da8484b0",
   "metadata": {},
   "outputs": [],
   "source": [
    "new_stix = stix_data[t_inds, :]\n",
    "new_stix_err = stix_data_err[t_inds, :]\n",
    "new_stix_times = stix_time_arr[t_inds]\n",
    "new_stix_times_dt = parse_time(new_stix_times, format=\"utime\").datetime\n",
    "new_stix_tedges = stix_tedges[t_inds, :]"
   ]
  },
  {
   "cell_type": "code",
   "execution_count": 15,
   "id": "4a6ede22",
   "metadata": {},
   "outputs": [
    {
     "data": {
      "text/plain": [
       "(234, 2)"
      ]
     },
     "execution_count": 15,
     "metadata": {},
     "output_type": "execute_result"
    }
   ],
   "source": [
    "stix_tedges[t_inds, :].shape"
   ]
  },
  {
   "cell_type": "code",
   "execution_count": 16,
   "id": "b7384914",
   "metadata": {},
   "outputs": [
    {
     "data": {
      "text/plain": [
       "[<matplotlib.lines.Line2D at 0x11d3a5510>]"
      ]
     },
     "execution_count": 16,
     "metadata": {},
     "output_type": "execute_result"
    },
    {
     "data": {
      "image/png": "[encoded data removed]",
      "text/plain": [
       "<Figure size 432x288 with 1 Axes>"
      ]
     },
     "metadata": {
      "needs_background": "light"
     },
     "output_type": "display_data"
    }
   ],
   "source": [
    "plt.plot(new_stix_times_dt, new_stix[:, 9])"
   ]
  },
  {
   "cell_type": "code",
   "execution_count": 17,
   "id": "30f6bea2",
   "metadata": {},
   "outputs": [
    {
     "data": {
      "text/plain": [
       "array([3.81636953e-02, 1.23319842e-01, 5.57360835e-01, 2.45687453e-01,\n",
       "       1.10215704e-01, 5.05690413e-02, 2.68919498e-02, 1.60028509e-02,\n",
       "       9.61077257e-03, 5.80979696e-03, 3.86941000e-03, 2.65859854e-03,\n",
       "       8.94951142e-04, 5.36479808e-04, 3.74256455e-04, 1.88863917e-04,\n",
       "       1.66828595e-04, 8.21506150e-04, 1.89540567e-04, 4.17811919e-05,\n",
       "       2.36248626e-05, 2.48690496e-05, 3.29827899e-05, 2.67004643e-05,\n",
       "       2.11198654e-05, 3.09423197e-05, 7.20882175e-05])"
      ]
     },
     "execution_count": 17,
     "metadata": {},
     "output_type": "execute_result"
    }
   ],
   "source": [
    "np.sum((stix_data_err[t_inds, :]/len(t_inds))**2, axis=0)"
   ]
  },
  {
   "cell_type": "markdown",
   "id": "92ad854a",
   "metadata": {},
   "source": [
    "First lets resample STIX to the FERMI data bins used for fitting"
   ]
  },
  {
   "cell_type": "code",
   "execution_count": 18,
   "id": "fd58a44e",
   "metadata": {},
   "outputs": [
    {
     "name": "stderr",
     "output_type": "stream",
     "text": [
      "/Users/laura.hayes/opt/miniconda3/envs/stix_directivity/lib/python3.10/site-packages/numpy/core/fromnumeric.py:3432: RuntimeWarning: Mean of empty slice.\n",
      "  return _methods._mean(a, axis=axis, dtype=dtype,\n",
      "/Users/laura.hayes/opt/miniconda3/envs/stix_directivity/lib/python3.10/site-packages/numpy/core/_methods.py:182: RuntimeWarning: invalid value encountered in divide\n",
      "  ret = um.true_divide(\n"
     ]
    }
   ],
   "source": [
    "resampled_stix, resampled_stix_err = [], []\n",
    "for i in range(len(fermi_fit_tedges)):\n",
    "    t_inds = np.where((stix_tedges[:, 0]>=fermi_fit_tedges[i, 0])&(stix_tedges[:, 1]<=fermi_fit_tedges[i, 1]))[0]\n",
    "    av_data = np.mean(stix_data[t_inds, :], axis=0)\n",
    "    av_err = np.sqrt(np.sum((stix_data_err[t_inds, :]/len(t_inds))**2, axis=0))\n",
    "    resampled_stix.append(av_data)\n",
    "    resampled_stix_err.append(av_err)\n",
    "    \n",
    "resampled_stix = np.array(resampled_stix)\n",
    "resampled_stix_err = np.array(resampled_stix_err)"
   ]
  },
  {
   "cell_type": "code",
   "execution_count": 19,
   "id": "66d91e75",
   "metadata": {},
   "outputs": [],
   "source": [
    "ind_2028 = np.where((stix_eedges[:, 0]>=20)&(stix_eedges[:, 1]<=28))[0]"
   ]
  },
  {
   "cell_type": "code",
   "execution_count": 20,
   "id": "853a172c",
   "metadata": {},
   "outputs": [],
   "source": [
    "stix_pred_2028 = np.sum(stix_pred[:, ind_2028], axis=1)\n",
    "stix_real_2028 = np.sum(resampled_stix[:, ind_2028], axis=1)\n",
    "stix_real_2028_err = np.sqrt(np.sum(resampled_stix_err[:, ind_2028]**2, axis=1))"
   ]
  },
  {
   "cell_type": "code",
   "execution_count": 21,
   "id": "798cf996",
   "metadata": {},
   "outputs": [
    {
     "data": {
      "text/plain": [
       "(18926.250529965277, 18926.252207037036)"
      ]
     },
     "execution_count": 21,
     "metadata": {},
     "output_type": "execute_result"
    },
    {
     "data": {
      "image/png": "[encoded data removed]",
      "text/plain": [
       "<Figure size 432x288 with 1 Axes>"
      ]
     },
     "metadata": {
      "needs_background": "light"
     },
     "output_type": "display_data"
    }
   ],
   "source": [
    "fig, ax = plt.subplots()\n",
    "ax.plot(fermi_mid_times_dt, stix_pred_2028, \n",
    "            drawstyle=\"steps-mid\")\n",
    "ax.xaxis.set_major_formatter(dates.DateFormatter(\"%H:%M\"))\n",
    "ax.set_xlim(fermi_mid_times_dt[0], fermi_mid_times_dt[-1])"
   ]
  },
  {
   "cell_type": "code",
   "execution_count": 22,
   "id": "d2317318",
   "metadata": {},
   "outputs": [
    {
     "data": {
      "text/plain": [
       "[<matplotlib.lines.Line2D at 0x11d57c670>]"
      ]
     },
     "execution_count": 22,
     "metadata": {},
     "output_type": "execute_result"
    },
    {
     "data": {
      "image/png": "[encoded data removed]",
      "text/plain": [
       "<Figure size 432x288 with 1 Axes>"
      ]
     },
     "metadata": {
      "needs_background": "light"
     },
     "output_type": "display_data"
    }
   ],
   "source": [
    "fig, ax = plt.subplots()\n",
    "ax.plot(fermi_mid_times_dt, stix_pred_2028, \n",
    "            drawstyle=\"steps-mid\", label=\"estimated STIX counts\")\n",
    "ax.plot(fermi_mid_times_dt, stix_real_2028, \n",
    "        drawstyle=\"steps-mid\", label=\"observed STIX counts\")\n",
    "ax.plot(new_stix_times_dt, np.sum(new_stix[:, ind_2028], axis=1), drawstyle=\"steps-mid\")"
   ]
  },
  {
   "cell_type": "code",
   "execution_count": 23,
   "id": "fefbcb8e",
   "metadata": {},
   "outputs": [
    {
     "data": {
      "text/plain": [
       "<ErrorbarContainer object of 3 artists>"
      ]
     },
     "execution_count": 23,
     "metadata": {},
     "output_type": "execute_result"
    },
    {
     "data": {
      "image/png": "[encoded data removed]",
      "text/plain": [
       "<Figure size 432x288 with 1 Axes>"
      ]
     },
     "metadata": {
      "needs_background": "light"
     },
     "output_type": "display_data"
    }
   ],
   "source": [
    "fig, ax = plt.subplots()\n",
    "ax.plot(fermi_mid_times_dt, stix_pred_2028, \n",
    "            drawstyle=\"steps-mid\", label=\"estimated STIX counts\")\n",
    "ax.errorbar(fermi_mid_times_dt, stix_real_2028, stix_real_2028_err,\n",
    "        drawstyle=\"steps-mid\", label=\"observed STIX counts\")\n"
   ]
  },
  {
   "cell_type": "code",
   "execution_count": 24,
   "id": "5c3929c7",
   "metadata": {},
   "outputs": [
    {
     "data": {
      "text/plain": [
       "Text(0, 0.5, 'Observed STIX counts (20-28 keV)')"
      ]
     },
     "execution_count": 24,
     "metadata": {},
     "output_type": "execute_result"
    },
    {
     "data": {
      "image/png": "[encoded data removed]",
      "text/plain": [
       "<Figure size 432x288 with 1 Axes>"
      ]
     },
     "metadata": {
      "needs_background": "light"
     },
     "output_type": "display_data"
    }
   ],
   "source": [
    "fig, ax = plt.subplots()\n",
    "ax.scatter(stix_pred_2028/stix_pred_2028.max(), stix_real_2028/np.nanmax(stix_real_2028), \n",
    "        marker='x', c=fermi_mid_times-fermi_mid_times[0])\n",
    "ax.set_aspect('equal', adjustable='box')\n",
    "plt.plot([-0.1, 1.1], [-0.1, 1.1], color='k', ls='dashed', lw=0.5)\n",
    "ax.set_xlabel(\"Estimated STIX counts from Fermi/GBM fit (20-28 keV)\")\n",
    "ax.set_ylabel(\"Observed STIX counts (20-28 keV)\")"
   ]
  },
  {
   "cell_type": "code",
   "execution_count": 25,
   "id": "5fc87738",
   "metadata": {},
   "outputs": [
    {
     "data": {
      "text/plain": [
       "nan"
      ]
     },
     "execution_count": 25,
     "metadata": {},
     "output_type": "execute_result"
    }
   ],
   "source": [
    "stix_pred_2028.max()\n",
    "stix_real_2028.max()"
   ]
  },
  {
   "cell_type": "markdown",
   "id": "4fe7fbf0",
   "metadata": {},
   "source": [
    "## Lets now look at directivity"
   ]
  },
  {
   "cell_type": "code",
   "execution_count": 26,
   "id": "83af706b",
   "metadata": {},
   "outputs": [],
   "source": [
    "ind_1860 = np.where((stix_eedges[:, 0]>=18)&(stix_eedges[:, 1]<=60))[0]\n",
    "stix_pred_1860 = np.sum(stix_pred[:, ind_1860], axis=1)\n",
    "stix_real_1860 = np.sum(resampled_stix[:, ind_1860], axis=1)"
   ]
  },
  {
   "cell_type": "code",
   "execution_count": 56,
   "id": "58e41d55",
   "metadata": {},
   "outputs": [],
   "source": [
    "i_s, i_e = 10, 12"
   ]
  },
  {
   "cell_type": "code",
   "execution_count": 57,
   "id": "98e0dbfa",
   "metadata": {},
   "outputs": [
    {
     "name": "stdout",
     "output_type": "stream",
     "text": [
      "2021-10-26 06:01:46.718000\n",
      "2021-10-26 06:01:58.494500\n"
     ]
    }
   ],
   "source": [
    "print(fermi_mid_times_dt[i_s])\n",
    "print(fermi_mid_times_dt[i_e])"
   ]
  },
  {
   "cell_type": "code",
   "execution_count": 84,
   "id": "24414fa2",
   "metadata": {},
   "outputs": [
    {
     "data": {
      "text/plain": [
       "[<matplotlib.lines.Line2D at 0x11f69ca30>]"
      ]
     },
     "execution_count": 84,
     "metadata": {},
     "output_type": "execute_result"
    },
    {
     "data": {
      "image/png": "[encoded data removed]",
      "text/plain": [
       "<Figure size 432x288 with 1 Axes>"
      ]
     },
     "metadata": {
      "needs_background": "light"
     },
     "output_type": "display_data"
    }
   ],
   "source": [
    "fig, ax = plt.subplots()\n",
    "ax.plot(fermi_mid_times_dt, stix_pred_1860, drawstyle=\"steps-mid\", label=\"stix pred\")\n",
    "ax.plot(fermi_mid_times_dt, stix_real_1860, drawstyle=\"steps-mid\", label=\"stix_real\")\n",
    "plt.axvline(fermi_mid_times_dt[i_s])\n",
    "plt.axvline(fermi_mid_times_dt[i_e])\n",
    "ax.legend()\n",
    "\n",
    "plt.plot(fermi_mid_times_dt[i_s:i_e], np.sum(stix_pred[i_s:i_e, ind_1860], axis=1), color='k')"
   ]
  },
  {
   "cell_type": "code",
   "execution_count": 94,
   "id": "82f2b5f1",
   "metadata": {},
   "outputs": [
    {
     "data": {
      "text/plain": [
       "[<matplotlib.lines.Line2D at 0x11fe39270>]"
      ]
     },
     "execution_count": 94,
     "metadata": {},
     "output_type": "execute_result"
    },
    {
     "data": {
      "image/png": "[encoded data removed]",
      "text/plain": [
       "<Figure size 432x288 with 1 Axes>"
      ]
     },
     "metadata": {
      "needs_background": "light"
     },
     "output_type": "display_data"
    }
   ],
   "source": [
    "fig, ax = plt.subplots()\n",
    "ax.plot(fermi_mid_times_dt, stix_pred_1860-(0.09)*stix_pred_1860, drawstyle=\"steps-mid\", label=\"stix pred\")\n",
    "ax.plot(fermi_mid_times_dt, stix_real_1860, drawstyle=\"steps-mid\", label=\"stix_real\")"
   ]
  },
  {
   "cell_type": "code",
   "execution_count": 100,
   "id": "b5c90968",
   "metadata": {},
   "outputs": [
    {
     "data": {
      "text/plain": [
       "[<matplotlib.lines.Line2D at 0x120605780>]"
      ]
     },
     "execution_count": 100,
     "metadata": {},
     "output_type": "execute_result"
    },
    {
     "data": {
      "image/png": "[encoded data removed]",
      "text/plain": [
       "<Figure size 432x288 with 1 Axes>"
      ]
     },
     "metadata": {
      "needs_background": "light"
     },
     "output_type": "display_data"
    }
   ],
   "source": [
    "plt.scatter(stix_pred_1860, stix_real_1860+0.1*stix_real_1860)\n",
    "plt.plot([-0.1, 10], [-0.1, 10], color='k', ls='dashed', lw=0.5)"
   ]
  },
  {
   "cell_type": "code",
   "execution_count": 59,
   "id": "776b5ae3",
   "metadata": {},
   "outputs": [
    {
     "data": {
      "text/plain": [
       "array([7.1550817, 8.937041 ], dtype=float32)"
      ]
     },
     "execution_count": 59,
     "metadata": {},
     "output_type": "execute_result"
    }
   ],
   "source": [
    "np.sum(stix_pred[i_s:i_e, ind_1860], axis=1)"
   ]
  },
  {
   "cell_type": "code",
   "execution_count": 60,
   "id": "505bd0da",
   "metadata": {},
   "outputs": [
    {
     "data": {
      "text/plain": [
       "[<matplotlib.lines.Line2D at 0x11ef3bfd0>]"
      ]
     },
     "execution_count": 60,
     "metadata": {},
     "output_type": "execute_result"
    },
    {
     "data": {
      "image/png": "[encoded data removed]",
      "text/plain": [
       "<Figure size 432x288 with 1 Axes>"
      ]
     },
     "metadata": {
      "needs_background": "light"
     },
     "output_type": "display_data"
    }
   ],
   "source": [
    "plt.plot(np.sum(stix_pred[i_s:i_e, ind_1860], axis=1))\n",
    "plt.plot(np.sum(resampled_stix[i_s:i_e, ind_1860], axis=1))"
   ]
  },
  {
   "cell_type": "code",
   "execution_count": 61,
   "id": "e2e20ef1",
   "metadata": {},
   "outputs": [
    {
     "data": {
      "text/plain": [
       "(10,)"
      ]
     },
     "execution_count": 61,
     "metadata": {},
     "output_type": "execute_result"
    }
   ],
   "source": [
    "erange = np.where((stix_eedges[:, 0]>=18)&(stix_eedges[:, 1]<=60))[0]\n",
    "erange.shape"
   ]
  },
  {
   "cell_type": "code",
   "execution_count": 62,
   "id": "846845b8",
   "metadata": {},
   "outputs": [],
   "source": [
    "f_obs = np.mean(resampled_stix[i_s:i_e, erange], axis=0)\n",
    "f_pred = np.mean(stix_pred[i_s:i_e, erange], axis=0)"
   ]
  },
  {
   "cell_type": "code",
   "execution_count": 63,
   "id": "d53ae890",
   "metadata": {},
   "outputs": [],
   "source": [
    "f_obs = resampled_stix[12, erange]\n",
    "f_pred = stix_pred[12,  erange]"
   ]
  },
  {
   "cell_type": "code",
   "execution_count": 64,
   "id": "a30ee87d",
   "metadata": {},
   "outputs": [
    {
     "data": {
      "text/plain": [
       "[<matplotlib.lines.Line2D at 0x11f039990>]"
      ]
     },
     "execution_count": 64,
     "metadata": {},
     "output_type": "execute_result"
    },
    {
     "data": {
      "image/png": "[encoded data removed]",
      "text/plain": [
       "<Figure size 432x288 with 1 Axes>"
      ]
     },
     "metadata": {
      "needs_background": "light"
     },
     "output_type": "display_data"
    }
   ],
   "source": [
    "plt.plot(fermi_mid_ens[erange], f_obs, drawstyle=\"steps-mid\")\n",
    "plt.plot(fermi_mid_ens[erange], f_pred, drawstyle=\"steps-mid\")"
   ]
  },
  {
   "cell_type": "code",
   "execution_count": 65,
   "id": "6a8674fd",
   "metadata": {},
   "outputs": [
    {
     "data": {
      "text/plain": [
       "<matplotlib.lines.Line2D at 0x11f03a6b0>"
      ]
     },
     "execution_count": 65,
     "metadata": {},
     "output_type": "execute_result"
    },
    {
     "data": {
      "image/png": "[encoded data removed]",
      "text/plain": [
       "<Figure size 432x288 with 1 Axes>"
      ]
     },
     "metadata": {
      "needs_background": "light"
     },
     "output_type": "display_data"
    }
   ],
   "source": [
    "plt.plot(stix_mid_energies[erange], f_pred/f_obs, marker='x', ls='')\n",
    "plt.axhline(1)"
   ]
  },
  {
   "cell_type": "markdown",
   "id": "bafdbbf4",
   "metadata": {},
   "source": [
    "## Lets compare predicted data and non-resampled stix data"
   ]
  },
  {
   "cell_type": "code",
   "execution_count": 66,
   "id": "5aa5e5a3",
   "metadata": {},
   "outputs": [],
   "source": [
    "new_stix_1860 = new_stix[:, ind_1860]"
   ]
  },
  {
   "cell_type": "code",
   "execution_count": 67,
   "id": "997c4bea",
   "metadata": {},
   "outputs": [
    {
     "data": {
      "text/plain": [
       "[<matplotlib.lines.Line2D at 0x11f074d00>]"
      ]
     },
     "execution_count": 67,
     "metadata": {},
     "output_type": "execute_result"
    },
    {
     "data": {
      "image/png": "[encoded data removed]",
      "text/plain": [
       "<Figure size 432x288 with 1 Axes>"
      ]
     },
     "metadata": {
      "needs_background": "light"
     },
     "output_type": "display_data"
    }
   ],
   "source": [
    "fig, ax = plt.subplots()\n",
    "ax.plot(fermi_mid_times_dt, stix_pred_1860, drawstyle=\"steps-mid\")\n",
    "# ax.axvline(parse_time(\"2021-11-01 01:29:30\").datetime)\n",
    "# ax.axvline(parse_time(\"2021-11-01 01:30:00\").datetime)"
   ]
  },
  {
   "cell_type": "code",
   "execution_count": 74,
   "id": "5f6b0095",
   "metadata": {},
   "outputs": [],
   "source": [
    "tint_s = parse_time(\"2021-10-26 06:01:46.718000\").utime\n",
    "tint_e = parse_time(\"2021-10-26 06:02:46.718000\").utime"
   ]
  },
  {
   "cell_type": "code",
   "execution_count": 75,
   "id": "4460b46a",
   "metadata": {},
   "outputs": [
    {
     "data": {
      "text/plain": [
       "(25, 2)"
      ]
     },
     "execution_count": 75,
     "metadata": {},
     "output_type": "execute_result"
    }
   ],
   "source": [
    "fermi_fit_tedges.shape"
   ]
  },
  {
   "cell_type": "code",
   "execution_count": 76,
   "id": "9d45dfc9",
   "metadata": {},
   "outputs": [],
   "source": [
    "ints_pred = np.where((fermi_fit_tedges[:, 0]>=tint_s)&(fermi_fit_tedges[:, 1]<=tint_e))[0]\n",
    "ints_obs = np.where((new_stix_tedges[:, 0]>=tint_s)&(new_stix_tedges[:, 1]<=tint_e))[0]"
   ]
  },
  {
   "cell_type": "code",
   "execution_count": 77,
   "id": "b6ae5446",
   "metadata": {},
   "outputs": [
    {
     "data": {
      "text/plain": [
       "array([[1.35123125e+09, 1.35123125e+09],\n",
       "       [1.35123125e+09, 1.35123125e+09],\n",
       "       [1.35123125e+09, 1.35123126e+09],\n",
       "       [1.35123126e+09, 1.35123126e+09],\n",
       "       [1.35123126e+09, 1.35123126e+09],\n",
       "       [1.35123126e+09, 1.35123126e+09],\n",
       "       [1.35123126e+09, 1.35123127e+09],\n",
       "       [1.35123127e+09, 1.35123127e+09],\n",
       "       [1.35123127e+09, 1.35123127e+09],\n",
       "       [1.35123127e+09, 1.35123127e+09],\n",
       "       [1.35123127e+09, 1.35123127e+09],\n",
       "       [1.35123127e+09, 1.35123127e+09],\n",
       "       [1.35123127e+09, 1.35123128e+09],\n",
       "       [1.35123128e+09, 1.35123128e+09],\n",
       "       [1.35123128e+09, 1.35123128e+09],\n",
       "       [1.35123128e+09, 1.35123128e+09],\n",
       "       [1.35123128e+09, 1.35123128e+09],\n",
       "       [1.35123128e+09, 1.35123128e+09],\n",
       "       [1.35123128e+09, 1.35123128e+09],\n",
       "       [1.35123128e+09, 1.35123128e+09],\n",
       "       [1.35123128e+09, 1.35123128e+09],\n",
       "       [1.35123128e+09, 1.35123128e+09],\n",
       "       [1.35123128e+09, 1.35123129e+09],\n",
       "       [1.35123129e+09, 1.35123129e+09],\n",
       "       [1.35123129e+09, 1.35123129e+09],\n",
       "       [1.35123129e+09, 1.35123129e+09],\n",
       "       [1.35123129e+09, 1.35123129e+09],\n",
       "       [1.35123129e+09, 1.35123129e+09],\n",
       "       [1.35123129e+09, 1.35123129e+09],\n",
       "       [1.35123129e+09, 1.35123129e+09],\n",
       "       [1.35123129e+09, 1.35123129e+09],\n",
       "       [1.35123129e+09, 1.35123129e+09],\n",
       "       [1.35123129e+09, 1.35123129e+09],\n",
       "       [1.35123129e+09, 1.35123129e+09],\n",
       "       [1.35123129e+09, 1.35123129e+09],\n",
       "       [1.35123129e+09, 1.35123129e+09],\n",
       "       [1.35123129e+09, 1.35123129e+09],\n",
       "       [1.35123129e+09, 1.35123129e+09],\n",
       "       [1.35123129e+09, 1.35123130e+09],\n",
       "       [1.35123130e+09, 1.35123130e+09],\n",
       "       [1.35123130e+09, 1.35123130e+09],\n",
       "       [1.35123130e+09, 1.35123130e+09],\n",
       "       [1.35123130e+09, 1.35123130e+09],\n",
       "       [1.35123130e+09, 1.35123130e+09],\n",
       "       [1.35123130e+09, 1.35123130e+09],\n",
       "       [1.35123130e+09, 1.35123130e+09],\n",
       "       [1.35123130e+09, 1.35123130e+09],\n",
       "       [1.35123130e+09, 1.35123130e+09],\n",
       "       [1.35123130e+09, 1.35123130e+09],\n",
       "       [1.35123130e+09, 1.35123130e+09],\n",
       "       [1.35123130e+09, 1.35123130e+09],\n",
       "       [1.35123130e+09, 1.35123130e+09],\n",
       "       [1.35123130e+09, 1.35123130e+09],\n",
       "       [1.35123130e+09, 1.35123130e+09],\n",
       "       [1.35123130e+09, 1.35123130e+09],\n",
       "       [1.35123130e+09, 1.35123130e+09],\n",
       "       [1.35123130e+09, 1.35123130e+09],\n",
       "       [1.35123130e+09, 1.35123131e+09],\n",
       "       [1.35123131e+09, 1.35123131e+09],\n",
       "       [1.35123131e+09, 1.35123131e+09],\n",
       "       [1.35123131e+09, 1.35123131e+09],\n",
       "       [1.35123131e+09, 1.35123131e+09],\n",
       "       [1.35123131e+09, 1.35123131e+09],\n",
       "       [1.35123131e+09, 1.35123131e+09],\n",
       "       [1.35123131e+09, 1.35123131e+09],\n",
       "       [1.35123131e+09, 1.35123131e+09],\n",
       "       [1.35123131e+09, 1.35123131e+09],\n",
       "       [1.35123131e+09, 1.35123131e+09],\n",
       "       [1.35123131e+09, 1.35123131e+09],\n",
       "       [1.35123131e+09, 1.35123131e+09],\n",
       "       [1.35123131e+09, 1.35123131e+09],\n",
       "       [1.35123131e+09, 1.35123131e+09],\n",
       "       [1.35123131e+09, 1.35123131e+09],\n",
       "       [1.35123131e+09, 1.35123131e+09],\n",
       "       [1.35123131e+09, 1.35123131e+09],\n",
       "       [1.35123131e+09, 1.35123131e+09],\n",
       "       [1.35123131e+09, 1.35123131e+09],\n",
       "       [1.35123131e+09, 1.35123132e+09],\n",
       "       [1.35123132e+09, 1.35123132e+09],\n",
       "       [1.35123132e+09, 1.35123132e+09],\n",
       "       [1.35123132e+09, 1.35123132e+09],\n",
       "       [1.35123132e+09, 1.35123132e+09],\n",
       "       [1.35123132e+09, 1.35123132e+09],\n",
       "       [1.35123132e+09, 1.35123132e+09],\n",
       "       [1.35123132e+09, 1.35123132e+09],\n",
       "       [1.35123132e+09, 1.35123132e+09],\n",
       "       [1.35123132e+09, 1.35123132e+09],\n",
       "       [1.35123132e+09, 1.35123132e+09],\n",
       "       [1.35123132e+09, 1.35123132e+09],\n",
       "       [1.35123132e+09, 1.35123132e+09],\n",
       "       [1.35123132e+09, 1.35123132e+09],\n",
       "       [1.35123132e+09, 1.35123132e+09],\n",
       "       [1.35123132e+09, 1.35123132e+09],\n",
       "       [1.35123132e+09, 1.35123132e+09],\n",
       "       [1.35123132e+09, 1.35123132e+09],\n",
       "       [1.35123132e+09, 1.35123132e+09],\n",
       "       [1.35123132e+09, 1.35123132e+09],\n",
       "       [1.35123132e+09, 1.35123133e+09],\n",
       "       [1.35123133e+09, 1.35123133e+09],\n",
       "       [1.35123133e+09, 1.35123133e+09],\n",
       "       [1.35123133e+09, 1.35123133e+09],\n",
       "       [1.35123133e+09, 1.35123133e+09],\n",
       "       [1.35123133e+09, 1.35123133e+09],\n",
       "       [1.35123133e+09, 1.35123133e+09],\n",
       "       [1.35123133e+09, 1.35123133e+09],\n",
       "       [1.35123133e+09, 1.35123133e+09],\n",
       "       [1.35123133e+09, 1.35123133e+09],\n",
       "       [1.35123133e+09, 1.35123133e+09],\n",
       "       [1.35123133e+09, 1.35123133e+09],\n",
       "       [1.35123133e+09, 1.35123133e+09],\n",
       "       [1.35123133e+09, 1.35123133e+09],\n",
       "       [1.35123133e+09, 1.35123133e+09],\n",
       "       [1.35123133e+09, 1.35123133e+09],\n",
       "       [1.35123133e+09, 1.35123133e+09],\n",
       "       [1.35123133e+09, 1.35123133e+09],\n",
       "       [1.35123133e+09, 1.35123133e+09],\n",
       "       [1.35123133e+09, 1.35123133e+09],\n",
       "       [1.35123133e+09, 1.35123134e+09],\n",
       "       [1.35123134e+09, 1.35123134e+09],\n",
       "       [1.35123134e+09, 1.35123134e+09],\n",
       "       [1.35123134e+09, 1.35123134e+09],\n",
       "       [1.35123134e+09, 1.35123134e+09],\n",
       "       [1.35123134e+09, 1.35123134e+09],\n",
       "       [1.35123134e+09, 1.35123134e+09],\n",
       "       [1.35123134e+09, 1.35123134e+09],\n",
       "       [1.35123134e+09, 1.35123134e+09],\n",
       "       [1.35123134e+09, 1.35123134e+09],\n",
       "       [1.35123134e+09, 1.35123134e+09],\n",
       "       [1.35123134e+09, 1.35123134e+09],\n",
       "       [1.35123134e+09, 1.35123134e+09],\n",
       "       [1.35123134e+09, 1.35123134e+09],\n",
       "       [1.35123134e+09, 1.35123134e+09],\n",
       "       [1.35123134e+09, 1.35123134e+09],\n",
       "       [1.35123134e+09, 1.35123134e+09],\n",
       "       [1.35123134e+09, 1.35123134e+09],\n",
       "       [1.35123134e+09, 1.35123134e+09],\n",
       "       [1.35123134e+09, 1.35123134e+09],\n",
       "       [1.35123134e+09, 1.35123135e+09],\n",
       "       [1.35123135e+09, 1.35123135e+09],\n",
       "       [1.35123135e+09, 1.35123135e+09],\n",
       "       [1.35123135e+09, 1.35123135e+09],\n",
       "       [1.35123135e+09, 1.35123135e+09],\n",
       "       [1.35123135e+09, 1.35123135e+09],\n",
       "       [1.35123135e+09, 1.35123135e+09],\n",
       "       [1.35123135e+09, 1.35123135e+09],\n",
       "       [1.35123135e+09, 1.35123135e+09],\n",
       "       [1.35123135e+09, 1.35123135e+09],\n",
       "       [1.35123135e+09, 1.35123135e+09],\n",
       "       [1.35123135e+09, 1.35123135e+09],\n",
       "       [1.35123135e+09, 1.35123135e+09],\n",
       "       [1.35123135e+09, 1.35123135e+09],\n",
       "       [1.35123135e+09, 1.35123135e+09],\n",
       "       [1.35123135e+09, 1.35123135e+09],\n",
       "       [1.35123135e+09, 1.35123135e+09],\n",
       "       [1.35123135e+09, 1.35123135e+09],\n",
       "       [1.35123135e+09, 1.35123135e+09],\n",
       "       [1.35123135e+09, 1.35123135e+09],\n",
       "       [1.35123135e+09, 1.35123136e+09],\n",
       "       [1.35123136e+09, 1.35123136e+09],\n",
       "       [1.35123136e+09, 1.35123136e+09],\n",
       "       [1.35123136e+09, 1.35123136e+09],\n",
       "       [1.35123136e+09, 1.35123136e+09],\n",
       "       [1.35123136e+09, 1.35123136e+09],\n",
       "       [1.35123136e+09, 1.35123136e+09],\n",
       "       [1.35123136e+09, 1.35123136e+09],\n",
       "       [1.35123136e+09, 1.35123136e+09],\n",
       "       [1.35123136e+09, 1.35123136e+09],\n",
       "       [1.35123136e+09, 1.35123136e+09],\n",
       "       [1.35123136e+09, 1.35123136e+09],\n",
       "       [1.35123136e+09, 1.35123136e+09],\n",
       "       [1.35123136e+09, 1.35123136e+09],\n",
       "       [1.35123136e+09, 1.35123136e+09],\n",
       "       [1.35123136e+09, 1.35123136e+09],\n",
       "       [1.35123136e+09, 1.35123136e+09],\n",
       "       [1.35123136e+09, 1.35123136e+09],\n",
       "       [1.35123136e+09, 1.35123136e+09],\n",
       "       [1.35123136e+09, 1.35123136e+09],\n",
       "       [1.35123136e+09, 1.35123137e+09],\n",
       "       [1.35123137e+09, 1.35123137e+09],\n",
       "       [1.35123137e+09, 1.35123137e+09],\n",
       "       [1.35123137e+09, 1.35123137e+09],\n",
       "       [1.35123137e+09, 1.35123137e+09],\n",
       "       [1.35123137e+09, 1.35123137e+09],\n",
       "       [1.35123137e+09, 1.35123137e+09],\n",
       "       [1.35123137e+09, 1.35123137e+09],\n",
       "       [1.35123137e+09, 1.35123137e+09],\n",
       "       [1.35123137e+09, 1.35123137e+09],\n",
       "       [1.35123137e+09, 1.35123137e+09],\n",
       "       [1.35123137e+09, 1.35123137e+09],\n",
       "       [1.35123137e+09, 1.35123137e+09],\n",
       "       [1.35123137e+09, 1.35123137e+09],\n",
       "       [1.35123137e+09, 1.35123137e+09],\n",
       "       [1.35123137e+09, 1.35123137e+09],\n",
       "       [1.35123137e+09, 1.35123137e+09],\n",
       "       [1.35123137e+09, 1.35123137e+09],\n",
       "       [1.35123137e+09, 1.35123137e+09],\n",
       "       [1.35123137e+09, 1.35123137e+09],\n",
       "       [1.35123137e+09, 1.35123138e+09],\n",
       "       [1.35123138e+09, 1.35123138e+09],\n",
       "       [1.35123138e+09, 1.35123138e+09],\n",
       "       [1.35123138e+09, 1.35123138e+09],\n",
       "       [1.35123138e+09, 1.35123138e+09],\n",
       "       [1.35123138e+09, 1.35123138e+09],\n",
       "       [1.35123138e+09, 1.35123138e+09],\n",
       "       [1.35123138e+09, 1.35123138e+09],\n",
       "       [1.35123138e+09, 1.35123138e+09],\n",
       "       [1.35123138e+09, 1.35123138e+09],\n",
       "       [1.35123138e+09, 1.35123138e+09],\n",
       "       [1.35123138e+09, 1.35123138e+09],\n",
       "       [1.35123138e+09, 1.35123138e+09],\n",
       "       [1.35123138e+09, 1.35123138e+09],\n",
       "       [1.35123138e+09, 1.35123138e+09],\n",
       "       [1.35123138e+09, 1.35123138e+09],\n",
       "       [1.35123138e+09, 1.35123138e+09],\n",
       "       [1.35123138e+09, 1.35123138e+09],\n",
       "       [1.35123138e+09, 1.35123138e+09],\n",
       "       [1.35123138e+09, 1.35123138e+09],\n",
       "       [1.35123138e+09, 1.35123139e+09],\n",
       "       [1.35123139e+09, 1.35123139e+09],\n",
       "       [1.35123139e+09, 1.35123139e+09],\n",
       "       [1.35123139e+09, 1.35123139e+09],\n",
       "       [1.35123139e+09, 1.35123139e+09],\n",
       "       [1.35123139e+09, 1.35123139e+09],\n",
       "       [1.35123139e+09, 1.35123139e+09],\n",
       "       [1.35123139e+09, 1.35123139e+09],\n",
       "       [1.35123139e+09, 1.35123139e+09],\n",
       "       [1.35123139e+09, 1.35123139e+09],\n",
       "       [1.35123139e+09, 1.35123139e+09],\n",
       "       [1.35123139e+09, 1.35123139e+09],\n",
       "       [1.35123139e+09, 1.35123139e+09],\n",
       "       [1.35123139e+09, 1.35123139e+09],\n",
       "       [1.35123139e+09, 1.35123139e+09],\n",
       "       [1.35123139e+09, 1.35123139e+09],\n",
       "       [1.35123139e+09, 1.35123139e+09]])"
      ]
     },
     "execution_count": 77,
     "metadata": {},
     "output_type": "execute_result"
    }
   ],
   "source": [
    "new_stix_tedges"
   ]
  },
  {
   "cell_type": "code",
   "execution_count": 78,
   "id": "c77f7839",
   "metadata": {},
   "outputs": [],
   "source": [
    "stix_obs_test = new_stix_1860[ints_obs, :]\n",
    "stix_pred_test = stix_pred[:, ind_1860][ints_pred, :]"
   ]
  },
  {
   "cell_type": "code",
   "execution_count": 79,
   "id": "0cbd4b8d",
   "metadata": {},
   "outputs": [
    {
     "data": {
      "text/plain": [
       "[<matplotlib.lines.Line2D at 0x11f31ba00>]"
      ]
     },
     "execution_count": 79,
     "metadata": {},
     "output_type": "execute_result"
    },
    {
     "data": {
      "image/png": "[encoded data removed]",
      "text/plain": [
       "<Figure size 432x288 with 1 Axes>"
      ]
     },
     "metadata": {
      "needs_background": "light"
     },
     "output_type": "display_data"
    }
   ],
   "source": [
    "fig, ax = plt.subplots()\n",
    "ax.plot(new_stix_times_dt[ints_obs], np.sum(stix_obs_test, axis=1), drawstyle=\"steps-mid\")\n",
    "ax.plot(fermi_mid_times_dt[ints_pred], np.sum(stix_pred_test, axis=1), drawstyle=\"steps-mid\")"
   ]
  },
  {
   "cell_type": "code",
   "execution_count": 80,
   "id": "f8287eb6",
   "metadata": {},
   "outputs": [],
   "source": [
    "f_obs_test = np.mean(stix_obs_test, axis=0)\n",
    "f_pred_test = np.mean(stix_pred_test, axis=0)"
   ]
  },
  {
   "cell_type": "code",
   "execution_count": 81,
   "id": "5dfe7f38",
   "metadata": {},
   "outputs": [
    {
     "data": {
      "text/plain": [
       "[<matplotlib.lines.Line2D at 0x11f3ceef0>]"
      ]
     },
     "execution_count": 81,
     "metadata": {},
     "output_type": "execute_result"
    },
    {
     "data": {
      "image/png": "[encoded data removed]",
      "text/plain": [
       "<Figure size 432x288 with 1 Axes>"
      ]
     },
     "metadata": {
      "needs_background": "light"
     },
     "output_type": "display_data"
    }
   ],
   "source": [
    "plt.plot(stix_mid_energies[ind_1860], f_pred_test, drawstyle=\"steps-mid\")\n",
    "plt.plot(stix_mid_energies[ind_1860], f_obs_test, drawstyle=\"steps-mid\")"
   ]
  },
  {
   "cell_type": "code",
   "execution_count": 82,
   "id": "affc8906",
   "metadata": {},
   "outputs": [
    {
     "data": {
      "text/plain": [
       "[<matplotlib.lines.Line2D at 0x11f4cd210>]"
      ]
     },
     "execution_count": 82,
     "metadata": {},
     "output_type": "execute_result"
    },
    {
     "data": {
      "image/png": "[encoded data removed]",
      "text/plain": [
       "<Figure size 432x288 with 1 Axes>"
      ]
     },
     "metadata": {
      "needs_background": "light"
     },
     "output_type": "display_data"
    }
   ],
   "source": [
    "plt.plot(stix_mid_energies[ind_1860], f_obs_test/f_pred_test, marker='x', ls='')"
   ]
  },
  {
   "cell_type": "code",
   "execution_count": null,
   "id": "3934c69a",
   "metadata": {},
   "outputs": [],
   "source": []
  },
  {
   "cell_type": "code",
   "execution_count": null,
   "id": "8187abd3",
   "metadata": {},
   "outputs": [],
   "source": []
  }
 ],
 "metadata": {
  "kernelspec": {
   "display_name": "Python 3 (ipykernel)",
   "language": "python",
   "name": "python3"
  },
  "language_info": {
   "codemirror_mode": {
    "name": "ipython",
    "version": 3
   },
   "file_extension": ".py",
   "mimetype": "text/x-python",
   "name": "python",
   "nbconvert_exporter": "python",
   "pygments_lexer": "ipython3",
   "version": "3.10.5"
  }
 },
 "nbformat": 4,
 "nbformat_minor": 5
}
