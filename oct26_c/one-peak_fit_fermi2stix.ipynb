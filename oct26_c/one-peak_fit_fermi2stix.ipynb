{
 "cells": [
  {
   "cell_type": "code",
   "execution_count": 1,
   "id": "4299a541",
   "metadata": {},
   "outputs": [],
   "source": [
    "from scipy.io import readsav\n",
    "import matplotlib.pyplot as plt \n",
    "from matplotlib import dates, colors\n",
    "import numpy as np \n",
    "import pandas as pd \n",
    "from sunpy.time import parse_time"
   ]
  },
  {
   "cell_type": "code",
   "execution_count": 2,
   "id": "99ba3504",
   "metadata": {},
   "outputs": [],
   "source": [
    "data_file = \"fermi2stix_fit_peak.sav\""
   ]
  },
  {
   "cell_type": "code",
   "execution_count": 3,
   "id": "29d48e92",
   "metadata": {},
   "outputs": [],
   "source": [
    "data = readsav(data_file)[\"out\"]"
   ]
  },
  {
   "cell_type": "code",
   "execution_count": 4,
   "id": "8c82b4a7",
   "metadata": {},
   "outputs": [
    {
     "data": {
      "text/plain": [
       "('STIX_DATA',\n",
       " 'STIX_TIME_EDGES',\n",
       " 'STIX_TIME_ARR',\n",
       " 'STIX_ENERGY_EDGES',\n",
       " 'FIT_PARAMS',\n",
       " 'FIT_PARAM_SIGMAS',\n",
       " 'FIT_NAME',\n",
       " 'FERMI_FIT_TIMES_EDGES',\n",
       " 'FERMI_EEDGES',\n",
       " 'C_RATE_PRED',\n",
       " 'C_RATE_NT_PRED')"
      ]
     },
     "execution_count": 4,
     "metadata": {},
     "output_type": "execute_result"
    }
   ],
   "source": [
    "data.dtype.names"
   ]
  },
  {
   "cell_type": "code",
   "execution_count": 5,
   "id": "3b991825",
   "metadata": {},
   "outputs": [],
   "source": [
    "stix_data_struct = data[\"STIX_DATA\"][0]\n",
    "stix_data = stix_data_struct[\"DATA\"][0]\n",
    "stix_data_err = stix_data_struct[\"EDATA\"][0]\n",
    "stix_time_arr = data[\"STIX_TIME_ARR\"][0]\n",
    "stix_tedges = data[\"STIX_TIME_EDGES\"][0]\n",
    "stix_eedges = data[\"STIX_ENERGY_EDGES\"][0]\n",
    "fermi_fit_params = data[\"FIT_PARAMS\"][0]\n",
    "fermi_fit_params_err = data[\"FIT_PARAM_SIGMAS\"][0]\n",
    "fermi_fit_name = data[\"FIT_NAME\"].astype(str)[0]\n",
    "fermi_fit_tedges = data[\"FERMI_FIT_TIMES_EDGES\"][0]\n",
    "\n",
    "\n",
    "fermi_eedges = data[\"FERMI_EEDGES\"][0]\n",
    "\n",
    "\n",
    "stix_pred = data[\"C_RATE_PRED\"][0]\n",
    "stix_nt_pred = data[\"C_RATE_NT_PRED\"][0]"
   ]
  },
  {
   "cell_type": "code",
   "execution_count": 6,
   "id": "88ae6739",
   "metadata": {},
   "outputs": [
    {
     "data": {
      "text/plain": [
       "(1225, 27)"
      ]
     },
     "execution_count": 6,
     "metadata": {},
     "output_type": "execute_result"
    }
   ],
   "source": [
    "stix_data.shape"
   ]
  },
  {
   "cell_type": "code",
   "execution_count": 7,
   "id": "2125c128",
   "metadata": {},
   "outputs": [
    {
     "data": {
      "text/plain": [
       "array([1.35122842e+09, 1.35122844e+09, 1.35122846e+09, ...,\n",
       "       1.35123229e+09, 1.35123230e+09, 1.35123232e+09])"
      ]
     },
     "execution_count": 7,
     "metadata": {},
     "output_type": "execute_result"
    }
   ],
   "source": [
    "stix_tedges[:, 0]"
   ]
  },
  {
   "cell_type": "code",
   "execution_count": 8,
   "id": "cedaa720",
   "metadata": {},
   "outputs": [],
   "source": [
    "stix_fit_ind = np.where((stix_tedges[:, 0]>=fermi_fit_tedges[0])&(stix_tedges[:, 1]<=fermi_fit_tedges[1]))[0]"
   ]
  },
  {
   "cell_type": "code",
   "execution_count": 9,
   "id": "d413bf0f",
   "metadata": {},
   "outputs": [],
   "source": [
    "stix_over_int = stix_data[stix_fit_ind, :]\n",
    "stix_err_over_int = stix_data_err[stix_fit_ind, :]"
   ]
  },
  {
   "cell_type": "code",
   "execution_count": 10,
   "id": "81f6ec5b",
   "metadata": {},
   "outputs": [],
   "source": [
    "stix_obs = np.mean(stix_over_int, axis=0)\n",
    "stix_obs_err = np.sqrt((np.sum((stix_err_over_int/len(stix_fit_ind))**2, axis=0)))"
   ]
  },
  {
   "cell_type": "code",
   "execution_count": 11,
   "id": "65aa80e1",
   "metadata": {},
   "outputs": [],
   "source": [
    "stix_energy = np.mean(stix_eedges, axis=1)"
   ]
  },
  {
   "cell_type": "code",
   "execution_count": 12,
   "id": "e6afbbb3",
   "metadata": {},
   "outputs": [
    {
     "data": {
      "text/plain": [
       "array([ 4.5,  5.5,  6.5,  7.5,  8.5,  9.5, 10.5, 11.5, 12.5, 13.5, 14.5,\n",
       "       15.5, 17. , 19. , 21. , 23.5, 26.5, 30. , 34. , 38. , 42.5, 47.5,\n",
       "       53. , 59.5, 66.5, 73. , 80. ], dtype=float32)"
      ]
     },
     "execution_count": 12,
     "metadata": {},
     "output_type": "execute_result"
    }
   ],
   "source": [
    "stix_energy"
   ]
  },
  {
   "cell_type": "code",
   "execution_count": 13,
   "id": "8053da33",
   "metadata": {},
   "outputs": [
    {
     "data": {
      "image/png": "[encoded data removed]",
      "text/plain": [
       "<Figure size 432x288 with 1 Axes>"
      ]
     },
     "metadata": {
      "needs_background": "light"
     },
     "output_type": "display_data"
    }
   ],
   "source": [
    "fig, ax = plt.subplots()\n",
    "ax.plot(stix_energy, stix_pred, drawstyle=\"steps-mid\", label=\"Estimated STIX from Fermi fit\")\n",
    "ax.errorbar(stix_energy, stix_obs, stix_obs_err, drawstyle=\"steps-mid\", label=\"Observed STIX\")\n",
    "ax.set_ylabel(\"Counts/s/keV/cm$^{-2}$\")\n",
    "ax.set_xlabel(\"Energy (keV)\")\n",
    "ax.legend()\n",
    "plt.yscale(\"log\")\n",
    "plt.xscale(\"log\")"
   ]
  },
  {
   "cell_type": "code",
   "execution_count": 14,
   "id": "cc56db6e",
   "metadata": {},
   "outputs": [],
   "source": [
    "ratio_low = stix_pred/(stix_obs-stix_obs_err/2)\n",
    "ratio_high = stix_pred/(stix_obs+stix_obs_err/2)\n",
    "\n",
    "\n",
    "ratio = stix_pred/stix_obs\n",
    "ratio_err = ratio*np.sqrt((stix_obs_err/stix_obs)**2)\n"
   ]
  },
  {
   "cell_type": "code",
   "execution_count": 15,
   "id": "ea106a1c",
   "metadata": {},
   "outputs": [
    {
     "data": {
      "text/plain": [
       "(0.0, 2.0)"
      ]
     },
     "execution_count": 15,
     "metadata": {},
     "output_type": "execute_result"
    },
    {
     "data": {
      "image/png": "[encoded data removed]",
      "text/plain": [
       "<Figure size 432x288 with 1 Axes>"
      ]
     },
     "metadata": {
      "needs_background": "light"
     },
     "output_type": "display_data"
    }
   ],
   "source": [
    "plt.errorbar(stix_energy[stix_energy>10], ratio[stix_energy>10], ratio_err[stix_energy>10], marker='x', ls='')\n",
    "plt.plot(stix_energy[stix_energy>10], ratio_low[stix_energy>10], marker='x', ls='')\n",
    "plt.plot(stix_energy[stix_energy>10], ratio_high[stix_energy>10], marker='x', ls='')\n",
    "plt.ylim(0, 2)\n",
    "# plt.xlim(8, 70)"
   ]
  },
  {
   "cell_type": "code",
   "execution_count": 16,
   "id": "cca242f7",
   "metadata": {},
   "outputs": [
    {
     "data": {
      "text/plain": [
       "<matplotlib.lines.Line2D at 0x1249d22f0>"
      ]
     },
     "execution_count": 16,
     "metadata": {},
     "output_type": "execute_result"
    },
    {
     "data": {
      "image/png": "[encoded data removed]",
      "text/plain": [
       "<Figure size 432x288 with 1 Axes>"
      ]
     },
     "metadata": {
      "needs_background": "light"
     },
     "output_type": "display_data"
    }
   ],
   "source": [
    "plt.plot(stix_energy[stix_energy>10], ratio[stix_energy>10], marker='x', ls='', color='r')\n",
    "plt.plot(stix_energy[stix_energy>10], ratio_low[stix_energy>10], marker='x', ls='')\n",
    "#plt.plot(stix_energy[stix_energy>10], ratio_high[stix_energy>10], marker='x', ls='')\n",
    "plt.axhline(1)"
   ]
  },
  {
   "cell_type": "code",
   "execution_count": 17,
   "id": "7f6c2d95",
   "metadata": {},
   "outputs": [
    {
     "data": {
      "text/plain": [
       "<matplotlib.lines.Line2D at 0x1249faad0>"
      ]
     },
     "execution_count": 17,
     "metadata": {},
     "output_type": "execute_result"
    },
    {
     "data": {
      "image/png": "[encoded data removed]",
      "text/plain": [
       "<Figure size 432x288 with 1 Axes>"
      ]
     },
     "metadata": {
      "needs_background": "light"
     },
     "output_type": "display_data"
    }
   ],
   "source": [
    "fig, ax = plt.subplots()\n",
    "ax.plot(stix_energy[stix_energy>10], ratio[stix_energy>10], marker='x', ls='')\n",
    "ax.plot(stix_energy[stix_energy>10], ratio_low[stix_energy>10], marker='x', ls='')\n",
    "ax.plot(stix_energy[stix_energy>10], ratio_high[stix_energy>10], marker='x', ls='')\n",
    "\n",
    "ax.set_xlabel(\"Energy (keV)\")\n",
    "ax.set_ylabel(\"Ratio of Fermi/STIX\")\n",
    "ax.set_ylim(0, 2)\n",
    "ax.set_xlim(0, 70)\n",
    "plt.axhline(1)"
   ]
  },
  {
   "cell_type": "code",
   "execution_count": 18,
   "id": "02e40468",
   "metadata": {},
   "outputs": [
    {
     "ename": "NameError",
     "evalue": "name 'errors' is not defined",
     "output_type": "error",
     "traceback": [
      "\u001b[0;31m---------------------------------------------------------------------------\u001b[0m",
      "\u001b[0;31mNameError\u001b[0m                                 Traceback (most recent call last)",
      "Input \u001b[0;32mIn [18]\u001b[0m, in \u001b[0;36m<cell line: 2>\u001b[0;34m()\u001b[0m\n\u001b[1;32m      1\u001b[0m fig, ax \u001b[38;5;241m=\u001b[39m plt\u001b[38;5;241m.\u001b[39msubplots()\n\u001b[0;32m----> 2\u001b[0m plt\u001b[38;5;241m.\u001b[39merrorbar(stix_energy[stix_energy\u001b[38;5;241m>\u001b[39m\u001b[38;5;241m10\u001b[39m], ratio[stix_energy\u001b[38;5;241m>\u001b[39m\u001b[38;5;241m10\u001b[39m], \u001b[43merrors\u001b[49m[stix_energy\u001b[38;5;241m>\u001b[39m\u001b[38;5;241m10\u001b[39m], marker\u001b[38;5;241m=\u001b[39m\u001b[38;5;124m'\u001b[39m\u001b[38;5;124mx\u001b[39m\u001b[38;5;124m'\u001b[39m, ls\u001b[38;5;241m=\u001b[39m\u001b[38;5;124m'\u001b[39m\u001b[38;5;124m'\u001b[39m)\n\u001b[1;32m      3\u001b[0m ax\u001b[38;5;241m.\u001b[39mset_xlabel(\u001b[38;5;124m\"\u001b[39m\u001b[38;5;124mEnergy (keV)\u001b[39m\u001b[38;5;124m\"\u001b[39m)\n\u001b[1;32m      4\u001b[0m ax\u001b[38;5;241m.\u001b[39mset_ylabel(\u001b[38;5;124m\"\u001b[39m\u001b[38;5;124mRatio of Fermi/STIX\u001b[39m\u001b[38;5;124m\"\u001b[39m)\n",
      "\u001b[0;31mNameError\u001b[0m: name 'errors' is not defined"
     ]
    },
    {
     "data": {
      "image/png": "[encoded data removed]",
      "text/plain": [
       "<Figure size 432x288 with 1 Axes>"
      ]
     },
     "metadata": {
      "needs_background": "light"
     },
     "output_type": "display_data"
    }
   ],
   "source": [
    "fig, ax = plt.subplots()\n",
    "plt.errorbar(stix_energy[stix_energy>10], ratio[stix_energy>10], errors[stix_energy>10], marker='x', ls='')\n",
    "ax.set_xlabel(\"Energy (keV)\")\n",
    "ax.set_ylabel(\"Ratio of Fermi/STIX\")\n",
    "ax.set_ylim(0, 2)\n",
    "#ax.set_xlim(9, 70)\n",
    "#ax.set_xscale(\"log\")\n",
    "plt.axhline(1)"
   ]
  },
  {
   "cell_type": "code",
   "execution_count": null,
   "id": "5e99cc35",
   "metadata": {},
   "outputs": [],
   "source": []
  },
  {
   "cell_type": "code",
   "execution_count": null,
   "id": "bbfef83c",
   "metadata": {},
   "outputs": [],
   "source": []
  },
  {
   "cell_type": "code",
   "execution_count": null,
   "id": "04a59cf9",
   "metadata": {},
   "outputs": [],
   "source": []
  }
 ],
 "metadata": {
  "kernelspec": {
   "display_name": "Python 3 (ipykernel)",
   "language": "python",
   "name": "python3"
  },
  "language_info": {
   "codemirror_mode": {
    "name": "ipython",
    "version": 3
   },
   "file_extension": ".py",
   "mimetype": "text/x-python",
   "name": "python",
   "nbconvert_exporter": "python",
   "pygments_lexer": "ipython3",
   "version": "3.10.5"
  }
 },
 "nbformat": 4,
 "nbformat_minor": 5
}
