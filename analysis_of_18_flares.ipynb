{
 "cells": [
  {
   "cell_type": "code",
   "execution_count": 9,
   "id": "ed75e620",
   "metadata": {},
   "outputs": [],
   "source": [
    "import pandas as pd\n",
    "import matplotlib.pyplot as plt\n",
    "from matplotlib import dates, colors\n",
    "from astropy import units as u\n",
    "from astropy.coordinates import SkyCoord\n",
    "from astropy.time import Time\n",
    "from sunpy.coordinates import frames, get_horizons_coord\n",
    "import numpy as np\n",
    "from sunpy.net import Fido, attrs as a\n",
    "from stixpy.net.client import STIXClient\n",
    "from stixdcpy.net import JSONRequest as jreq"
   ]
  },
  {
   "cell_type": "code",
   "execution_count": 6,
   "id": "803f535e",
   "metadata": {},
   "outputs": [],
   "source": [
    "stix_flares = pd.read_csv(\"flare_ana_18_flares.csv\")"
   ]
  },
  {
   "cell_type": "code",
   "execution_count": 7,
   "id": "2e6fa432",
   "metadata": {},
   "outputs": [
    {
     "data": {
      "text/html": [
       "<div>\n",
       "<style scoped>\n",
       "    .dataframe tbody tr th:only-of-type {\n",
       "        vertical-align: middle;\n",
       "    }\n",
       "\n",
       "    .dataframe tbody tr th {\n",
       "        vertical-align: top;\n",
       "    }\n",
       "\n",
       "    .dataframe thead th {\n",
       "        text-align: right;\n",
       "    }\n",
       "</style>\n",
       "<table border=\"1\" class=\"dataframe\">\n",
       "  <thead>\n",
       "    <tr style=\"text-align: right;\">\n",
       "      <th></th>\n",
       "      <th>Unnamed: 0</th>\n",
       "      <th>start_UTC</th>\n",
       "      <th>peak_UTC</th>\n",
       "      <th>end_UTC</th>\n",
       "      <th>duration</th>\n",
       "      <th>GOES_flux</th>\n",
       "      <th>CFL_X_arcsec</th>\n",
       "      <th>CFL_Y_arcsec</th>\n",
       "      <th>GOES_class</th>\n",
       "      <th>LC0_peak_counts_4sec</th>\n",
       "      <th>...</th>\n",
       "      <th>fermi_peak_counts</th>\n",
       "      <th>fermi_total_counts</th>\n",
       "      <th>sun_det0</th>\n",
       "      <th>sun_det1</th>\n",
       "      <th>sun_det2</th>\n",
       "      <th>sun_det3</th>\n",
       "      <th>goes_class_ind</th>\n",
       "      <th>location_hgs</th>\n",
       "      <th>hpc_x</th>\n",
       "      <th>hpc_y</th>\n",
       "    </tr>\n",
       "  </thead>\n",
       "  <tbody>\n",
       "    <tr>\n",
       "      <th>0</th>\n",
       "      <td>17</td>\n",
       "      <td>2021-08-22 10:14:42.130</td>\n",
       "      <td>2021-08-22T10:16:22.130</td>\n",
       "      <td>2021-08-22T10:19:10.131</td>\n",
       "      <td>268</td>\n",
       "      <td>0.000002</td>\n",
       "      <td>700.0</td>\n",
       "      <td>310.0</td>\n",
       "      <td>C2.0</td>\n",
       "      <td>17407</td>\n",
       "      <td>...</td>\n",
       "      <td>6733</td>\n",
       "      <td>210259</td>\n",
       "      <td>n5</td>\n",
       "      <td>n4</td>\n",
       "      <td>n2</td>\n",
       "      <td>n1</td>\n",
       "      <td>C</td>\n",
       "      <td>N19E67</td>\n",
       "      <td>-827.0</td>\n",
       "      <td>264.6</td>\n",
       "    </tr>\n",
       "    <tr>\n",
       "      <th>1</th>\n",
       "      <td>19</td>\n",
       "      <td>2021-08-28 05:00:36.576</td>\n",
       "      <td>2021-08-28T05:01:40.576</td>\n",
       "      <td>2021-08-28T05:03:04.576</td>\n",
       "      <td>148</td>\n",
       "      <td>0.000007</td>\n",
       "      <td>0.0</td>\n",
       "      <td>0.0</td>\n",
       "      <td>C7.0</td>\n",
       "      <td>118783</td>\n",
       "      <td>...</td>\n",
       "      <td>16197</td>\n",
       "      <td>538835</td>\n",
       "      <td>n5</td>\n",
       "      <td>n3</td>\n",
       "      <td>n1</td>\n",
       "      <td>n4</td>\n",
       "      <td>C</td>\n",
       "      <td>S31E06</td>\n",
       "      <td>-85.4</td>\n",
       "      <td>-587.8</td>\n",
       "    </tr>\n",
       "  </tbody>\n",
       "</table>\n",
       "<p>2 rows × 26 columns</p>\n",
       "</div>"
      ],
      "text/plain": [
       "   Unnamed: 0                start_UTC                 peak_UTC  \\\n",
       "0          17  2021-08-22 10:14:42.130  2021-08-22T10:16:22.130   \n",
       "1          19  2021-08-28 05:00:36.576  2021-08-28T05:01:40.576   \n",
       "\n",
       "                   end_UTC  duration  GOES_flux  CFL_X_arcsec  CFL_Y_arcsec  \\\n",
       "0  2021-08-22T10:19:10.131       268   0.000002         700.0         310.0   \n",
       "1  2021-08-28T05:03:04.576       148   0.000007           0.0           0.0   \n",
       "\n",
       "  GOES_class  LC0_peak_counts_4sec  ...  fermi_peak_counts  \\\n",
       "0       C2.0                 17407  ...               6733   \n",
       "1       C7.0                118783  ...              16197   \n",
       "\n",
       "   fermi_total_counts  sun_det0 sun_det1 sun_det2 sun_det3  goes_class_ind  \\\n",
       "0              210259        n5       n4       n2       n1               C   \n",
       "1              538835        n5       n3       n1       n4               C   \n",
       "\n",
       "   location_hgs  hpc_x  hpc_y  \n",
       "0        N19E67 -827.0  264.6  \n",
       "1        S31E06  -85.4 -587.8  \n",
       "\n",
       "[2 rows x 26 columns]"
      ]
     },
     "execution_count": 7,
     "metadata": {},
     "output_type": "execute_result"
    }
   ],
   "source": [
    "stix_flares.head(2)"
   ]
  },
  {
   "cell_type": "code",
   "execution_count": 27,
   "id": "ac864a62",
   "metadata": {},
   "outputs": [],
   "source": [
    "earth_flare_solo_deg = []\n",
    "for i in range(len(stix_flares)):\n",
    "    flare_aux=jreq.request_flare_light_time_and_angle(utc=stix_flares.iloc[i][\"start_UTC\"], \n",
    "                                                  flare_x=stix_flares.iloc[i][\"hpc_x\"], \n",
    "                                                  flare_y=stix_flares.iloc[i][\"hpc_y\"], \n",
    "                                                  observer='stix')\n",
    "    earth_flare_solo_deg.append(flare_aux[\"earth_flare_solo_deg\"])"
   ]
  },
  {
   "cell_type": "code",
   "execution_count": 45,
   "id": "c7aa5e2c",
   "metadata": {},
   "outputs": [],
   "source": [
    "stix_flares[\"earth_flare_solo_deg\"] = earth_flare_solo_deg"
   ]
  },
  {
   "cell_type": "code",
   "execution_count": null,
   "id": "e4281c35",
   "metadata": {},
   "outputs": [],
   "source": []
  }
 ],
 "metadata": {
  "kernelspec": {
   "display_name": "Python 3 (ipykernel)",
   "language": "python",
   "name": "python3"
  },
  "language_info": {
   "codemirror_mode": {
    "name": "ipython",
    "version": 3
   },
   "file_extension": ".py",
   "mimetype": "text/x-python",
   "name": "python",
   "nbconvert_exporter": "python",
   "pygments_lexer": "ipython3",
   "version": "3.10.5"
  }
 },
 "nbformat": 4,
 "nbformat_minor": 5
}
