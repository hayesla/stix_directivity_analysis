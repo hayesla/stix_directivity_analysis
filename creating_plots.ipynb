{
 "cells": [
  {
   "cell_type": "code",
   "execution_count": 293,
   "id": "6fb0ed47",
   "metadata": {},
   "outputs": [],
   "source": [
    "from sunpy.net import Fido, attrs as a\n",
    "from stixpy.net.client import STIXClient\n",
    "from sunpy import timeseries as ts\n",
    "from sunpy.coordinates import get_horizons_coord, frames\n",
    "from sunpy.time import parse_time\n",
    "import astropy.constants as const\n",
    "from astropy import units as u\n",
    "from astropy.coordinates import SkyCoord\n",
    "from stixpy import timeseries\n",
    "import matplotlib.pyplot as plt \n",
    "from matplotlib import dates\n",
    "import numpy as np \n",
    "import pandas as pd\n",
    "import datetime\n",
    "import astrospice\n",
    "import warnings\n",
    "warnings.filterwarnings(\"ignore\")"
   ]
  },
  {
   "cell_type": "code",
   "execution_count": 188,
   "id": "89e5071c",
   "metadata": {},
   "outputs": [],
   "source": [
    "flares = pd.read_csv(\"stix_fermi_potential_flares_20210101_20220601_fixed.csv\")"
   ]
  },
  {
   "cell_type": "code",
   "execution_count": 189,
   "id": "073ff794",
   "metadata": {},
   "outputs": [],
   "source": [
    "flares.reset_index(inplace=True, drop=True)"
   ]
  },
  {
   "cell_type": "code",
   "execution_count": 190,
   "id": "5e03d32a",
   "metadata": {},
   "outputs": [
    {
     "data": {
      "text/plain": [
       "48"
      ]
     },
     "execution_count": 190,
     "metadata": {},
     "output_type": "execute_result"
    }
   ],
   "source": [
    "len(flares[flares[\"goes_class_ind\"].isin([\"X\", \"M\"])])"
   ]
  },
  {
   "cell_type": "code",
   "execution_count": 191,
   "id": "e7f349f7",
   "metadata": {},
   "outputs": [
    {
     "data": {
      "text/plain": [
       "Index(['start_UTC', 'peak_UTC', 'end_UTC', 'duration', 'GOES_flux',\n",
       "       'CFL_X_arcsec', 'CFL_Y_arcsec', 'GOES_class', 'LC0_peak_counts_4sec',\n",
       "       'lon', 'rad', 'fermi', 'fermi_tstart', 'fermi_tpeak', 'fermi_tend',\n",
       "       'fermi_peak_counts', 'fermi_total_counts', 'sun_det0', 'sun_det1',\n",
       "       'sun_det2', 'sun_det3', 'goes_class_ind'],\n",
       "      dtype='object')"
      ]
     },
     "execution_count": 191,
     "metadata": {},
     "output_type": "execute_result"
    }
   ],
   "source": [
    "flares.keys()"
   ]
  },
  {
   "cell_type": "code",
   "execution_count": 192,
   "id": "f8a0b436",
   "metadata": {},
   "outputs": [],
   "source": [
    "flares_xm = flares[flares[\"goes_class_ind\"].isin([\"X\", \"M\"])]"
   ]
  },
  {
   "cell_type": "code",
   "execution_count": 193,
   "id": "fba71015",
   "metadata": {},
   "outputs": [
    {
     "data": {
      "text/plain": [
       "start_UTC               2021-05-22 21:31:50.988\n",
       "peak_UTC                2021-05-22T21:35:42.990\n",
       "end_UTC                 2021-05-22T21:41:34.991\n",
       "duration                                    584\n",
       "GOES_flux                              0.000015\n",
       "CFL_X_arcsec                             1050.0\n",
       "CFL_Y_arcsec                              320.0\n",
       "GOES_class                                 M1.5\n",
       "LC0_peak_counts_4sec                      77823\n",
       "lon                                  -98.139954\n",
       "rad                            141546947.712483\n",
       "fermi                                        24\n",
       "fermi_tstart                2021-05-22 21:30:59\n",
       "fermi_tpeak                 2021-05-22 21:31:46\n",
       "fermi_tend                  2021-05-22 21:31:58\n",
       "fermi_peak_counts                          7568\n",
       "fermi_total_counts                       153646\n",
       "sun_det0                                     n5\n",
       "sun_det1                                     n1\n",
       "sun_det2                                     n3\n",
       "sun_det3                                     n4\n",
       "goes_class_ind                                M\n",
       "Name: 9, dtype: object"
      ]
     },
     "execution_count": 193,
     "metadata": {},
     "output_type": "execute_result"
    }
   ],
   "source": [
    "flares_xm.iloc[1]"
   ]
  },
  {
   "cell_type": "code",
   "execution_count": 194,
   "id": "924f9eb2",
   "metadata": {},
   "outputs": [],
   "source": [
    "    tstart_stix, tend_stix = fl[\"start_UTC\"], fl[\"end_UTC\"]\n",
    "    tstart_fermi, tend_fermi = fl[\"fermi_tstart\"], fl[\"fermi_tend\"]"
   ]
  },
  {
   "cell_type": "code",
   "execution_count": 195,
   "id": "9b401bb5",
   "metadata": {},
   "outputs": [],
   "source": [
    "    tstart_plot = parse_time(tstart_stix).datetime - datetime.timedelta(minutes=5)\n",
    "    tend_plot = parse_time(tend_stix).datetime  + datetime.timedelta(minutes=5)"
   ]
  },
  {
   "cell_type": "code",
   "execution_count": 196,
   "id": "3418ef40",
   "metadata": {},
   "outputs": [
    {
     "data": {
      "text/plain": [
       "datetime.datetime(2021, 5, 22, 21, 26, 50, 988000)"
      ]
     },
     "execution_count": 196,
     "metadata": {},
     "output_type": "execute_result"
    }
   ],
   "source": [
    "tstart_plot"
   ]
  },
  {
   "cell_type": "code",
   "execution_count": 197,
   "id": "2c4925d2",
   "metadata": {},
   "outputs": [
    {
     "data": {
      "text/plain": [
       "array(['M', 'X'], dtype=object)"
      ]
     },
     "execution_count": 197,
     "metadata": {},
     "output_type": "execute_result"
    }
   ],
   "source": [
    "flares_xm[\"goes_class_ind\"].unique()"
   ]
  },
  {
   "cell_type": "code",
   "execution_count": 198,
   "id": "4904b947",
   "metadata": {},
   "outputs": [
    {
     "name": "stdout",
     "output_type": "stream",
     "text": [
      "test -98.14\n"
     ]
    }
   ],
   "source": [
    "print(\"test {:.2f}\".format(fl[\"lon\"]))"
   ]
  },
  {
   "cell_type": "code",
   "execution_count": 199,
   "id": "1e6d91f6",
   "metadata": {},
   "outputs": [
    {
     "data": {
      "text/plain": [
       "start_UTC               2021-05-07 18:51:07.200\n",
       "peak_UTC                2021-05-07T19:00:15.200\n",
       "end_UTC                 2021-05-07T19:18:55.202\n",
       "duration                                   1668\n",
       "GOES_flux                              0.000039\n",
       "CFL_X_arcsec                              540.0\n",
       "CFL_Y_arcsec                              270.0\n",
       "GOES_class                                 M3.9\n",
       "LC0_peak_counts_4sec                     311295\n",
       "lon                                  -97.426482\n",
       "rad                            137254463.509537\n",
       "fermi                                        15\n",
       "fermi_tstart                2021-05-07 18:58:45\n",
       "fermi_tpeak                 2021-05-07 18:59:34\n",
       "fermi_tend                  2021-05-07 19:35:36\n",
       "fermi_peak_counts                         71659\n",
       "fermi_total_counts                     17656436\n",
       "sun_det0                                     n5\n",
       "sun_det1                                     n3\n",
       "sun_det2                                     n1\n",
       "sun_det3                                     n4\n",
       "goes_class_ind                                M\n",
       "Name: 0, dtype: object"
      ]
     },
     "execution_count": 199,
     "metadata": {},
     "output_type": "execute_result"
    }
   ],
   "source": [
    "flares.iloc[0]"
   ]
  },
  {
   "cell_type": "code",
   "execution_count": 200,
   "id": "66c31bc3",
   "metadata": {},
   "outputs": [],
   "source": [
    "\n",
    "\n",
    "def make_plot(i):\n",
    "    fl = flares.iloc[i]\n",
    "    tstart_stix, tend_stix = fl[\"start_UTC\"], fl[\"end_UTC\"]\n",
    "    tstart_fermi, tend_fermi = fl[\"fermi_tstart\"], fl[\"fermi_tend\"]\n",
    "    det_fermi = fl[\"sun_det0\"]\n",
    "    \n",
    "    \n",
    "    tstart_plot = parse_time(tstart_stix).datetime - datetime.timedelta(minutes=5)\n",
    "    tend_plot = parse_time(tend_stix).datetime  + datetime.timedelta(minutes=5)\n",
    "\n",
    "    solo_pos = get_horizons_coord('SOLO', time=tstart_stix)\n",
    "    earth_pos = get_horizons_coord('399', time=tstart_stix)\n",
    "    light_tt = (solo_pos.radius - earth_pos.radius)/const.c\n",
    "    light_tt.to('s')\n",
    "\n",
    "\n",
    "\n",
    "    query_stix= Fido.search(a.Time(tstart_stix, tend_stix),\n",
    "                            a.Instrument.stix,\n",
    "                            a.stix.DataProduct.ql_lightcurve)\n",
    "\n",
    "    query_fermi = Fido.search(a.Time(tstart_fermi, tend_fermi), \n",
    "                              a.Instrument.gbm,\n",
    "                              a.Resolution.cspec,\n",
    "                              a.Detector(det_fermi))\n",
    "\n",
    "    files = Fido.fetch(query_stix, query_fermi, path=\"./{instrument}/{file}\")\n",
    "\n",
    "    if len(files)==2:\n",
    "        if \"STIX\" in files[0]:\n",
    "            stix_lc = ts.TimeSeries(files[0]).truncate(tstart_plot, tend_plot)\n",
    "            gbm_lc = ts.TimeSeries(files[1]).truncate(tstart_plot, tend_plot)\n",
    "        else:\n",
    "            stix_lc = ts.TimeSeries(files[1]).truncate(tstart_plot, tend_plot)\n",
    "            gbm_lc = ts.TimeSeries(files[2]).truncate(tstart_plot, tend_plot)        \n",
    "\n",
    "    gbm_lc = gbm_lc.to_dataframe()\n",
    "    stix_lc = stix_lc.to_dataframe()\n",
    "    gbm_lc.replace(0, np.nan, inplace=True)    \n",
    "\n",
    "    stix_lc.index = stix_lc.index - datetime.timedelta(seconds=light_tt.to_value(u.s))\n",
    "\n",
    "    fig, (ax1, ax2) = plt.subplots(2, sharex=True, figsize=(6, 6))\n",
    "    ax1.plot(stix_lc[\"4-10 keV\"], label=\"4-10 keV\")\n",
    "    ax1.plot(stix_lc[\"10-15 keV\"], label=\"10-15 keV\")\n",
    "    ax1.plot(stix_lc[\"15-25 keV\"], label=\"15-25 keV\")\n",
    "    ax1.plot(stix_lc[\"25-50 keV\"], label=\"25-50 keV\")\n",
    "    ax1.plot(stix_lc[\"50-84 keV\"], label=\"50-84 keV\")\n",
    "    ax1.legend(loc=\"upper right\")\n",
    "    ax1.set_yscale(\"log\")\n",
    "    \n",
    "    ax1.set_title(\"{:s} GOES class, {:.2f} degrees from Sun-Earth line\".format(fl[\"GOES_class\"], fl[\"lon\"]))\n",
    "    \n",
    "    ax2.plot(gbm_lc[\"4-15 keV\"], label=\"4-15 keV\")\n",
    "    ax2.plot(gbm_lc[\"15-25 keV\"], label=\"15-25 keV\")\n",
    "    ax2.plot(gbm_lc[\"25-50 keV\"], label=\"25-50 keV\")\n",
    "    ax2.plot(gbm_lc[\"50-100 keV\"], label=\"50-100 keV\")\n",
    "    ax2.set_yscale(\"log\")\n",
    "    ax2.legend(loc=\"upper right\")\n",
    "\n",
    "    ax1.axvline(parse_time(tstart_stix).datetime, ls=\"dashed\", lw=0.3)\n",
    "    ax1.axvline(parse_time(tend_stix).datetime, ls=\"dashed\", lw=0.3)\n",
    "    \n",
    "    ax1.xaxis.set_major_formatter(dates.DateFormatter(\"%H:%M\"))\n",
    "    ax1.set_ylabel(\"Counts/s/keV\")\n",
    "    ax2.set_ylabel(\"Counts/s/keV\")\n",
    "\n",
    "    ax1.text(0.02, 0.95, \"a. STIX\", transform=ax1.transAxes)\n",
    "    ax2.text(0.02, 0.95, \"b. Fermi/GBM\", transform=ax2.transAxes)\n",
    "    plt.tight_layout()\n",
    "    ax2.set_xlabel(\"Time {:s} UT\".format(stix_lc.index[0].strftime(\"%Y-%m-%d\")))\n",
    "    plt.savefig(\"./fermi_stix_plots/quick_look_{:s}_str{:d}_{:s}.png\".format(parse_time(tstart_stix).strftime(\"%Y%m%d_%H%M%S\"), i, fl[\"goes_class_ind\"]))\n",
    "    plt.close()"
   ]
  },
  {
   "cell_type": "code",
   "execution_count": 201,
   "id": "371e16c1",
   "metadata": {},
   "outputs": [],
   "source": [
    "#make_plot(0)"
   ]
  },
  {
   "cell_type": "code",
   "execution_count": 202,
   "id": "bb311387",
   "metadata": {},
   "outputs": [],
   "source": [
    "def plot_all():\n",
    "    errors = []\n",
    "    for i in range(len(flares)):\n",
    "        try:\n",
    "            make_plot(i)\n",
    "            print(\"doing\", i)\n",
    "        except:\n",
    "            print(\"error\", i)\n",
    "            errors.append(i)"
   ]
  },
  {
   "cell_type": "code",
   "execution_count": 203,
   "id": "d87960a3",
   "metadata": {},
   "outputs": [],
   "source": [
    "indices_of_interest = [17, 19, 20, 26, 35, 36, 47, 52, 146, 163, 166, 168, 181, 197, 198, 199, 203, 213]"
   ]
  },
  {
   "cell_type": "code",
   "execution_count": 204,
   "id": "36507fa7",
   "metadata": {},
   "outputs": [],
   "source": [
    "flares_of_interest = flares.iloc[indices_of_interest]"
   ]
  },
  {
   "cell_type": "code",
   "execution_count": 205,
   "id": "27022340",
   "metadata": {},
   "outputs": [
    {
     "data": {
      "text/html": [
       "<div>\n",
       "<style scoped>\n",
       "    .dataframe tbody tr th:only-of-type {\n",
       "        vertical-align: middle;\n",
       "    }\n",
       "\n",
       "    .dataframe tbody tr th {\n",
       "        vertical-align: top;\n",
       "    }\n",
       "\n",
       "    .dataframe thead th {\n",
       "        text-align: right;\n",
       "    }\n",
       "</style>\n",
       "<table border=\"1\" class=\"dataframe\">\n",
       "  <thead>\n",
       "    <tr style=\"text-align: right;\">\n",
       "      <th></th>\n",
       "      <th>start_UTC</th>\n",
       "      <th>peak_UTC</th>\n",
       "      <th>end_UTC</th>\n",
       "      <th>duration</th>\n",
       "      <th>GOES_flux</th>\n",
       "      <th>CFL_X_arcsec</th>\n",
       "      <th>CFL_Y_arcsec</th>\n",
       "      <th>GOES_class</th>\n",
       "      <th>LC0_peak_counts_4sec</th>\n",
       "      <th>lon</th>\n",
       "      <th>...</th>\n",
       "      <th>fermi_tstart</th>\n",
       "      <th>fermi_tpeak</th>\n",
       "      <th>fermi_tend</th>\n",
       "      <th>fermi_peak_counts</th>\n",
       "      <th>fermi_total_counts</th>\n",
       "      <th>sun_det0</th>\n",
       "      <th>sun_det1</th>\n",
       "      <th>sun_det2</th>\n",
       "      <th>sun_det3</th>\n",
       "      <th>goes_class_ind</th>\n",
       "    </tr>\n",
       "  </thead>\n",
       "  <tbody>\n",
       "    <tr>\n",
       "      <th>17</th>\n",
       "      <td>2021-08-22 10:14:42.130</td>\n",
       "      <td>2021-08-22T10:16:22.130</td>\n",
       "      <td>2021-08-22T10:19:10.131</td>\n",
       "      <td>268</td>\n",
       "      <td>0.000002</td>\n",
       "      <td>700.0</td>\n",
       "      <td>310.0</td>\n",
       "      <td>C2.0</td>\n",
       "      <td>17407</td>\n",
       "      <td>-79.479501</td>\n",
       "      <td>...</td>\n",
       "      <td>2021-08-22 10:17:37</td>\n",
       "      <td>2021-08-22 10:18:14</td>\n",
       "      <td>2021-08-22 10:20:25</td>\n",
       "      <td>6733</td>\n",
       "      <td>210259</td>\n",
       "      <td>n5</td>\n",
       "      <td>n4</td>\n",
       "      <td>n2</td>\n",
       "      <td>n1</td>\n",
       "      <td>C</td>\n",
       "    </tr>\n",
       "    <tr>\n",
       "      <th>19</th>\n",
       "      <td>2021-08-28 05:00:36.576</td>\n",
       "      <td>2021-08-28T05:01:40.576</td>\n",
       "      <td>2021-08-28T05:03:04.576</td>\n",
       "      <td>148</td>\n",
       "      <td>0.000007</td>\n",
       "      <td>0.0</td>\n",
       "      <td>0.0</td>\n",
       "      <td>C7.0</td>\n",
       "      <td>118783</td>\n",
       "      <td>-72.405497</td>\n",
       "      <td>...</td>\n",
       "      <td>2021-08-28 05:03:28</td>\n",
       "      <td>2021-08-28 05:04:36</td>\n",
       "      <td>2021-08-28 05:06:06</td>\n",
       "      <td>16197</td>\n",
       "      <td>538835</td>\n",
       "      <td>n5</td>\n",
       "      <td>n3</td>\n",
       "      <td>n1</td>\n",
       "      <td>n4</td>\n",
       "      <td>C</td>\n",
       "    </tr>\n",
       "    <tr>\n",
       "      <th>20</th>\n",
       "      <td>2021-08-28 05:53:24.582</td>\n",
       "      <td>2021-08-28T06:04:24.583</td>\n",
       "      <td>2021-08-28T06:37:12.586</td>\n",
       "      <td>2628</td>\n",
       "      <td>0.000048</td>\n",
       "      <td>1070.0</td>\n",
       "      <td>-1220.0</td>\n",
       "      <td>M4.8</td>\n",
       "      <td>753663</td>\n",
       "      <td>-72.357369</td>\n",
       "      <td>...</td>\n",
       "      <td>2021-08-28 05:53:18</td>\n",
       "      <td>2021-08-28 06:06:22</td>\n",
       "      <td>2021-08-28 06:47:53</td>\n",
       "      <td>130560</td>\n",
       "      <td>62574028</td>\n",
       "      <td>n5</td>\n",
       "      <td>n1</td>\n",
       "      <td>n3</td>\n",
       "      <td>n0</td>\n",
       "      <td>M</td>\n",
       "    </tr>\n",
       "  </tbody>\n",
       "</table>\n",
       "<p>3 rows × 22 columns</p>\n",
       "</div>"
      ],
      "text/plain": [
       "                  start_UTC                 peak_UTC                  end_UTC  \\\n",
       "17  2021-08-22 10:14:42.130  2021-08-22T10:16:22.130  2021-08-22T10:19:10.131   \n",
       "19  2021-08-28 05:00:36.576  2021-08-28T05:01:40.576  2021-08-28T05:03:04.576   \n",
       "20  2021-08-28 05:53:24.582  2021-08-28T06:04:24.583  2021-08-28T06:37:12.586   \n",
       "\n",
       "    duration  GOES_flux  CFL_X_arcsec  CFL_Y_arcsec GOES_class  \\\n",
       "17       268   0.000002         700.0         310.0       C2.0   \n",
       "19       148   0.000007           0.0           0.0       C7.0   \n",
       "20      2628   0.000048        1070.0       -1220.0       M4.8   \n",
       "\n",
       "    LC0_peak_counts_4sec        lon  ...         fermi_tstart  \\\n",
       "17                 17407 -79.479501  ...  2021-08-22 10:17:37   \n",
       "19                118783 -72.405497  ...  2021-08-28 05:03:28   \n",
       "20                753663 -72.357369  ...  2021-08-28 05:53:18   \n",
       "\n",
       "            fermi_tpeak           fermi_tend fermi_peak_counts  \\\n",
       "17  2021-08-22 10:18:14  2021-08-22 10:20:25              6733   \n",
       "19  2021-08-28 05:04:36  2021-08-28 05:06:06             16197   \n",
       "20  2021-08-28 06:06:22  2021-08-28 06:47:53            130560   \n",
       "\n",
       "   fermi_total_counts  sun_det0  sun_det1 sun_det2 sun_det3 goes_class_ind  \n",
       "17             210259        n5        n4       n2       n1              C  \n",
       "19             538835        n5        n3       n1       n4              C  \n",
       "20           62574028        n5        n1       n3       n0              M  \n",
       "\n",
       "[3 rows x 22 columns]"
      ]
     },
     "execution_count": 205,
     "metadata": {},
     "output_type": "execute_result"
    }
   ],
   "source": [
    "flares_of_interest.head(3)"
   ]
  },
  {
   "cell_type": "code",
   "execution_count": 209,
   "id": "d2a03458",
   "metadata": {},
   "outputs": [],
   "source": [
    "#flares_of_interest.to_csv(\"18_flares_of_interest.csv\")"
   ]
  },
  {
   "cell_type": "markdown",
   "id": "0f19a785",
   "metadata": {},
   "source": [
    "## Plot location of SoLO and Earth"
   ]
  },
  {
   "cell_type": "code",
   "execution_count": 214,
   "id": "019ff296",
   "metadata": {},
   "outputs": [],
   "source": [
    "location = []\n",
    "times_flares = parse_time(flares_of_interest[\"start_UTC\"])"
   ]
  },
  {
   "cell_type": "code",
   "execution_count": 218,
   "id": "29bf5924",
   "metadata": {},
   "outputs": [
    {
     "data": {
      "application/vnd.jupyter.widget-view+json": {
       "model_id": "fb556b0bb4ee47ccb425eaed8871c1b4",
       "version_major": 2,
       "version_minor": 0
      },
      "text/plain": [
       "Files Downloaded:   0%|          | 0/1 [00:00<?, ?file/s]"
      ]
     },
     "metadata": {},
     "output_type": "display_data"
    }
   ],
   "source": [
    "kernals = astrospice.registry.get_kernels(\"solar orbiter\", \"predict\")\n",
    "solo_coords = astrospice.generate_coords(\"SOLAR ORBITER\", times_flares)\n",
    "earth_coords = astrospice.generate_coords(\"earth\", times_flares)\n",
    "sun_coords = astrospice.generate_coords(\"sun\", times_flares)\n",
    "\n",
    "solo_coords_hgs = solo_coords.transform_to(frames.HeliographicStonyhurst)\n",
    "earth_coords_hgs = earth_coords.transform_to(frames.HeliographicStonyhurst)\n",
    "sun_coords_hgs = sun_coords.transform_to(frames.HeliographicStonyhurst)"
   ]
  },
  {
   "cell_type": "code",
   "execution_count": 227,
   "id": "4d96e8ea",
   "metadata": {},
   "outputs": [
    {
     "data": {
      "text/plain": [
       "<SkyCoord (HeliographicStonyhurst: obstime=2021-08-22 10:14:42.130, rsun=695700.0 km): (lon, lat, radius) in (deg, deg, km)\n",
       "    (-79.47950134, -1.20182759, 96550261.10490535)>"
      ]
     },
     "execution_count": 227,
     "metadata": {},
     "output_type": "execute_result"
    }
   ],
   "source": [
    "solo_coords_hgs[0]"
   ]
  },
  {
   "cell_type": "code",
   "execution_count": 221,
   "id": "6ab4002e",
   "metadata": {},
   "outputs": [],
   "source": [
    "ticks = dates.date2num(times_flares.datetime)"
   ]
  },
  {
   "cell_type": "code",
   "execution_count": 244,
   "id": "93da7eac",
   "metadata": {},
   "outputs": [
    {
     "data": {
      "text/plain": [
       "'2021-08-22'"
      ]
     },
     "execution_count": 244,
     "metadata": {},
     "output_type": "execute_result"
    }
   ],
   "source": [
    "solo_pos.obstime.strftime(\"%Y-%m-%d\")"
   ]
  },
  {
   "cell_type": "code",
   "execution_count": 274,
   "id": "09491666",
   "metadata": {},
   "outputs": [],
   "source": [
    "def make_orbit_plots():\n",
    "    for i in range(len(flares_of_interest)):\n",
    "\n",
    "        solo_pos = solo_coords_hgs[i]\n",
    "        sun_pos = sun_coords_hgs[0]\n",
    "        earth_pos = earth_coords_hgs[0]\n",
    "\n",
    "\n",
    "        fig = plt.figure(figsize=(6, 6))\n",
    "        ax = fig.add_subplot(projection='polar')\n",
    "\n",
    "\n",
    "        ax.plot([solo_pos.lon.to_value(u.rad), sun_pos.lon.to_value(u.rad)], \n",
    "                [solo_pos.radius.to_value(u.AU), sun_pos.radius.to_value(u.AU)], color='k', ls=\"dashed\")\n",
    "\n",
    "        ax.plot([earth_pos.lon.to_value(u.rad), sun_pos.lon.to_value(u.rad)], \n",
    "                [earth_pos.radius.to_value(u.AU), sun_pos.radius.to_value(u.AU)], color='k', ls=\"dashed\")\n",
    "\n",
    "        ax.plot(solo_pos.lon.to(u.rad), \n",
    "                   solo_pos.radius.to_value(u.au), marker='.', ms=20, color='tab:orange', label=\"Solar Orbiter\")\n",
    "\n",
    "        ax.plot(earth_pos.lon.to(u.rad), \n",
    "                   earth_pos.radius.to_value(u.au), ms=12, marker='.', color=\"blue\", label=\"Earth\")\n",
    "\n",
    "        ax.plot(sun_pos.lon.to(u.rad), \n",
    "                sun_pos.radius.to_value(u.AU), marker='o', color='y', label=\"Sun\",  ms=20)\n",
    "\n",
    "\n",
    "\n",
    "        ax.set_theta_zero_location(\"S\")\n",
    "        _ = ax.set_yticklabels([])\n",
    "\n",
    "        ax.set_rlim(0, 1.3)\n",
    "        ax.set_title(\"HGS Positions {:s} UT\".format(solo_pos.obstime.strftime(\"%Y-%m-%d\")))\n",
    "\n",
    "\n",
    "        ax.legend()\n",
    "        plt.tight_layout()\n",
    "        plt.savefig(\"flares_of_interest/orbit_plot_{:d}.png\".format(flares_of_interest.index[i]), dpi=300, \n",
    "                    facecolor='w', bbox_inches=\"tight\")\n",
    "        plt.close()"
   ]
  },
  {
   "cell_type": "code",
   "execution_count": 272,
   "id": "2791b586",
   "metadata": {},
   "outputs": [],
   "source": [
    "# fig = plt.figure(figsize=(6, 6))\n",
    "# ax = fig.add_subplot(projection='polar')\n",
    "\n",
    "# ax.plot((flares_of_interest.iloc[0][\"lon\"])*u.deg.to(u.rad), \n",
    "#        (flares_of_interest.iloc[0][\"rad\"]*u.km).to(u.AU), \n",
    "#         marker='.', ms=20)\n",
    "\n",
    "# ax.plot([0], [1], marker='.', ms=20)\n",
    "# ax.set_theta_zero_location(\"S\")\n",
    "# _ = ax.set_yticklabels([])\n",
    "\n",
    "# ax.set_rlim(0, 1.3)\n",
    "# ax.set_title(\"HGS Positions {:s} UT\".format(solo_pos.obstime.strftime(\"%Y-%m-%d\")))"
   ]
  },
  {
   "cell_type": "code",
   "execution_count": 291,
   "id": "cba3d715",
   "metadata": {},
   "outputs": [],
   "source": [
    "flares_of_interest[[\"start_UTC\", \"GOES_class\"]].to_csv(\"flares_to_get_location.csv\")"
   ]
  },
  {
   "cell_type": "code",
   "execution_count": 300,
   "id": "a7023abb",
   "metadata": {},
   "outputs": [],
   "source": [
    "flare_of_interest_w_locs = pd.read_csv(\"flares_to_get_location_w_locations.csv\")"
   ]
  },
  {
   "cell_type": "code",
   "execution_count": 362,
   "id": "d1a504cb",
   "metadata": {},
   "outputs": [],
   "source": [
    "flares_of_interest[\"location_hgs\"] = flare_of_interest_w_locs[\"location\"].values"
   ]
  },
  {
   "cell_type": "code",
   "execution_count": 372,
   "id": "b9f86236",
   "metadata": {},
   "outputs": [],
   "source": [
    "def make_orbit_plots():\n",
    "    for i in range(len(flares_of_interest)):\n",
    "\n",
    "        l = flares_of_interest.iloc[i][\"location_hgs\"]\n",
    "        date = flares_of_interest.iloc[i][\"start_UTC\"]\n",
    "\n",
    "        map_pos = {\"S\":-1, \"N\":1, \"E\":-1, \"W\":1}\n",
    "        x = l[0:3]\n",
    "        y = l[3:7]\n",
    "\n",
    "        xx = map_pos[x[0]]*int(x[1:])\n",
    "        yy = map_pos[y[0]]*int(y[1:])\n",
    "        print(xx, yy)\n",
    "        coord = SkyCoord(lat=xx*u.deg, lon=yy*u.deg, frame=frames.HeliographicStonyhurst)\n",
    "        coord_hpc = coord.transform_to(frames.Helioprojective(observer=\"earth\", obstime=date))\n",
    "        coord_test = coord_hpc.transform_to(frames.HeliographicStonyhurst)\n",
    "\n",
    "        solo_pos = solo_coords_hgs[i]\n",
    "        sun_pos = sun_coords_hgs[0]\n",
    "        earth_pos = earth_coords_hgs[0]\n",
    "\n",
    "\n",
    "        fig = plt.figure(figsize=(6, 6))\n",
    "        ax = fig.add_subplot(projection='polar')\n",
    "\n",
    "\n",
    "        ax.plot([solo_pos.lon.to_value(u.rad), sun_pos.lon.to_value(u.rad)], \n",
    "                [solo_pos.radius.to_value(u.AU), sun_pos.radius.to_value(u.AU)], color='k', ls=\"dashed\")\n",
    "\n",
    "        ax.plot([earth_pos.lon.to_value(u.rad), sun_pos.lon.to_value(u.rad)], \n",
    "                [earth_pos.radius.to_value(u.AU), sun_pos.radius.to_value(u.AU)], color='k', ls=\"dashed\")\n",
    "\n",
    "        ax.plot(solo_pos.lon.to(u.rad), \n",
    "                   solo_pos.radius.to_value(u.au), marker='.', ms=20, color='tab:orange', label=\"Solar Orbiter\")\n",
    "\n",
    "        ax.plot(earth_pos.lon.to(u.rad), \n",
    "                   earth_pos.radius.to_value(u.au), ms=12, marker='.', color=\"blue\", label=\"Earth\")\n",
    "\n",
    "        ax.plot(sun_pos.lon.to(u.rad), \n",
    "                sun_pos.radius.to_value(u.AU), marker='o', color='y', label=\"Sun\",  ms=20)\n",
    "\n",
    "        ax.plot(coord_test.lon.to(u.rad), \n",
    "                coord_test.radius.to_value(u.au)+0.08, marker='x', color='r')\n",
    "\n",
    "\n",
    "\n",
    "        ax.set_theta_zero_location(\"S\")\n",
    "        _ = ax.set_yticklabels([])\n",
    "\n",
    "        ax.set_rlim(0, 1.3)\n",
    "        ax.set_title(\"HGS Positions {:s} UT\".format(solo_pos.obstime.strftime(\"%Y-%m-%d\")))\n",
    "\n",
    "\n",
    "        ax.legend()\n",
    "        plt.tight_layout()\n",
    "        plt.savefig(\"flares_of_interest/orbit_plot_flare_{:d}.png\".format(flares_of_interest.index[i]), dpi=300, \n",
    "                    facecolor='w', bbox_inches=\"tight\")\n",
    "        plt.close()"
   ]
  },
  {
   "cell_type": "code",
   "execution_count": 374,
   "id": "cf180cac",
   "metadata": {},
   "outputs": [],
   "source": [
    "#make_orbit_plots()"
   ]
  },
  {
   "cell_type": "code",
   "execution_count": 376,
   "id": "45ec33a6",
   "metadata": {},
   "outputs": [],
   "source": [
    "flares_of_interest.to_csv(\"flare_ana_18_flares.csv\")"
   ]
  },
  {
   "cell_type": "code",
   "execution_count": null,
   "id": "060b031b",
   "metadata": {},
   "outputs": [],
   "source": []
  },
  {
   "cell_type": "code",
   "execution_count": null,
   "id": "d1133050",
   "metadata": {},
   "outputs": [],
   "source": []
  },
  {
   "cell_type": "code",
   "execution_count": null,
   "id": "55e9704b",
   "metadata": {},
   "outputs": [],
   "source": []
  }
 ],
 "metadata": {
  "kernelspec": {
   "display_name": "Python 3 (ipykernel)",
   "language": "python",
   "name": "python3"
  },
  "language_info": {
   "codemirror_mode": {
    "name": "ipython",
    "version": 3
   },
   "file_extension": ".py",
   "mimetype": "text/x-python",
   "name": "python",
   "nbconvert_exporter": "python",
   "pygments_lexer": "ipython3",
   "version": "3.10.5"
  }
 },
 "nbformat": 4,
 "nbformat_minor": 5
}
