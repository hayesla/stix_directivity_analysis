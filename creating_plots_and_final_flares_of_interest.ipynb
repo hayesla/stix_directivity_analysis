{
 "cells": [
  {
   "cell_type": "markdown",
   "id": "167561ec",
   "metadata": {},
   "source": [
    "## Analyis of potential flare list\n",
    "\n",
    "This notebook makes lots of plots and creates the final flare list of 18 events of interest.\n",
    "\n",
    "Creates the `flare_ana_18_flares.csv` file"
   ]
  },
  {
   "cell_type": "code",
   "execution_count": 79,
   "id": "6fb0ed47",
   "metadata": {},
   "outputs": [],
   "source": [
    "from sunpy.net import Fido, attrs as a\n",
    "from stixpy.net.client import STIXClient\n",
    "from sunpy import timeseries as ts\n",
    "from sunpy.coordinates import get_horizons_coord, frames\n",
    "from stixdcpy.net import JSONRequest as jreq\n",
    "from sunpy.time import parse_time\n",
    "import astropy.constants as const\n",
    "from astropy import units as u\n",
    "from astropy.coordinates import SkyCoord\n",
    "from stixpy import timeseries\n",
    "import matplotlib.pyplot as plt \n",
    "from matplotlib import dates\n",
    "import numpy as np \n",
    "import pandas as pd\n",
    "import datetime\n",
    "import astrospice\n",
    "import warnings\n",
    "warnings.filterwarnings(\"ignore\")"
   ]
  },
  {
   "cell_type": "code",
   "execution_count": 2,
   "id": "89e5071c",
   "metadata": {},
   "outputs": [],
   "source": [
    "flares = pd.read_csv(\"stix_fermi_potential_flares_20210101_20220601_fixed.csv\")"
   ]
  },
  {
   "cell_type": "code",
   "execution_count": 3,
   "id": "073ff794",
   "metadata": {},
   "outputs": [],
   "source": [
    "flares.reset_index(inplace=True, drop=True)"
   ]
  },
  {
   "cell_type": "code",
   "execution_count": 4,
   "id": "5e03d32a",
   "metadata": {},
   "outputs": [
    {
     "data": {
      "text/plain": [
       "48"
      ]
     },
     "execution_count": 4,
     "metadata": {},
     "output_type": "execute_result"
    }
   ],
   "source": [
    "len(flares[flares[\"goes_class_ind\"].isin([\"X\", \"M\"])])"
   ]
  },
  {
   "cell_type": "code",
   "execution_count": 5,
   "id": "e7f349f7",
   "metadata": {},
   "outputs": [
    {
     "data": {
      "text/plain": [
       "Index(['start_UTC', 'peak_UTC', 'end_UTC', 'duration', 'GOES_flux',\n",
       "       'CFL_X_arcsec', 'CFL_Y_arcsec', 'GOES_class', 'LC0_peak_counts_4sec',\n",
       "       'lon', 'rad', 'fermi', 'fermi_tstart', 'fermi_tpeak', 'fermi_tend',\n",
       "       'fermi_peak_counts', 'fermi_total_counts', 'sun_det0', 'sun_det1',\n",
       "       'sun_det2', 'sun_det3', 'goes_class_ind'],\n",
       "      dtype='object')"
      ]
     },
     "execution_count": 5,
     "metadata": {},
     "output_type": "execute_result"
    }
   ],
   "source": [
    "flares.keys()"
   ]
  },
  {
   "cell_type": "code",
   "execution_count": 6,
   "id": "f8a0b436",
   "metadata": {},
   "outputs": [],
   "source": [
    "flares_xm = flares[flares[\"goes_class_ind\"].isin([\"X\", \"M\"])]"
   ]
  },
  {
   "cell_type": "code",
   "execution_count": 7,
   "id": "fba71015",
   "metadata": {},
   "outputs": [
    {
     "data": {
      "text/plain": [
       "start_UTC               2021-05-22 21:31:50.988\n",
       "peak_UTC                2021-05-22T21:35:42.990\n",
       "end_UTC                 2021-05-22T21:41:34.991\n",
       "duration                                    584\n",
       "GOES_flux                              0.000015\n",
       "CFL_X_arcsec                             1050.0\n",
       "CFL_Y_arcsec                              320.0\n",
       "GOES_class                                 M1.5\n",
       "LC0_peak_counts_4sec                      77823\n",
       "lon                                  -98.139954\n",
       "rad                            141546947.712483\n",
       "fermi                                        24\n",
       "fermi_tstart                2021-05-22 21:30:59\n",
       "fermi_tpeak                 2021-05-22 21:31:46\n",
       "fermi_tend                  2021-05-22 21:31:58\n",
       "fermi_peak_counts                          7568\n",
       "fermi_total_counts                       153646\n",
       "sun_det0                                     n5\n",
       "sun_det1                                     n1\n",
       "sun_det2                                     n3\n",
       "sun_det3                                     n4\n",
       "goes_class_ind                                M\n",
       "Name: 9, dtype: object"
      ]
     },
     "execution_count": 7,
     "metadata": {},
     "output_type": "execute_result"
    }
   ],
   "source": [
    "flares_xm.iloc[1]"
   ]
  },
  {
   "cell_type": "code",
   "execution_count": 10,
   "id": "2c4925d2",
   "metadata": {},
   "outputs": [
    {
     "data": {
      "text/plain": [
       "array(['M', 'X'], dtype=object)"
      ]
     },
     "execution_count": 10,
     "metadata": {},
     "output_type": "execute_result"
    }
   ],
   "source": [
    "flares_xm[\"goes_class_ind\"].unique()"
   ]
  },
  {
   "cell_type": "code",
   "execution_count": 12,
   "id": "1e6d91f6",
   "metadata": {},
   "outputs": [
    {
     "data": {
      "text/plain": [
       "start_UTC               2021-05-07 18:51:07.200\n",
       "peak_UTC                2021-05-07T19:00:15.200\n",
       "end_UTC                 2021-05-07T19:18:55.202\n",
       "duration                                   1668\n",
       "GOES_flux                              0.000039\n",
       "CFL_X_arcsec                              540.0\n",
       "CFL_Y_arcsec                              270.0\n",
       "GOES_class                                 M3.9\n",
       "LC0_peak_counts_4sec                     311295\n",
       "lon                                  -97.426482\n",
       "rad                            137254463.509537\n",
       "fermi                                        15\n",
       "fermi_tstart                2021-05-07 18:58:45\n",
       "fermi_tpeak                 2021-05-07 18:59:34\n",
       "fermi_tend                  2021-05-07 19:35:36\n",
       "fermi_peak_counts                         71659\n",
       "fermi_total_counts                     17656436\n",
       "sun_det0                                     n5\n",
       "sun_det1                                     n3\n",
       "sun_det2                                     n1\n",
       "sun_det3                                     n4\n",
       "goes_class_ind                                M\n",
       "Name: 0, dtype: object"
      ]
     },
     "execution_count": 12,
     "metadata": {},
     "output_type": "execute_result"
    }
   ],
   "source": [
    "flares.iloc[0]"
   ]
  },
  {
   "cell_type": "code",
   "execution_count": 13,
   "id": "66c31bc3",
   "metadata": {},
   "outputs": [],
   "source": [
    "\n",
    "\n",
    "def make_plot(i):\n",
    "    fl = flares.iloc[i]\n",
    "    tstart_stix, tend_stix = fl[\"start_UTC\"], fl[\"end_UTC\"]\n",
    "    tstart_fermi, tend_fermi = fl[\"fermi_tstart\"], fl[\"fermi_tend\"]\n",
    "    det_fermi = fl[\"sun_det0\"]\n",
    "    \n",
    "    \n",
    "    tstart_plot = parse_time(tstart_stix).datetime - datetime.timedelta(minutes=5)\n",
    "    tend_plot = parse_time(tend_stix).datetime  + datetime.timedelta(minutes=5)\n",
    "\n",
    "    solo_pos = get_horizons_coord('SOLO', time=tstart_stix)\n",
    "    earth_pos = get_horizons_coord('399', time=tstart_stix)\n",
    "    light_tt = (solo_pos.radius - earth_pos.radius)/const.c\n",
    "    light_tt.to('s')\n",
    "\n",
    "\n",
    "\n",
    "    query_stix= Fido.search(a.Time(tstart_stix, tend_stix),\n",
    "                            a.Instrument.stix,\n",
    "                            a.stix.DataProduct.ql_lightcurve)\n",
    "\n",
    "    query_fermi = Fido.search(a.Time(tstart_fermi, tend_fermi), \n",
    "                              a.Instrument.gbm,\n",
    "                              a.Resolution.cspec,\n",
    "                              a.Detector(det_fermi))\n",
    "\n",
    "    files = Fido.fetch(query_stix, query_fermi, path=\"./{instrument}/{file}\")\n",
    "\n",
    "    if len(files)==2:\n",
    "        if \"STIX\" in files[0]:\n",
    "            stix_lc = ts.TimeSeries(files[0]).truncate(tstart_plot, tend_plot)\n",
    "            gbm_lc = ts.TimeSeries(files[1]).truncate(tstart_plot, tend_plot)\n",
    "        else:\n",
    "            stix_lc = ts.TimeSeries(files[1]).truncate(tstart_plot, tend_plot)\n",
    "            gbm_lc = ts.TimeSeries(files[2]).truncate(tstart_plot, tend_plot)        \n",
    "\n",
    "    gbm_lc = gbm_lc.to_dataframe()\n",
    "    stix_lc = stix_lc.to_dataframe()\n",
    "    gbm_lc.replace(0, np.nan, inplace=True)    \n",
    "\n",
    "    stix_lc.index = stix_lc.index - datetime.timedelta(seconds=light_tt.to_value(u.s))\n",
    "\n",
    "    fig, (ax1, ax2) = plt.subplots(2, sharex=True, figsize=(6, 6))\n",
    "    ax1.plot(stix_lc[\"4-10 keV\"], label=\"4-10 keV\")\n",
    "    ax1.plot(stix_lc[\"10-15 keV\"], label=\"10-15 keV\")\n",
    "    ax1.plot(stix_lc[\"15-25 keV\"], label=\"15-25 keV\")\n",
    "    ax1.plot(stix_lc[\"25-50 keV\"], label=\"25-50 keV\")\n",
    "    ax1.plot(stix_lc[\"50-84 keV\"], label=\"50-84 keV\")\n",
    "    ax1.legend(loc=\"upper right\")\n",
    "    ax1.set_yscale(\"log\")\n",
    "    \n",
    "    ax1.set_title(\"{:s} GOES class, {:.2f} degrees from Sun-Earth line\".format(fl[\"GOES_class\"], fl[\"lon\"]))\n",
    "    \n",
    "    ax2.plot(gbm_lc[\"4-15 keV\"], label=\"4-15 keV\")\n",
    "    ax2.plot(gbm_lc[\"15-25 keV\"], label=\"15-25 keV\")\n",
    "    ax2.plot(gbm_lc[\"25-50 keV\"], label=\"25-50 keV\")\n",
    "    ax2.plot(gbm_lc[\"50-100 keV\"], label=\"50-100 keV\")\n",
    "    ax2.set_yscale(\"log\")\n",
    "    ax2.legend(loc=\"upper right\")\n",
    "\n",
    "    ax1.axvline(parse_time(tstart_stix).datetime, ls=\"dashed\", lw=0.3)\n",
    "    ax1.axvline(parse_time(tend_stix).datetime, ls=\"dashed\", lw=0.3)\n",
    "    \n",
    "    ax1.xaxis.set_major_formatter(dates.DateFormatter(\"%H:%M\"))\n",
    "    ax1.set_ylabel(\"Counts/s/keV\")\n",
    "    ax2.set_ylabel(\"Counts/s/keV\")\n",
    "\n",
    "    ax1.text(0.02, 0.95, \"a. STIX\", transform=ax1.transAxes)\n",
    "    ax2.text(0.02, 0.95, \"b. Fermi/GBM\", transform=ax2.transAxes)\n",
    "    plt.tight_layout()\n",
    "    ax2.set_xlabel(\"Time {:s} UT\".format(stix_lc.index[0].strftime(\"%Y-%m-%d\")))\n",
    "    plt.savefig(\"./fermi_stix_plots/quick_look_{:s}_str{:d}_{:s}.png\".format(parse_time(tstart_stix).strftime(\"%Y%m%d_%H%M%S\"), i, fl[\"goes_class_ind\"]))\n",
    "    plt.close()"
   ]
  },
  {
   "cell_type": "code",
   "execution_count": 14,
   "id": "371e16c1",
   "metadata": {},
   "outputs": [],
   "source": [
    "#make_plot(0)"
   ]
  },
  {
   "cell_type": "code",
   "execution_count": 15,
   "id": "bb311387",
   "metadata": {},
   "outputs": [],
   "source": [
    "def plot_all():\n",
    "    errors = []\n",
    "    for i in range(len(flares)):\n",
    "        try:\n",
    "            make_plot(i)\n",
    "            print(\"doing\", i)\n",
    "        except:\n",
    "            print(\"error\", i)\n",
    "            errors.append(i)"
   ]
  },
  {
   "cell_type": "code",
   "execution_count": 16,
   "id": "d87960a3",
   "metadata": {},
   "outputs": [],
   "source": [
    "indices_of_interest = [17, 19, 20, 26, 35, 36, 47, 52, 146, 163, 166, 168, 181, 197, 198, 199, 203, 213]"
   ]
  },
  {
   "cell_type": "code",
   "execution_count": 17,
   "id": "36507fa7",
   "metadata": {},
   "outputs": [],
   "source": [
    "flares_of_interest = flares.iloc[indices_of_interest]"
   ]
  },
  {
   "cell_type": "code",
   "execution_count": 18,
   "id": "27022340",
   "metadata": {},
   "outputs": [
    {
     "data": {
      "text/html": [
       "<div>\n",
       "<style scoped>\n",
       "    .dataframe tbody tr th:only-of-type {\n",
       "        vertical-align: middle;\n",
       "    }\n",
       "\n",
       "    .dataframe tbody tr th {\n",
       "        vertical-align: top;\n",
       "    }\n",
       "\n",
       "    .dataframe thead th {\n",
       "        text-align: right;\n",
       "    }\n",
       "</style>\n",
       "<table border=\"1\" class=\"dataframe\">\n",
       "  <thead>\n",
       "    <tr style=\"text-align: right;\">\n",
       "      <th></th>\n",
       "      <th>start_UTC</th>\n",
       "      <th>peak_UTC</th>\n",
       "      <th>end_UTC</th>\n",
       "      <th>duration</th>\n",
       "      <th>GOES_flux</th>\n",
       "      <th>CFL_X_arcsec</th>\n",
       "      <th>CFL_Y_arcsec</th>\n",
       "      <th>GOES_class</th>\n",
       "      <th>LC0_peak_counts_4sec</th>\n",
       "      <th>lon</th>\n",
       "      <th>...</th>\n",
       "      <th>fermi_tstart</th>\n",
       "      <th>fermi_tpeak</th>\n",
       "      <th>fermi_tend</th>\n",
       "      <th>fermi_peak_counts</th>\n",
       "      <th>fermi_total_counts</th>\n",
       "      <th>sun_det0</th>\n",
       "      <th>sun_det1</th>\n",
       "      <th>sun_det2</th>\n",
       "      <th>sun_det3</th>\n",
       "      <th>goes_class_ind</th>\n",
       "    </tr>\n",
       "  </thead>\n",
       "  <tbody>\n",
       "    <tr>\n",
       "      <th>17</th>\n",
       "      <td>2021-08-22 10:14:42.130</td>\n",
       "      <td>2021-08-22T10:16:22.130</td>\n",
       "      <td>2021-08-22T10:19:10.131</td>\n",
       "      <td>268</td>\n",
       "      <td>0.000002</td>\n",
       "      <td>700.0</td>\n",
       "      <td>310.0</td>\n",
       "      <td>C2.0</td>\n",
       "      <td>17407</td>\n",
       "      <td>-79.479501</td>\n",
       "      <td>...</td>\n",
       "      <td>2021-08-22 10:17:37</td>\n",
       "      <td>2021-08-22 10:18:14</td>\n",
       "      <td>2021-08-22 10:20:25</td>\n",
       "      <td>6733</td>\n",
       "      <td>210259</td>\n",
       "      <td>n5</td>\n",
       "      <td>n4</td>\n",
       "      <td>n2</td>\n",
       "      <td>n1</td>\n",
       "      <td>C</td>\n",
       "    </tr>\n",
       "    <tr>\n",
       "      <th>19</th>\n",
       "      <td>2021-08-28 05:00:36.576</td>\n",
       "      <td>2021-08-28T05:01:40.576</td>\n",
       "      <td>2021-08-28T05:03:04.576</td>\n",
       "      <td>148</td>\n",
       "      <td>0.000007</td>\n",
       "      <td>0.0</td>\n",
       "      <td>0.0</td>\n",
       "      <td>C7.0</td>\n",
       "      <td>118783</td>\n",
       "      <td>-72.405497</td>\n",
       "      <td>...</td>\n",
       "      <td>2021-08-28 05:03:28</td>\n",
       "      <td>2021-08-28 05:04:36</td>\n",
       "      <td>2021-08-28 05:06:06</td>\n",
       "      <td>16197</td>\n",
       "      <td>538835</td>\n",
       "      <td>n5</td>\n",
       "      <td>n3</td>\n",
       "      <td>n1</td>\n",
       "      <td>n4</td>\n",
       "      <td>C</td>\n",
       "    </tr>\n",
       "    <tr>\n",
       "      <th>20</th>\n",
       "      <td>2021-08-28 05:53:24.582</td>\n",
       "      <td>2021-08-28T06:04:24.583</td>\n",
       "      <td>2021-08-28T06:37:12.586</td>\n",
       "      <td>2628</td>\n",
       "      <td>0.000048</td>\n",
       "      <td>1070.0</td>\n",
       "      <td>-1220.0</td>\n",
       "      <td>M4.8</td>\n",
       "      <td>753663</td>\n",
       "      <td>-72.357369</td>\n",
       "      <td>...</td>\n",
       "      <td>2021-08-28 05:53:18</td>\n",
       "      <td>2021-08-28 06:06:22</td>\n",
       "      <td>2021-08-28 06:47:53</td>\n",
       "      <td>130560</td>\n",
       "      <td>62574028</td>\n",
       "      <td>n5</td>\n",
       "      <td>n1</td>\n",
       "      <td>n3</td>\n",
       "      <td>n0</td>\n",
       "      <td>M</td>\n",
       "    </tr>\n",
       "  </tbody>\n",
       "</table>\n",
       "<p>3 rows × 22 columns</p>\n",
       "</div>"
      ],
      "text/plain": [
       "                  start_UTC                 peak_UTC                  end_UTC  \\\n",
       "17  2021-08-22 10:14:42.130  2021-08-22T10:16:22.130  2021-08-22T10:19:10.131   \n",
       "19  2021-08-28 05:00:36.576  2021-08-28T05:01:40.576  2021-08-28T05:03:04.576   \n",
       "20  2021-08-28 05:53:24.582  2021-08-28T06:04:24.583  2021-08-28T06:37:12.586   \n",
       "\n",
       "    duration  GOES_flux  CFL_X_arcsec  CFL_Y_arcsec GOES_class  \\\n",
       "17       268   0.000002         700.0         310.0       C2.0   \n",
       "19       148   0.000007           0.0           0.0       C7.0   \n",
       "20      2628   0.000048        1070.0       -1220.0       M4.8   \n",
       "\n",
       "    LC0_peak_counts_4sec        lon  ...         fermi_tstart  \\\n",
       "17                 17407 -79.479501  ...  2021-08-22 10:17:37   \n",
       "19                118783 -72.405497  ...  2021-08-28 05:03:28   \n",
       "20                753663 -72.357369  ...  2021-08-28 05:53:18   \n",
       "\n",
       "            fermi_tpeak           fermi_tend fermi_peak_counts  \\\n",
       "17  2021-08-22 10:18:14  2021-08-22 10:20:25              6733   \n",
       "19  2021-08-28 05:04:36  2021-08-28 05:06:06             16197   \n",
       "20  2021-08-28 06:06:22  2021-08-28 06:47:53            130560   \n",
       "\n",
       "   fermi_total_counts  sun_det0  sun_det1 sun_det2 sun_det3 goes_class_ind  \n",
       "17             210259        n5        n4       n2       n1              C  \n",
       "19             538835        n5        n3       n1       n4              C  \n",
       "20           62574028        n5        n1       n3       n0              M  \n",
       "\n",
       "[3 rows x 22 columns]"
      ]
     },
     "execution_count": 18,
     "metadata": {},
     "output_type": "execute_result"
    }
   ],
   "source": [
    "flares_of_interest.head(3)"
   ]
  },
  {
   "cell_type": "code",
   "execution_count": 19,
   "id": "d2a03458",
   "metadata": {},
   "outputs": [],
   "source": [
    "#flares_of_interest.to_csv(\"18_flares_of_interest.csv\")"
   ]
  },
  {
   "cell_type": "markdown",
   "id": "0f19a785",
   "metadata": {},
   "source": [
    "## Plot location of SoLO and Earth"
   ]
  },
  {
   "cell_type": "code",
   "execution_count": 20,
   "id": "019ff296",
   "metadata": {},
   "outputs": [],
   "source": [
    "times_flares = parse_time(flares_of_interest[\"start_UTC\"])"
   ]
  },
  {
   "cell_type": "code",
   "execution_count": 21,
   "id": "29bf5924",
   "metadata": {},
   "outputs": [
    {
     "data": {
      "application/vnd.jupyter.widget-view+json": {
       "model_id": "bb8960a18fea4919b7ad1e060210dd61",
       "version_major": 2,
       "version_minor": 0
      },
      "text/plain": [
       "Files Downloaded:   0%|          | 0/1 [00:00<?, ?file/s]"
      ]
     },
     "metadata": {},
     "output_type": "display_data"
    }
   ],
   "source": [
    "kernals = astrospice.registry.get_kernels(\"solar orbiter\", \"predict\")\n",
    "solo_coords = astrospice.generate_coords(\"SOLAR ORBITER\", times_flares)\n",
    "earth_coords = astrospice.generate_coords(\"earth\", times_flares)\n",
    "sun_coords = astrospice.generate_coords(\"sun\", times_flares)\n",
    "\n",
    "solo_coords_hgs = solo_coords.transform_to(frames.HeliographicStonyhurst)\n",
    "earth_coords_hgs = earth_coords.transform_to(frames.HeliographicStonyhurst)\n",
    "sun_coords_hgs = sun_coords.transform_to(frames.HeliographicStonyhurst)"
   ]
  },
  {
   "cell_type": "code",
   "execution_count": 22,
   "id": "4d96e8ea",
   "metadata": {},
   "outputs": [
    {
     "data": {
      "text/plain": [
       "<SkyCoord (HeliographicStonyhurst: obstime=2021-08-22 10:14:42.130, rsun=695700.0 km): (lon, lat, radius) in (deg, deg, km)\n",
       "    (-79.47950134, -1.20182759, 96550261.10490535)>"
      ]
     },
     "execution_count": 22,
     "metadata": {},
     "output_type": "execute_result"
    }
   ],
   "source": [
    "solo_coords_hgs[0]"
   ]
  },
  {
   "cell_type": "code",
   "execution_count": 23,
   "id": "6ab4002e",
   "metadata": {},
   "outputs": [],
   "source": [
    "ticks = dates.date2num(times_flares.datetime)"
   ]
  },
  {
   "cell_type": "code",
   "execution_count": 25,
   "id": "09491666",
   "metadata": {},
   "outputs": [],
   "source": [
    "def make_orbit_plots():\n",
    "    for i in range(len(flares_of_interest)):\n",
    "\n",
    "        solo_pos = solo_coords_hgs[i]\n",
    "        sun_pos = sun_coords_hgs[0]\n",
    "        earth_pos = earth_coords_hgs[0]\n",
    "\n",
    "\n",
    "        fig = plt.figure(figsize=(6, 6))\n",
    "        ax = fig.add_subplot(projection='polar')\n",
    "\n",
    "\n",
    "        ax.plot([solo_pos.lon.to_value(u.rad), sun_pos.lon.to_value(u.rad)], \n",
    "                [solo_pos.radius.to_value(u.AU), sun_pos.radius.to_value(u.AU)], color='k', ls=\"dashed\")\n",
    "\n",
    "        ax.plot([earth_pos.lon.to_value(u.rad), sun_pos.lon.to_value(u.rad)], \n",
    "                [earth_pos.radius.to_value(u.AU), sun_pos.radius.to_value(u.AU)], color='k', ls=\"dashed\")\n",
    "\n",
    "        ax.plot(solo_pos.lon.to(u.rad), \n",
    "                   solo_pos.radius.to_value(u.au), marker='.', ms=20, color='tab:orange', label=\"Solar Orbiter\")\n",
    "\n",
    "        ax.plot(earth_pos.lon.to(u.rad), \n",
    "                   earth_pos.radius.to_value(u.au), ms=12, marker='.', color=\"blue\", label=\"Earth\")\n",
    "\n",
    "        ax.plot(sun_pos.lon.to(u.rad), \n",
    "                sun_pos.radius.to_value(u.AU), marker='o', color='y', label=\"Sun\",  ms=20)\n",
    "\n",
    "\n",
    "\n",
    "        ax.set_theta_zero_location(\"S\")\n",
    "        _ = ax.set_yticklabels([])\n",
    "\n",
    "        ax.set_rlim(0, 1.3)\n",
    "        ax.set_title(\"HGS Positions {:s} UT\".format(solo_pos.obstime.strftime(\"%Y-%m-%d\")))\n",
    "\n",
    "\n",
    "        ax.legend()\n",
    "        plt.tight_layout()\n",
    "        plt.savefig(\"flares_of_interest/orbit_plot_{:d}.png\".format(flares_of_interest.index[i]), dpi=300, \n",
    "                    facecolor='w', bbox_inches=\"tight\")\n",
    "        plt.close()"
   ]
  },
  {
   "cell_type": "code",
   "execution_count": 26,
   "id": "2791b586",
   "metadata": {},
   "outputs": [],
   "source": [
    "# fig = plt.figure(figsize=(6, 6))\n",
    "# ax = fig.add_subplot(projection='polar')\n",
    "\n",
    "# ax.plot((flares_of_interest.iloc[0][\"lon\"])*u.deg.to(u.rad), \n",
    "#        (flares_of_interest.iloc[0][\"rad\"]*u.km).to(u.AU), \n",
    "#         marker='.', ms=20)\n",
    "\n",
    "# ax.plot([0], [1], marker='.', ms=20)\n",
    "# ax.set_theta_zero_location(\"S\")\n",
    "# _ = ax.set_yticklabels([])\n",
    "\n",
    "# ax.set_rlim(0, 1.3)\n",
    "# ax.set_title(\"HGS Positions {:s} UT\".format(solo_pos.obstime.strftime(\"%Y-%m-%d\")))"
   ]
  },
  {
   "cell_type": "code",
   "execution_count": 27,
   "id": "f9460ac0",
   "metadata": {},
   "outputs": [
    {
     "data": {
      "text/plain": [
       "18"
      ]
     },
     "execution_count": 27,
     "metadata": {},
     "output_type": "execute_result"
    }
   ],
   "source": [
    "len(flares_of_interest[[\"start_UTC\", \"GOES_class\"]])"
   ]
  },
  {
   "cell_type": "code",
   "execution_count": 291,
   "id": "cba3d715",
   "metadata": {},
   "outputs": [],
   "source": [
    "#flares_of_interest[[\"start_UTC\", \"GOES_class\"]].to_csv(\"flares_to_get_location.csv\")"
   ]
  },
  {
   "cell_type": "code",
   "execution_count": 28,
   "id": "a7023abb",
   "metadata": {},
   "outputs": [],
   "source": [
    "flare_of_interest_w_locs = pd.read_csv(\"flares_to_get_location_w_locations.csv\")"
   ]
  },
  {
   "cell_type": "code",
   "execution_count": 29,
   "id": "d1a504cb",
   "metadata": {},
   "outputs": [],
   "source": [
    "flares_of_interest[\"location_hgs\"] = flare_of_interest_w_locs[\"location\"].values"
   ]
  },
  {
   "cell_type": "code",
   "execution_count": 30,
   "id": "b9f86236",
   "metadata": {},
   "outputs": [],
   "source": [
    "def make_orbit_plots():\n",
    "    for i in range(len(flares_of_interest)):\n",
    "\n",
    "        l = flares_of_interest.iloc[i][\"location_hgs\"]\n",
    "        date = flares_of_interest.iloc[i][\"start_UTC\"]\n",
    "\n",
    "        map_pos = {\"S\":-1, \"N\":1, \"E\":-1, \"W\":1}\n",
    "        x = l[0:3]\n",
    "        y = l[3:7]\n",
    "\n",
    "        xx = map_pos[x[0]]*int(x[1:])\n",
    "        yy = map_pos[y[0]]*int(y[1:])\n",
    "        print(xx, yy)\n",
    "        coord = SkyCoord(lat=xx*u.deg, lon=yy*u.deg, frame=frames.HeliographicStonyhurst)\n",
    "        coord_hpc = coord.transform_to(frames.Helioprojective(observer=\"earth\", obstime=date))\n",
    "        coord_test = coord_hpc.transform_to(frames.HeliographicStonyhurst)\n",
    "\n",
    "        solo_pos = solo_coords_hgs[i]\n",
    "        sun_pos = sun_coords_hgs[0]\n",
    "        earth_pos = earth_coords_hgs[0]\n",
    "\n",
    "\n",
    "        fig = plt.figure(figsize=(6, 6))\n",
    "        ax = fig.add_subplot(projection='polar')\n",
    "\n",
    "\n",
    "        ax.plot([solo_pos.lon.to_value(u.rad), sun_pos.lon.to_value(u.rad)], \n",
    "                [solo_pos.radius.to_value(u.AU), sun_pos.radius.to_value(u.AU)], color='k', ls=\"dashed\")\n",
    "\n",
    "        ax.plot([earth_pos.lon.to_value(u.rad), sun_pos.lon.to_value(u.rad)], \n",
    "                [earth_pos.radius.to_value(u.AU), sun_pos.radius.to_value(u.AU)], color='k', ls=\"dashed\")\n",
    "\n",
    "        ax.plot(solo_pos.lon.to(u.rad), \n",
    "                   solo_pos.radius.to_value(u.au), marker='.', ms=20, color='tab:orange', label=\"Solar Orbiter\")\n",
    "\n",
    "        ax.plot(earth_pos.lon.to(u.rad), \n",
    "                   earth_pos.radius.to_value(u.au), ms=12, marker='.', color=\"blue\", label=\"Earth\")\n",
    "\n",
    "        ax.plot(sun_pos.lon.to(u.rad), \n",
    "                sun_pos.radius.to_value(u.AU), marker='o', color='y', label=\"Sun\",  ms=20)\n",
    "\n",
    "        ax.plot(coord_test.lon.to(u.rad), \n",
    "                coord_test.radius.to_value(u.au)+0.08, marker='x', color='r')\n",
    "\n",
    "\n",
    "\n",
    "        ax.set_theta_zero_location(\"S\")\n",
    "        _ = ax.set_yticklabels([])\n",
    "\n",
    "        ax.set_rlim(0, 1.3)\n",
    "        ax.set_title(\"HGS Positions {:s} UT\".format(solo_pos.obstime.strftime(\"%Y-%m-%d\")))\n",
    "\n",
    "\n",
    "        ax.legend()\n",
    "        plt.tight_layout()\n",
    "        plt.savefig(\"flares_of_interest/orbit_plot_flare_{:d}.png\".format(flares_of_interest.index[i]), dpi=300, \n",
    "                    facecolor='w', bbox_inches=\"tight\")\n",
    "        plt.close()"
   ]
  },
  {
   "cell_type": "code",
   "execution_count": 31,
   "id": "cf180cac",
   "metadata": {},
   "outputs": [],
   "source": [
    "#make_orbit_plots()"
   ]
  },
  {
   "cell_type": "code",
   "execution_count": 62,
   "id": "b9618432",
   "metadata": {},
   "outputs": [],
   "source": [
    "def get_hpc(loc_hgs, date):\n",
    "    map_pos = {\"S\":-1, \"N\":1, \"E\":-1, \"W\":1}\n",
    "    x = loc_hgs[0:3]\n",
    "    y = loc_hgs[3:7]\n",
    "\n",
    "    xx = map_pos[x[0]]*int(x[1:])\n",
    "    yy = map_pos[y[0]]*int(y[1:])\n",
    "\n",
    "    coord = SkyCoord(lat=xx*u.deg, lon=yy*u.deg, frame=frames.HeliographicStonyhurst)\n",
    "    coord_hpc = coord.transform_to(frames.Helioprojective(observer=\"earth\", obstime=date))\n",
    "\n",
    "    #print(coord_hpc.Tx.value, coord_hpc.Ty.value)\n",
    "    \n",
    "    return round(coord_hpc.Tx.value, 1), round(coord_hpc.Ty.value, 1)"
   ]
  },
  {
   "cell_type": "code",
   "execution_count": 71,
   "id": "49187344",
   "metadata": {},
   "outputs": [],
   "source": [
    "location_hpc = np.array([get_hpc(flares_of_interest.iloc[i][\"location_hgs\"], flares_of_interest.iloc[i][\"start_UTC\"]) \\\n",
    "        for i in range(len(flares_of_interest))])"
   ]
  },
  {
   "cell_type": "code",
   "execution_count": 72,
   "id": "eb3f1d25",
   "metadata": {},
   "outputs": [],
   "source": [
    "flares_of_interest[\"hpc_x\"] = location_hpc[:, 0]\n",
    "flares_of_interest[\"hpc_y\"] = location_hpc[:, 1]"
   ]
  },
  {
   "cell_type": "code",
   "execution_count": 74,
   "id": "1731252b",
   "metadata": {},
   "outputs": [
    {
     "data": {
      "text/html": [
       "<div>\n",
       "<style scoped>\n",
       "    .dataframe tbody tr th:only-of-type {\n",
       "        vertical-align: middle;\n",
       "    }\n",
       "\n",
       "    .dataframe tbody tr th {\n",
       "        vertical-align: top;\n",
       "    }\n",
       "\n",
       "    .dataframe thead th {\n",
       "        text-align: right;\n",
       "    }\n",
       "</style>\n",
       "<table border=\"1\" class=\"dataframe\">\n",
       "  <thead>\n",
       "    <tr style=\"text-align: right;\">\n",
       "      <th></th>\n",
       "      <th>start_UTC</th>\n",
       "      <th>hpc_x</th>\n",
       "      <th>hpc_y</th>\n",
       "      <th>GOES_class</th>\n",
       "    </tr>\n",
       "  </thead>\n",
       "  <tbody>\n",
       "    <tr>\n",
       "      <th>17</th>\n",
       "      <td>2021-08-22 10:14:42.130</td>\n",
       "      <td>-827.0</td>\n",
       "      <td>264.6</td>\n",
       "      <td>C2.0</td>\n",
       "    </tr>\n",
       "    <tr>\n",
       "      <th>19</th>\n",
       "      <td>2021-08-28 05:00:36.576</td>\n",
       "      <td>-85.4</td>\n",
       "      <td>-587.8</td>\n",
       "      <td>C7.0</td>\n",
       "    </tr>\n",
       "    <tr>\n",
       "      <th>20</th>\n",
       "      <td>2021-08-28 05:53:24.582</td>\n",
       "      <td>14.8</td>\n",
       "      <td>-534.7</td>\n",
       "      <td>M4.8</td>\n",
       "    </tr>\n",
       "    <tr>\n",
       "      <th>26</th>\n",
       "      <td>2021-09-22 20:08:40.073</td>\n",
       "      <td>-401.2</td>\n",
       "      <td>-524.5</td>\n",
       "      <td>C1.1</td>\n",
       "    </tr>\n",
       "    <tr>\n",
       "      <th>35</th>\n",
       "      <td>2021-10-26 02:44:51.577</td>\n",
       "      <td>-935.9</td>\n",
       "      <td>229.8</td>\n",
       "      <td>M1.3</td>\n",
       "    </tr>\n",
       "    <tr>\n",
       "      <th>36</th>\n",
       "      <td>2021-10-26 05:59:23.597</td>\n",
       "      <td>-931.7</td>\n",
       "      <td>246.1</td>\n",
       "      <td>C7.8</td>\n",
       "    </tr>\n",
       "    <tr>\n",
       "      <th>47</th>\n",
       "      <td>2021-10-28 10:27:27.418</td>\n",
       "      <td>0.0</td>\n",
       "      <td>-552.2</td>\n",
       "      <td>M2.1</td>\n",
       "    </tr>\n",
       "    <tr>\n",
       "      <th>52</th>\n",
       "      <td>2021-11-01 01:26:04.049</td>\n",
       "      <td>-332.3</td>\n",
       "      <td>637.7</td>\n",
       "      <td>M1.6</td>\n",
       "    </tr>\n",
       "    <tr>\n",
       "      <th>146</th>\n",
       "      <td>2022-02-03 20:39:24.549</td>\n",
       "      <td>823.8</td>\n",
       "      <td>300.3</td>\n",
       "      <td>C1.4</td>\n",
       "    </tr>\n",
       "    <tr>\n",
       "      <th>163</th>\n",
       "      <td>2022-03-02 17:28:48.149</td>\n",
       "      <td>-454.9</td>\n",
       "      <td>352.8</td>\n",
       "      <td>M2.0</td>\n",
       "    </tr>\n",
       "    <tr>\n",
       "      <th>166</th>\n",
       "      <td>2022-03-11 22:09:44.131</td>\n",
       "      <td>768.2</td>\n",
       "      <td>-386.6</td>\n",
       "      <td>M2.3</td>\n",
       "    </tr>\n",
       "    <tr>\n",
       "      <th>168</th>\n",
       "      <td>2022-03-13 03:05:07.912</td>\n",
       "      <td>509.6</td>\n",
       "      <td>550.5</td>\n",
       "      <td>C5.0</td>\n",
       "    </tr>\n",
       "    <tr>\n",
       "      <th>181</th>\n",
       "      <td>2022-03-28 10:31:44.251</td>\n",
       "      <td>65.3</td>\n",
       "      <td>341.5</td>\n",
       "      <td>M4.1</td>\n",
       "    </tr>\n",
       "    <tr>\n",
       "      <th>197</th>\n",
       "      <td>2022-04-02 13:01:04.427</td>\n",
       "      <td>871.7</td>\n",
       "      <td>238.3</td>\n",
       "      <td>M3.9</td>\n",
       "    </tr>\n",
       "    <tr>\n",
       "      <th>198</th>\n",
       "      <td>2022-04-02 15:32:48.443</td>\n",
       "      <td>915.3</td>\n",
       "      <td>236.6</td>\n",
       "      <td>M4.3</td>\n",
       "    </tr>\n",
       "    <tr>\n",
       "      <th>199</th>\n",
       "      <td>2022-04-03 12:36:12.477</td>\n",
       "      <td>882.9</td>\n",
       "      <td>307.3</td>\n",
       "      <td>C6.5</td>\n",
       "    </tr>\n",
       "    <tr>\n",
       "      <th>203</th>\n",
       "      <td>2022-04-19 20:28:32.133</td>\n",
       "      <td>834.5</td>\n",
       "      <td>-457.3</td>\n",
       "      <td>M3.7</td>\n",
       "    </tr>\n",
       "    <tr>\n",
       "      <th>213</th>\n",
       "      <td>2022-04-30 18:52:07.633</td>\n",
       "      <td>914.8</td>\n",
       "      <td>264.1</td>\n",
       "      <td>M2.0</td>\n",
       "    </tr>\n",
       "  </tbody>\n",
       "</table>\n",
       "</div>"
      ],
      "text/plain": [
       "                   start_UTC  hpc_x  hpc_y GOES_class\n",
       "17   2021-08-22 10:14:42.130 -827.0  264.6       C2.0\n",
       "19   2021-08-28 05:00:36.576  -85.4 -587.8       C7.0\n",
       "20   2021-08-28 05:53:24.582   14.8 -534.7       M4.8\n",
       "26   2021-09-22 20:08:40.073 -401.2 -524.5       C1.1\n",
       "35   2021-10-26 02:44:51.577 -935.9  229.8       M1.3\n",
       "36   2021-10-26 05:59:23.597 -931.7  246.1       C7.8\n",
       "47   2021-10-28 10:27:27.418    0.0 -552.2       M2.1\n",
       "52   2021-11-01 01:26:04.049 -332.3  637.7       M1.6\n",
       "146  2022-02-03 20:39:24.549  823.8  300.3       C1.4\n",
       "163  2022-03-02 17:28:48.149 -454.9  352.8       M2.0\n",
       "166  2022-03-11 22:09:44.131  768.2 -386.6       M2.3\n",
       "168  2022-03-13 03:05:07.912  509.6  550.5       C5.0\n",
       "181  2022-03-28 10:31:44.251   65.3  341.5       M4.1\n",
       "197  2022-04-02 13:01:04.427  871.7  238.3       M3.9\n",
       "198  2022-04-02 15:32:48.443  915.3  236.6       M4.3\n",
       "199  2022-04-03 12:36:12.477  882.9  307.3       C6.5\n",
       "203  2022-04-19 20:28:32.133  834.5 -457.3       M3.7\n",
       "213  2022-04-30 18:52:07.633  914.8  264.1       M2.0"
      ]
     },
     "execution_count": 74,
     "metadata": {},
     "output_type": "execute_result"
    }
   ],
   "source": [
    "flares_of_interest[[\"start_UTC\", \"hpc_x\", \"hpc_y\", \"GOES_class\"]]"
   ]
  },
  {
   "cell_type": "code",
   "execution_count": 80,
   "id": "74ce6b74",
   "metadata": {},
   "outputs": [],
   "source": [
    "earth_flare_solo_deg = []\n",
    "for i in range(len(flares_of_interest)):\n",
    "    flare_aux=jreq.request_flare_light_time_and_angle(utc=flares_of_interest.iloc[i][\"start_UTC\"], \n",
    "                                                     flare_x=flares_of_interest.iloc[i][\"hpc_x\"], \n",
    "                                                     flare_y=flares_of_interest.iloc[i][\"hpc_y\"], \n",
    "                                                     observer='stix')\n",
    "    earth_flare_solo_deg.append(flare_aux[\"earth_flare_solo_deg\"])"
   ]
  },
  {
   "cell_type": "code",
   "execution_count": 81,
   "id": "ce9db106",
   "metadata": {},
   "outputs": [],
   "source": [
    "flares_of_interest[\"earth_flare_solo_deg\"] = earth_flare_solo_deg"
   ]
  },
  {
   "cell_type": "code",
   "execution_count": 84,
   "id": "45ec33a6",
   "metadata": {},
   "outputs": [],
   "source": [
    "# flares_of_interest.to_csv(\"flare_ana_18_flares.csv\")"
   ]
  },
  {
   "cell_type": "code",
   "execution_count": 83,
   "id": "060b031b",
   "metadata": {},
   "outputs": [
    {
     "data": {
      "text/html": [
       "<div>\n",
       "<style scoped>\n",
       "    .dataframe tbody tr th:only-of-type {\n",
       "        vertical-align: middle;\n",
       "    }\n",
       "\n",
       "    .dataframe tbody tr th {\n",
       "        vertical-align: top;\n",
       "    }\n",
       "\n",
       "    .dataframe thead th {\n",
       "        text-align: right;\n",
       "    }\n",
       "</style>\n",
       "<table border=\"1\" class=\"dataframe\">\n",
       "  <thead>\n",
       "    <tr style=\"text-align: right;\">\n",
       "      <th></th>\n",
       "      <th>start_UTC</th>\n",
       "      <th>peak_UTC</th>\n",
       "      <th>end_UTC</th>\n",
       "      <th>duration</th>\n",
       "      <th>GOES_flux</th>\n",
       "      <th>CFL_X_arcsec</th>\n",
       "      <th>CFL_Y_arcsec</th>\n",
       "      <th>GOES_class</th>\n",
       "      <th>LC0_peak_counts_4sec</th>\n",
       "      <th>lon</th>\n",
       "      <th>...</th>\n",
       "      <th>fermi_total_counts</th>\n",
       "      <th>sun_det0</th>\n",
       "      <th>sun_det1</th>\n",
       "      <th>sun_det2</th>\n",
       "      <th>sun_det3</th>\n",
       "      <th>goes_class_ind</th>\n",
       "      <th>location_hgs</th>\n",
       "      <th>hpc_x</th>\n",
       "      <th>hpc_y</th>\n",
       "      <th>earth_flare_solo_deg</th>\n",
       "    </tr>\n",
       "  </thead>\n",
       "  <tbody>\n",
       "    <tr>\n",
       "      <th>17</th>\n",
       "      <td>2021-08-22 10:14:42.130</td>\n",
       "      <td>2021-08-22T10:16:22.130</td>\n",
       "      <td>2021-08-22T10:19:10.131</td>\n",
       "      <td>268</td>\n",
       "      <td>0.000002</td>\n",
       "      <td>700.0</td>\n",
       "      <td>310.0</td>\n",
       "      <td>C2.0</td>\n",
       "      <td>17407</td>\n",
       "      <td>-79.479501</td>\n",
       "      <td>...</td>\n",
       "      <td>210259</td>\n",
       "      <td>n5</td>\n",
       "      <td>n4</td>\n",
       "      <td>n2</td>\n",
       "      <td>n1</td>\n",
       "      <td>C</td>\n",
       "      <td>N19E67</td>\n",
       "      <td>-827.0</td>\n",
       "      <td>264.6</td>\n",
       "      <td>79.72396</td>\n",
       "    </tr>\n",
       "    <tr>\n",
       "      <th>19</th>\n",
       "      <td>2021-08-28 05:00:36.576</td>\n",
       "      <td>2021-08-28T05:01:40.576</td>\n",
       "      <td>2021-08-28T05:03:04.576</td>\n",
       "      <td>148</td>\n",
       "      <td>0.000007</td>\n",
       "      <td>0.0</td>\n",
       "      <td>0.0</td>\n",
       "      <td>C7.0</td>\n",
       "      <td>118783</td>\n",
       "      <td>-72.405497</td>\n",
       "      <td>...</td>\n",
       "      <td>538835</td>\n",
       "      <td>n5</td>\n",
       "      <td>n3</td>\n",
       "      <td>n1</td>\n",
       "      <td>n4</td>\n",
       "      <td>C</td>\n",
       "      <td>S31E06</td>\n",
       "      <td>-85.4</td>\n",
       "      <td>-587.8</td>\n",
       "      <td>72.83580</td>\n",
       "    </tr>\n",
       "  </tbody>\n",
       "</table>\n",
       "<p>2 rows × 26 columns</p>\n",
       "</div>"
      ],
      "text/plain": [
       "                  start_UTC                 peak_UTC                  end_UTC  \\\n",
       "17  2021-08-22 10:14:42.130  2021-08-22T10:16:22.130  2021-08-22T10:19:10.131   \n",
       "19  2021-08-28 05:00:36.576  2021-08-28T05:01:40.576  2021-08-28T05:03:04.576   \n",
       "\n",
       "    duration  GOES_flux  CFL_X_arcsec  CFL_Y_arcsec GOES_class  \\\n",
       "17       268   0.000002         700.0         310.0       C2.0   \n",
       "19       148   0.000007           0.0           0.0       C7.0   \n",
       "\n",
       "    LC0_peak_counts_4sec        lon  ...  fermi_total_counts  sun_det0  \\\n",
       "17                 17407 -79.479501  ...              210259        n5   \n",
       "19                118783 -72.405497  ...              538835        n5   \n",
       "\n",
       "   sun_det1 sun_det2 sun_det3  goes_class_ind  location_hgs  hpc_x  hpc_y  \\\n",
       "17       n4       n2       n1               C        N19E67 -827.0  264.6   \n",
       "19       n3       n1       n4               C        S31E06  -85.4 -587.8   \n",
       "\n",
       "   earth_flare_solo_deg  \n",
       "17             79.72396  \n",
       "19             72.83580  \n",
       "\n",
       "[2 rows x 26 columns]"
      ]
     },
     "execution_count": 83,
     "metadata": {},
     "output_type": "execute_result"
    }
   ],
   "source": [
    "flares_of_interest.head(2)"
   ]
  },
  {
   "cell_type": "code",
   "execution_count": null,
   "id": "d1133050",
   "metadata": {},
   "outputs": [],
   "source": []
  },
  {
   "cell_type": "code",
   "execution_count": null,
   "id": "55e9704b",
   "metadata": {},
   "outputs": [],
   "source": []
  }
 ],
 "metadata": {
  "kernelspec": {
   "display_name": "Python 3 (ipykernel)",
   "language": "python",
   "name": "python3"
  },
  "language_info": {
   "codemirror_mode": {
    "name": "ipython",
    "version": 3
   },
   "file_extension": ".py",
   "mimetype": "text/x-python",
   "name": "python",
   "nbconvert_exporter": "python",
   "pygments_lexer": "ipython3",
   "version": "3.10.5"
  }
 },
 "nbformat": 4,
 "nbformat_minor": 5
}
