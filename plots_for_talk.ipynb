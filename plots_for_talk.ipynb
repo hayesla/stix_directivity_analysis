{
 "cells": [
  {
   "cell_type": "code",
   "execution_count": 5,
   "id": "4fcbdbc8",
   "metadata": {},
   "outputs": [],
   "source": [
    "import matplotlib.pyplot as plt \n",
    "import numpy as np \n",
    "import pandas as pd \n",
    "from astropy import units as u \n",
    "from astropy.time import Time, TimeDelta\n",
    "import astrospice\n",
    "from sunpy.coordinates import frames, get_horizons_coord"
   ]
  },
  {
   "cell_type": "code",
   "execution_count": null,
   "id": "f32fc3ca",
   "metadata": {},
   "outputs": [],
   "source": [
    "tstart = Time(\"2021-01-01T00:00:00.000\")\n",
    "tend = Time(\"2022-06-01T00:00:00.000\")\n",
    "times = Time(np.arange(tstart, tend, TimeDelta(1*u.day)))"
   ]
  }
 ],
 "metadata": {
  "kernelspec": {
   "display_name": "Python 3 (ipykernel)",
   "language": "python",
   "name": "python3"
  },
  "language_info": {
   "codemirror_mode": {
    "name": "ipython",
    "version": 3
   },
   "file_extension": ".py",
   "mimetype": "text/x-python",
   "name": "python",
   "nbconvert_exporter": "python",
   "pygments_lexer": "ipython3",
   "version": "3.10.5"
  }
 },
 "nbformat": 4,
 "nbformat_minor": 5
}
